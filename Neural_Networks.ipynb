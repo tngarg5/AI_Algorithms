{
  "nbformat": 4,
  "nbformat_minor": 0,
  "metadata": {
    "colab": {
      "provenance": []
    },
    "kernelspec": {
      "name": "python3",
      "display_name": "Python 3"
    },
    "language_info": {
      "name": "python"
    }
  },
  "cells": [
    {
      "cell_type": "code",
      "source": [
        "import numpy as np\n"
      ],
      "metadata": {
        "id": "i87L2zlnKPNk"
      },
      "execution_count": 2,
      "outputs": []
    },
    {
      "cell_type": "markdown",
      "source": [
        "# 1) Perceptron\n",
        "* threshold logical unit or linear threshold logical unit\n",
        "* each input has weight \n",
        "* weighted sum is computed and then passed to step function\n",
        "* perceptron with single output => binary classification\n",
        "* training : finding right weights for the function\n",
        "* they are unable to learn complex patterns as they have single decision boundry(just like logistic regression)\n"
      ],
      "metadata": {
        "id": "cKCZaxwZHWCP"
      }
    },
    {
      "cell_type": "code",
      "execution_count": 3,
      "metadata": {
        "id": "uADBJvEl6RFQ",
        "colab": {
          "base_uri": "https://localhost:8080/"
        },
        "outputId": "6d68a1ca-aabc-4f84-b4b0-8a1a9bbcd67f"
      },
      "outputs": [
        {
          "output_type": "execute_result",
          "data": {
            "text/plain": [
              "array([0])"
            ]
          },
          "metadata": {},
          "execution_count": 3
        }
      ],
      "source": [
        "#Perceptron\n",
        "from sklearn.datasets import load_iris\n",
        "from sklearn.linear_model import Perceptron\n",
        "\n",
        "iris = load_iris()\n",
        "X = iris.data[:,(2,3)] # petal length, petal width\n",
        "y = (iris.target == 0).astype(int)\n",
        "\n",
        "per_clf = Perceptron()\n",
        "per_clf.fit(X,y)\n",
        "\n",
        "y_pred = per_clf.predict([[2,0.5]])\n",
        "y_pred"
      ]
    },
    {
      "cell_type": "markdown",
      "source": [
        "# MLP : multi layer perceptrons and back propogation\n",
        "* 1 input layer, many hidden layers, 1 output layer\n",
        "* lower layers : closer to input layers, upper layers: closer to output layers\n",
        "* Back propogatio training algo:\n",
        "  1. handles one mini-batch at a time : epoch\n",
        " 2. each batch is passed to input layer and then to hidden layers => results computed => again passed to next layer : **Forward Pass**; **Result are stored for future**: used during backward pass\n",
        " 3. Network output error is measured ( using loss function desired and actual output are compared )\n",
        " 4. Applys chain rule to find contribution of error and uses results to tweak the weights of original equations.\n",
        "\n",
        "### Logistic function : sigmoid ( for binary)\n",
        "Step function contains only flat values, using sigmoid we have graidents also.\n",
        "\n",
        "\n"
      ],
      "metadata": {
        "id": "pbA-o0t_Op8K"
      }
    },
    {
      "cell_type": "markdown",
      "source": [
        "* **Multilabel binary classification**  \n",
        "  1. (spam or not spam), (urgent or not urgent) : different binary labels\n",
        "  2. **Logistic activation** function with 1 neuron for each label\n",
        "  3. output probablities need not be sum upto 1\n",
        "* **Multiclass classification**\n",
        "  1. many classes present for same label\n",
        "  2. **softmax activation** function with 1 neuron for each class.\n",
        "  3. add of probablities is 1 and all are between 0 and 1\n",
        "\n",
        "  *we are prediction probablity distribution*\n"
      ],
      "metadata": {
        "id": "r4eAiBG1WLga"
      }
    },
    {
      "cell_type": "markdown",
      "source": [
        "# Keras and TensorFlow\n",
        "* high level deep learning API that allows to build , train, evaluate and execute all forms of neural networks.\n",
        "* it relies on computational backend to perform heavy computations\n",
        "* Library : TensorFlow ( as backend)\n",
        "* PyTorch ( facebook's library for deep learning)\n",
        "*  "
      ],
      "metadata": {
        "id": "IFtMBi0uYHxz"
      }
    },
    {
      "cell_type": "code",
      "source": [
        "import tensorflow as tf\n",
        "print(tf.__version__)"
      ],
      "metadata": {
        "colab": {
          "base_uri": "https://localhost:8080/"
        },
        "id": "AnfB-ZkiKdOG",
        "outputId": "2463f8c3-9a66-4461-f276-d41e9890ceb2"
      },
      "execution_count": 4,
      "outputs": [
        {
          "output_type": "stream",
          "name": "stdout",
          "text": [
            "2.9.2\n"
          ]
        }
      ]
    },
    {
      "cell_type": "code",
      "source": [
        "from tensorflow import keras\n",
        "keras.__version__"
      ],
      "metadata": {
        "colab": {
          "base_uri": "https://localhost:8080/",
          "height": 36
        },
        "id": "rZMRoxmYaWIr",
        "outputId": "0118bb61-b743-4008-cee4-b3c3fc3921cd"
      },
      "execution_count": 5,
      "outputs": [
        {
          "output_type": "execute_result",
          "data": {
            "text/plain": [
              "'2.9.0'"
            ],
            "application/vnd.google.colaboratory.intrinsic+json": {
              "type": "string"
            }
          },
          "metadata": {},
          "execution_count": 5
        }
      ]
    },
    {
      "cell_type": "markdown",
      "source": [
        "# Image Classifier using Sequential API"
      ],
      "metadata": {
        "id": "ch1oo2kOa53d"
      }
    },
    {
      "cell_type": "code",
      "source": [
        "# load fashion MNIST\n",
        "\n",
        "fashion_mnist = keras.datasets.fashion_mnist\n"
      ],
      "metadata": {
        "id": "FdFT_xJnasA1"
      },
      "execution_count": 6,
      "outputs": []
    },
    {
      "cell_type": "code",
      "source": [
        "(X_train_full, y_train_full), (X_test, y_test) = fashion_mnist.load_data()"
      ],
      "metadata": {
        "colab": {
          "base_uri": "https://localhost:8080/"
        },
        "id": "6w1re2pabY6L",
        "outputId": "a06c720d-2eac-4cf2-b17f-a572ca7a8a22"
      },
      "execution_count": 7,
      "outputs": [
        {
          "output_type": "stream",
          "name": "stdout",
          "text": [
            "Downloading data from https://storage.googleapis.com/tensorflow/tf-keras-datasets/train-labels-idx1-ubyte.gz\n",
            "29515/29515 [==============================] - 0s 0us/step\n",
            "Downloading data from https://storage.googleapis.com/tensorflow/tf-keras-datasets/train-images-idx3-ubyte.gz\n",
            "26421880/26421880 [==============================] - 0s 0us/step\n",
            "Downloading data from https://storage.googleapis.com/tensorflow/tf-keras-datasets/t10k-labels-idx1-ubyte.gz\n",
            "5148/5148 [==============================] - 0s 0us/step\n",
            "Downloading data from https://storage.googleapis.com/tensorflow/tf-keras-datasets/t10k-images-idx3-ubyte.gz\n",
            "4422102/4422102 [==============================] - 0s 0us/step\n"
          ]
        }
      ]
    },
    {
      "cell_type": "code",
      "source": [
        "X_train_full.shape"
      ],
      "metadata": {
        "colab": {
          "base_uri": "https://localhost:8080/"
        },
        "id": "g-RXmvAEf4kG",
        "outputId": "3d81313c-90d1-4394-c18a-fb3f7699475a"
      },
      "execution_count": 8,
      "outputs": [
        {
          "output_type": "execute_result",
          "data": {
            "text/plain": [
              "(60000, 28, 28)"
            ]
          },
          "metadata": {},
          "execution_count": 8
        }
      ]
    },
    {
      "cell_type": "code",
      "source": [
        "X_train_full.dtype"
      ],
      "metadata": {
        "colab": {
          "base_uri": "https://localhost:8080/"
        },
        "id": "XEhNrzwSgHlA",
        "outputId": "5436b19d-01c2-452e-a8b7-fcfb40797c81"
      },
      "execution_count": 9,
      "outputs": [
        {
          "output_type": "execute_result",
          "data": {
            "text/plain": [
              "dtype('uint8')"
            ]
          },
          "metadata": {},
          "execution_count": 9
        }
      ]
    },
    {
      "cell_type": "code",
      "source": [
        "# 2) create validation set\n",
        "# we will train using GD so we should scale input features(dividing by 255.0)\n",
        "x_valid, x_train = X_train_full[:5000]/255.0, X_train_full[5000:]/255.0\n",
        "y_valid, y_train = y_train_full[:5000], y_train_full[5000:]"
      ],
      "metadata": {
        "id": "d1dXM1mFgJQj"
      },
      "execution_count": 10,
      "outputs": []
    },
    {
      "cell_type": "code",
      "source": [
        "# class names\n",
        "class_names = ['T-shirt/top', 'Trouser','Pullover','Dress','Coat','Sandal','Shirt','Sneaker','Bag','Ankle boot']"
      ],
      "metadata": {
        "id": "J4ic5drWhJjM"
      },
      "execution_count": 11,
      "outputs": []
    },
    {
      "cell_type": "code",
      "source": [
        "class_names[y_train[0]]"
      ],
      "metadata": {
        "colab": {
          "base_uri": "https://localhost:8080/",
          "height": 36
        },
        "id": "Zrl9UHcfiY0U",
        "outputId": "8a026125-0340-4c99-ceba-3b641afd0bb7"
      },
      "execution_count": 12,
      "outputs": [
        {
          "output_type": "execute_result",
          "data": {
            "text/plain": [
              "'Coat'"
            ],
            "application/vnd.google.colaboratory.intrinsic+json": {
              "type": "string"
            }
          },
          "metadata": {},
          "execution_count": 12
        }
      ]
    },
    {
      "cell_type": "markdown",
      "source": [
        "# Creating Model using Sequential API\n",
        "1. Sequential API: It is simplest kind of Keras model for neural networks that are composed of single stack of layers connected sequentially.\n",
        "2. Flatten Layer: it converts each input into 1D array ie reshapes input.\n",
        "      * we need to specify input shape as it is very first layer without batch_size\n",
        "      * simple preprocessing step\n",
        "3. Dense Layer : manages own weight\n",
        "      * contains all connection weights between neurons and their inputs\n",
        "      * also manages vector bias\n",
        "      * keeps weighted sum"
      ],
      "metadata": {
        "id": "svC_7yfVikxx"
      }
    },
    {
      "cell_type": "code",
      "source": [
        "# HIDDEN LAYERS =2 \n",
        "\n",
        "# \n",
        "model = keras.models.Sequential()\n",
        "model.add(keras.layers.Flatten(input_shape=[28,28]))\n",
        "model.add(keras.layers.Dense(300,activation='relu'))\n",
        "model.add(keras.layers.Dense(100,activation='relu'))\n",
        "model.add(keras.layers.Dense(10,activation='softmax'))"
      ],
      "metadata": {
        "id": "8Y6CCc5hikiE"
      },
      "execution_count": 13,
      "outputs": []
    },
    {
      "cell_type": "code",
      "source": [
        "model.summary()"
      ],
      "metadata": {
        "colab": {
          "base_uri": "https://localhost:8080/"
        },
        "id": "QkhfMmYhicmX",
        "outputId": "098ab127-e1f1-40e6-a45b-db6b93c1fed4"
      },
      "execution_count": 14,
      "outputs": [
        {
          "output_type": "stream",
          "name": "stdout",
          "text": [
            "Model: \"sequential\"\n",
            "_________________________________________________________________\n",
            " Layer (type)                Output Shape              Param #   \n",
            "=================================================================\n",
            " flatten (Flatten)           (None, 784)               0         \n",
            "                                                                 \n",
            " dense (Dense)               (None, 300)               235500    \n",
            "                                                                 \n",
            " dense_1 (Dense)             (None, 100)               30100     \n",
            "                                                                 \n",
            " dense_2 (Dense)             (None, 10)                1010      \n",
            "                                                                 \n",
            "=================================================================\n",
            "Total params: 266,610\n",
            "Trainable params: 266,610\n",
            "Non-trainable params: 0\n",
            "_________________________________________________________________\n"
          ]
        }
      ]
    },
    {
      "cell_type": "markdown",
      "source": [
        "Dense layers have a lot of parameters: 1st hidden layer has 784 * 300 connection weights + 300 bias terms => this gives 235500 parameters"
      ],
      "metadata": {
        "id": "ri7VoexMoz3g"
      }
    },
    {
      "cell_type": "code",
      "source": [
        "# getting model layers\n",
        "model.layers"
      ],
      "metadata": {
        "colab": {
          "base_uri": "https://localhost:8080/"
        },
        "id": "9AW5LaHCoef1",
        "outputId": "9cabfb22-59e4-4ef9-b3c7-902761a2d8bf"
      },
      "execution_count": 15,
      "outputs": [
        {
          "output_type": "execute_result",
          "data": {
            "text/plain": [
              "[<keras.layers.reshaping.flatten.Flatten at 0x7f72fb668e50>,\n",
              " <keras.layers.core.dense.Dense at 0x7f72fb668c40>,\n",
              " <keras.layers.core.dense.Dense at 0x7f72fb69eaf0>,\n",
              " <keras.layers.core.dense.Dense at 0x7f72fb6681c0>]"
            ]
          },
          "metadata": {},
          "execution_count": 15
        }
      ]
    },
    {
      "cell_type": "code",
      "source": [
        "hidden1 = model.layers[1]\n",
        "hidden1.name"
      ],
      "metadata": {
        "colab": {
          "base_uri": "https://localhost:8080/",
          "height": 36
        },
        "id": "gaBnx53crNGx",
        "outputId": "1fb6f961-cf23-4336-e58e-8c50b4d274a1"
      },
      "execution_count": 16,
      "outputs": [
        {
          "output_type": "execute_result",
          "data": {
            "text/plain": [
              "'dense'"
            ],
            "application/vnd.google.colaboratory.intrinsic+json": {
              "type": "string"
            }
          },
          "metadata": {},
          "execution_count": 16
        }
      ]
    },
    {
      "cell_type": "code",
      "source": [
        "weights,biases = hidden1.get_weights()"
      ],
      "metadata": {
        "id": "d1oZGEEOrhDJ"
      },
      "execution_count": 17,
      "outputs": []
    },
    {
      "cell_type": "markdown",
      "source": [
        "Random weights assigned to the hidden1 and biases are initiLIZED to 0. "
      ],
      "metadata": {
        "id": "kYxmY4lwS8WO"
      }
    },
    {
      "cell_type": "code",
      "source": [
        "weights"
      ],
      "metadata": {
        "colab": {
          "base_uri": "https://localhost:8080/"
        },
        "id": "vs0rq3RSSLbX",
        "outputId": "f67afb4d-e13b-4f4a-c5a3-d27a13081700"
      },
      "execution_count": 18,
      "outputs": [
        {
          "output_type": "execute_result",
          "data": {
            "text/plain": [
              "array([[ 0.02670767,  0.0411258 ,  0.00581606, ...,  0.00547947,\n",
              "         0.04621855,  0.04993323],\n",
              "       [ 0.05447663,  0.04348813, -0.0082235 , ..., -0.03247423,\n",
              "         0.02804069, -0.042455  ],\n",
              "       [ 0.01498049, -0.03854303, -0.01933719, ..., -0.03973505,\n",
              "         0.02886321, -0.04495928],\n",
              "       ...,\n",
              "       [ 0.03371145,  0.03889795, -0.01030625, ...,  0.0375758 ,\n",
              "        -0.01343309,  0.01312268],\n",
              "       [-0.03463593, -0.00516649,  0.05153416, ...,  0.02523927,\n",
              "         0.0073425 ,  0.03712165],\n",
              "       [ 0.00502326, -0.03334676,  0.01302418, ...,  0.03866699,\n",
              "         0.05014784, -0.00498413]], dtype=float32)"
            ]
          },
          "metadata": {},
          "execution_count": 18
        }
      ]
    },
    {
      "cell_type": "code",
      "source": [
        "biases"
      ],
      "metadata": {
        "colab": {
          "base_uri": "https://localhost:8080/"
        },
        "id": "vUUyCCiwSNGZ",
        "outputId": "f3f7bd86-9693-451e-c02f-e685f5f6185e"
      },
      "execution_count": 19,
      "outputs": [
        {
          "output_type": "execute_result",
          "data": {
            "text/plain": [
              "array([0., 0., 0., 0., 0., 0., 0., 0., 0., 0., 0., 0., 0., 0., 0., 0., 0.,\n",
              "       0., 0., 0., 0., 0., 0., 0., 0., 0., 0., 0., 0., 0., 0., 0., 0., 0.,\n",
              "       0., 0., 0., 0., 0., 0., 0., 0., 0., 0., 0., 0., 0., 0., 0., 0., 0.,\n",
              "       0., 0., 0., 0., 0., 0., 0., 0., 0., 0., 0., 0., 0., 0., 0., 0., 0.,\n",
              "       0., 0., 0., 0., 0., 0., 0., 0., 0., 0., 0., 0., 0., 0., 0., 0., 0.,\n",
              "       0., 0., 0., 0., 0., 0., 0., 0., 0., 0., 0., 0., 0., 0., 0., 0., 0.,\n",
              "       0., 0., 0., 0., 0., 0., 0., 0., 0., 0., 0., 0., 0., 0., 0., 0., 0.,\n",
              "       0., 0., 0., 0., 0., 0., 0., 0., 0., 0., 0., 0., 0., 0., 0., 0., 0.,\n",
              "       0., 0., 0., 0., 0., 0., 0., 0., 0., 0., 0., 0., 0., 0., 0., 0., 0.,\n",
              "       0., 0., 0., 0., 0., 0., 0., 0., 0., 0., 0., 0., 0., 0., 0., 0., 0.,\n",
              "       0., 0., 0., 0., 0., 0., 0., 0., 0., 0., 0., 0., 0., 0., 0., 0., 0.,\n",
              "       0., 0., 0., 0., 0., 0., 0., 0., 0., 0., 0., 0., 0., 0., 0., 0., 0.,\n",
              "       0., 0., 0., 0., 0., 0., 0., 0., 0., 0., 0., 0., 0., 0., 0., 0., 0.,\n",
              "       0., 0., 0., 0., 0., 0., 0., 0., 0., 0., 0., 0., 0., 0., 0., 0., 0.,\n",
              "       0., 0., 0., 0., 0., 0., 0., 0., 0., 0., 0., 0., 0., 0., 0., 0., 0.,\n",
              "       0., 0., 0., 0., 0., 0., 0., 0., 0., 0., 0., 0., 0., 0., 0., 0., 0.,\n",
              "       0., 0., 0., 0., 0., 0., 0., 0., 0., 0., 0., 0., 0., 0., 0., 0., 0.,\n",
              "       0., 0., 0., 0., 0., 0., 0., 0., 0., 0., 0.], dtype=float32)"
            ]
          },
          "metadata": {},
          "execution_count": 19
        }
      ]
    },
    {
      "cell_type": "markdown",
      "source": [
        "# Compiling a model"
      ],
      "metadata": {
        "id": "npUgX8-ZTi_D"
      }
    },
    {
      "cell_type": "code",
      "source": [
        "model.compile(loss='sparse_categorical_crossentropy',optimizer='sgd', metrics=['accuracy'])"
      ],
      "metadata": {
        "id": "-KrZQ8MKSOF4"
      },
      "execution_count": 20,
      "outputs": []
    },
    {
      "cell_type": "markdown",
      "source": [
        "* sparse categorical  cross entropy : we use this loss because we have sparse labels. and classes are exclusive.\n",
        "* sgd means we will train the model using simple stochastic graient descent \n",
        "* accuracy means we are measuring the accuracy during training and evaluation"
      ],
      "metadata": {
        "id": "_oVXxr7nUNrA"
      }
    },
    {
      "cell_type": "markdown",
      "source": [
        "# Training and evaluating the model"
      ],
      "metadata": {
        "id": "oygPYhb7V8Xk"
      }
    },
    {
      "cell_type": "code",
      "source": [
        "history = model.fit(x_train,y_train, epochs =10, validation_data=(x_valid, y_valid))"
      ],
      "metadata": {
        "colab": {
          "base_uri": "https://localhost:8080/"
        },
        "id": "B8JblDM_T7Xo",
        "outputId": "c1c6001d-3800-4cb3-dd41-397f224c34a7"
      },
      "execution_count": 23,
      "outputs": [
        {
          "output_type": "stream",
          "name": "stdout",
          "text": [
            "Epoch 1/10\n",
            "1719/1719 [==============================] - 9s 5ms/step - loss: 0.7257 - accuracy: 0.7588 - val_loss: 0.4966 - val_accuracy: 0.8376\n",
            "Epoch 2/10\n",
            "1719/1719 [==============================] - 8s 4ms/step - loss: 0.4897 - accuracy: 0.8293 - val_loss: 0.4589 - val_accuracy: 0.8432\n",
            "Epoch 3/10\n",
            "1719/1719 [==============================] - 8s 5ms/step - loss: 0.4458 - accuracy: 0.8441 - val_loss: 0.4199 - val_accuracy: 0.8594\n",
            "Epoch 4/10\n",
            "1719/1719 [==============================] - 8s 4ms/step - loss: 0.4183 - accuracy: 0.8534 - val_loss: 0.3901 - val_accuracy: 0.8684\n",
            "Epoch 5/10\n",
            "1719/1719 [==============================] - 8s 4ms/step - loss: 0.3973 - accuracy: 0.8609 - val_loss: 0.3933 - val_accuracy: 0.8634\n",
            "Epoch 6/10\n",
            "1719/1719 [==============================] - 8s 5ms/step - loss: 0.3818 - accuracy: 0.8651 - val_loss: 0.3837 - val_accuracy: 0.8700\n",
            "Epoch 7/10\n",
            "1719/1719 [==============================] - 9s 5ms/step - loss: 0.3685 - accuracy: 0.8697 - val_loss: 0.3640 - val_accuracy: 0.8742\n",
            "Epoch 8/10\n",
            "1719/1719 [==============================] - 8s 5ms/step - loss: 0.3558 - accuracy: 0.8740 - val_loss: 0.3667 - val_accuracy: 0.8752\n",
            "Epoch 9/10\n",
            "1719/1719 [==============================] - 8s 5ms/step - loss: 0.3457 - accuracy: 0.8772 - val_loss: 0.3565 - val_accuracy: 0.8754\n",
            "Epoch 10/10\n",
            "1719/1719 [==============================] - 8s 5ms/step - loss: 0.3360 - accuracy: 0.8808 - val_loss: 0.3426 - val_accuracy: 0.8824\n"
          ]
        }
      ]
    },
    {
      "cell_type": "markdown",
      "source": [
        "* accuracy = train accuracy\n",
        "* val_accuracy = accuracy on validation \n",
        "\n",
        "if train accuracy is much better than val acc than we can say its overfitting"
      ],
      "metadata": {
        "id": "5oLYWWiOXF6A"
      }
    },
    {
      "cell_type": "code",
      "source": [
        "import matplotlib.pyplot as plt\n",
        "import pandas as pd\n"
      ],
      "metadata": {
        "id": "Izj9Vx52WNyA"
      },
      "execution_count": 26,
      "outputs": []
    },
    {
      "cell_type": "code",
      "source": [
        "pd.DataFrame(history.history).plot(figsize=(8,5))"
      ],
      "metadata": {
        "colab": {
          "base_uri": "https://localhost:8080/",
          "height": 338
        },
        "id": "wVrd6u4nYBsQ",
        "outputId": "3a0b565d-6a99-428d-f9ae-7b98f3af3d81"
      },
      "execution_count": 27,
      "outputs": [
        {
          "output_type": "execute_result",
          "data": {
            "text/plain": [
              "<matplotlib.axes._subplots.AxesSubplot at 0x7f72f5cc6be0>"
            ]
          },
          "metadata": {},
          "execution_count": 27
        },
        {
          "output_type": "display_data",
          "data": {
            "text/plain": [
              "<Figure size 576x360 with 1 Axes>"
            ],
            "image/png": "[encoded data removed]"
          },
          "metadata": {
            "needs_background": "light"
          }
        }
      ]
    },
    {
      "cell_type": "markdown",
      "source": [
        "we can see that the validation loss os still going down, so we can say that it has not converged yet.\n",
        "* We can now do more training, or change hyperparameters such as increase learning rate, or increase no of layers, or no of neurons in one layer, or changing batch sizes.\n",
        "* Altering these can help us in reaching lowest validation loss, and thus obtaing most precise validation accuracy."
      ],
      "metadata": {
        "id": "1ElmMF30YjHX"
      }
    },
    {
      "cell_type": "markdown",
      "source": [
        "# Evaluating the model"
      ],
      "metadata": {
        "id": "R54PrLmIZh3Q"
      }
    },
    {
      "cell_type": "markdown",
      "source": [
        "once we are satisfied with validation accuracy, we can use the model to perform test on it."
      ],
      "metadata": {
        "id": "Kri_FEK1ZsHD"
      }
    },
    {
      "cell_type": "code",
      "source": [
        "model.evaluate(X_test, y_test)"
      ],
      "metadata": {
        "colab": {
          "base_uri": "https://localhost:8080/"
        },
        "id": "DnFi9wctYJID",
        "outputId": "680f28a5-271b-47db-a51b-b022d26c46a7"
      },
      "execution_count": 28,
      "outputs": [
        {
          "output_type": "stream",
          "name": "stdout",
          "text": [
            "313/313 [==============================] - 1s 3ms/step - loss: 72.2551 - accuracy: 0.8189\n"
          ]
        },
        {
          "output_type": "execute_result",
          "data": {
            "text/plain": [
              "[72.2551040649414, 0.8188999891281128]"
            ]
          },
          "metadata": {},
          "execution_count": 28
        }
      ]
    },
    {
      "cell_type": "markdown",
      "source": [
        "# using model to predict values"
      ],
      "metadata": {
        "id": "eFT5voVhZ4dF"
      }
    },
    {
      "cell_type": "code",
      "source": [
        "X_new = X_test[:3]\n",
        "y_prob = model.predict(X_new)"
      ],
      "metadata": {
        "colab": {
          "base_uri": "https://localhost:8080/"
        },
        "id": "5nf0qN_aZo11",
        "outputId": "8125452c-3c09-4dd0-dcad-dbad9bc75512"
      },
      "execution_count": 29,
      "outputs": [
        {
          "output_type": "stream",
          "name": "stdout",
          "text": [
            "1/1 [==============================] - 0s 100ms/step\n"
          ]
        }
      ]
    },
    {
      "cell_type": "code",
      "source": [
        "y_prob.round(2)"
      ],
      "metadata": {
        "colab": {
          "base_uri": "https://localhost:8080/"
        },
        "id": "si5-Pr8faERR",
        "outputId": "b367e094-475c-437d-8877-61c147659164"
      },
      "execution_count": 30,
      "outputs": [
        {
          "output_type": "execute_result",
          "data": {
            "text/plain": [
              "array([[0., 0., 0., 0., 0., 0., 0., 0., 0., 1.],\n",
              "       [0., 0., 1., 0., 0., 0., 0., 0., 0., 0.],\n",
              "       [0., 1., 0., 0., 0., 0., 0., 0., 0., 0.]], dtype=float32)"
            ]
          },
          "metadata": {},
          "execution_count": 30
        }
      ]
    },
    {
      "cell_type": "markdown",
      "source": [
        "we can see we have got probablities for 3 items as of blonging to class 9, 3 and 2 is 1."
      ],
      "metadata": {
        "id": "q53CLJCYayAm"
      }
    }
  ]
}