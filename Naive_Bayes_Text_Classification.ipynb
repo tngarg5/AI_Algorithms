{
  "nbformat": 4,
  "nbformat_minor": 0,
  "metadata": {
    "colab": {
      "provenance": [],
      "toc_visible": true
    },
    "kernelspec": {
      "name": "python3",
      "display_name": "Python 3"
    },
    "language_info": {
      "name": "python"
    }
  },
  "cells": [
    {
      "cell_type": "markdown",
      "source": [
        "# import packages"
      ],
      "metadata": {
        "id": "F6Hqtls8mpkK"
      }
    },
    {
      "cell_type": "code",
      "execution_count": 1,
      "metadata": {
        "id": "V2y9utmmlkpR"
      },
      "outputs": [],
      "source": [
        "import pandas as pd\n",
        "import numpy as np\n",
        "from sklearn.feature_extraction.text import CountVectorizer\n",
        "from sklearn.model_selection import train_test_split\n",
        "from sklearn.naive_bayes import MultinomialNB, BernoulliNB\n",
        "from sklearn import metrics\n",
        "import matplotlib.pyplot as plt\n",
        "import seaborn as sns"
      ]
    },
    {
      "cell_type": "markdown",
      "source": [
        "# load dataset\n"
      ],
      "metadata": {
        "id": "2wG7QS7dmujE"
      }
    },
    {
      "cell_type": "code",
      "source": [
        "from google.colab import drive\n",
        "drive.mount('/content/drive')\n",
        "data = pd.read_csv('/content/drive/MyDrive/Datasets/all_tickets.csv')\n",
        "data.head()\n"
      ],
      "metadata": {
        "colab": {
          "base_uri": "https://localhost:8080/",
          "height": 442
        },
        "id": "noLXoTSxmv3g",
        "outputId": "ec585335-0a60-448c-9192-10c4f4d846f9"
      },
      "execution_count": 2,
      "outputs": [
        {
          "output_type": "stream",
          "name": "stdout",
          "text": [
            "Mounted at /content/drive\n"
          ]
        },
        {
          "output_type": "execute_result",
          "data": {
            "text/plain": [
              "                                   title  \\\n",
              "0                                    NaN   \n",
              "1                   connection with icon   \n",
              "2                   work experience user   \n",
              "3                 requesting for meeting   \n",
              "4  reset passwords for external accounts   \n",
              "\n",
              "                                                body  ticket_type  category  \\\n",
              "0  hi since recruiter lead permission approve req...            1         4   \n",
              "1  icon dear please setup icon per icon engineers...            1         6   \n",
              "2  work experience user hi work experience studen...            1         5   \n",
              "3  requesting meeting hi please help follow equip...            1         5   \n",
              "4  re expire days hi ask help update passwords co...            1         4   \n",
              "\n",
              "   sub_category1  sub_category2  business_service  urgency  impact  \n",
              "0              2             21                71        3       4  \n",
              "1             22              7                26        3       4  \n",
              "2             13              7                32        3       4  \n",
              "3             13              7                32        3       4  \n",
              "4              2             76                 4        3       4  "
            ],
            "text/html": [
              "\n",
              "  <div id=\"df-8374e955-5569-4df7-b6dd-5fcba8835fa7\">\n",
              "    <div class=\"colab-df-container\">\n",
              "      <div>\n",
              "<style scoped>\n",
              "    .dataframe tbody tr th:only-of-type {\n",
              "        vertical-align: middle;\n",
              "    }\n",
              "\n",
              "    .dataframe tbody tr th {\n",
              "        vertical-align: top;\n",
              "    }\n",
              "\n",
              "    .dataframe thead th {\n",
              "        text-align: right;\n",
              "    }\n",
              "</style>\n",
              "<table border=\"1\" class=\"dataframe\">\n",
              "  <thead>\n",
              "    <tr style=\"text-align: right;\">\n",
              "      <th></th>\n",
              "      <th>title</th>\n",
              "      <th>body</th>\n",
              "      <th>ticket_type</th>\n",
              "      <th>category</th>\n",
              "      <th>sub_category1</th>\n",
              "      <th>sub_category2</th>\n",
              "      <th>business_service</th>\n",
              "      <th>urgency</th>\n",
              "      <th>impact</th>\n",
              "    </tr>\n",
              "  </thead>\n",
              "  <tbody>\n",
              "    <tr>\n",
              "      <th>0</th>\n",
              "      <td>NaN</td>\n",
              "      <td>hi since recruiter lead permission approve req...</td>\n",
              "      <td>1</td>\n",
              "      <td>4</td>\n",
              "      <td>2</td>\n",
              "      <td>21</td>\n",
              "      <td>71</td>\n",
              "      <td>3</td>\n",
              "      <td>4</td>\n",
              "    </tr>\n",
              "    <tr>\n",
              "      <th>1</th>\n",
              "      <td>connection with icon</td>\n",
              "      <td>icon dear please setup icon per icon engineers...</td>\n",
              "      <td>1</td>\n",
              "      <td>6</td>\n",
              "      <td>22</td>\n",
              "      <td>7</td>\n",
              "      <td>26</td>\n",
              "      <td>3</td>\n",
              "      <td>4</td>\n",
              "    </tr>\n",
              "    <tr>\n",
              "      <th>2</th>\n",
              "      <td>work experience user</td>\n",
              "      <td>work experience user hi work experience studen...</td>\n",
              "      <td>1</td>\n",
              "      <td>5</td>\n",
              "      <td>13</td>\n",
              "      <td>7</td>\n",
              "      <td>32</td>\n",
              "      <td>3</td>\n",
              "      <td>4</td>\n",
              "    </tr>\n",
              "    <tr>\n",
              "      <th>3</th>\n",
              "      <td>requesting for meeting</td>\n",
              "      <td>requesting meeting hi please help follow equip...</td>\n",
              "      <td>1</td>\n",
              "      <td>5</td>\n",
              "      <td>13</td>\n",
              "      <td>7</td>\n",
              "      <td>32</td>\n",
              "      <td>3</td>\n",
              "      <td>4</td>\n",
              "    </tr>\n",
              "    <tr>\n",
              "      <th>4</th>\n",
              "      <td>reset passwords for external accounts</td>\n",
              "      <td>re expire days hi ask help update passwords co...</td>\n",
              "      <td>1</td>\n",
              "      <td>4</td>\n",
              "      <td>2</td>\n",
              "      <td>76</td>\n",
              "      <td>4</td>\n",
              "      <td>3</td>\n",
              "      <td>4</td>\n",
              "    </tr>\n",
              "  </tbody>\n",
              "</table>\n",
              "</div>\n",
              "      <button class=\"colab-df-convert\" onclick=\"convertToInteractive('df-8374e955-5569-4df7-b6dd-5fcba8835fa7')\"\n",
              "              title=\"Convert this dataframe to an interactive table.\"\n",
              "              style=\"display:none;\">\n",
              "        \n",
              "  <svg xmlns=\"http://www.w3.org/2000/svg\" height=\"24px\"viewBox=\"0 0 24 24\"\n",
              "       width=\"24px\">\n",
              "    <path d=\"M0 0h24v24H0V0z\" fill=\"none\"/>\n",
              "    <path d=\"M18.56 5.44l.94 2.06.94-2.06 2.06-.94-2.06-.94-.94-2.06-.94 2.06-2.06.94zm-11 1L8.5 8.5l.94-2.06 2.06-.94-2.06-.94L8.5 2.5l-.94 2.06-2.06.94zm10 10l.94 2.06.94-2.06 2.06-.94-2.06-.94-.94-2.06-.94 2.06-2.06.94z\"/><path d=\"M17.41 7.96l-1.37-1.37c-.4-.4-.92-.59-1.43-.59-.52 0-1.04.2-1.43.59L10.3 9.45l-7.72 7.72c-.78.78-.78 2.05 0 2.83L4 21.41c.39.39.9.59 1.41.59.51 0 1.02-.2 1.41-.59l7.78-7.78 2.81-2.81c.8-.78.8-2.07 0-2.86zM5.41 20L4 18.59l7.72-7.72 1.47 1.35L5.41 20z\"/>\n",
              "  </svg>\n",
              "      </button>\n",
              "      \n",
              "  <style>\n",
              "    .colab-df-container {\n",
              "      display:flex;\n",
              "      flex-wrap:wrap;\n",
              "      gap: 12px;\n",
              "    }\n",
              "\n",
              "    .colab-df-convert {\n",
              "      background-color: #E8F0FE;\n",
              "      border: none;\n",
              "      border-radius: 50%;\n",
              "      cursor: pointer;\n",
              "      display: none;\n",
              "      fill: #1967D2;\n",
              "      height: 32px;\n",
              "      padding: 0 0 0 0;\n",
              "      width: 32px;\n",
              "    }\n",
              "\n",
              "    .colab-df-convert:hover {\n",
              "      background-color: #E2EBFA;\n",
              "      box-shadow: 0px 1px 2px rgba(60, 64, 67, 0.3), 0px 1px 3px 1px rgba(60, 64, 67, 0.15);\n",
              "      fill: #174EA6;\n",
              "    }\n",
              "\n",
              "    [theme=dark] .colab-df-convert {\n",
              "      background-color: #3B4455;\n",
              "      fill: #D2E3FC;\n",
              "    }\n",
              "\n",
              "    [theme=dark] .colab-df-convert:hover {\n",
              "      background-color: #434B5C;\n",
              "      box-shadow: 0px 1px 3px 1px rgba(0, 0, 0, 0.15);\n",
              "      filter: drop-shadow(0px 1px 2px rgba(0, 0, 0, 0.3));\n",
              "      fill: #FFFFFF;\n",
              "    }\n",
              "  </style>\n",
              "\n",
              "      <script>\n",
              "        const buttonEl =\n",
              "          document.querySelector('#df-8374e955-5569-4df7-b6dd-5fcba8835fa7 button.colab-df-convert');\n",
              "        buttonEl.style.display =\n",
              "          google.colab.kernel.accessAllowed ? 'block' : 'none';\n",
              "\n",
              "        async function convertToInteractive(key) {\n",
              "          const element = document.querySelector('#df-8374e955-5569-4df7-b6dd-5fcba8835fa7');\n",
              "          const dataTable =\n",
              "            await google.colab.kernel.invokeFunction('convertToInteractive',\n",
              "                                                     [key], {});\n",
              "          if (!dataTable) return;\n",
              "\n",
              "          const docLinkHtml = 'Like what you see? Visit the ' +\n",
              "            '<a target=\"_blank\" href=https://colab.research.google.com/notebooks/data_table.ipynb>data table notebook</a>'\n",
              "            + ' to learn more about interactive tables.';\n",
              "          element.innerHTML = '';\n",
              "          dataTable['output_type'] = 'display_data';\n",
              "          await google.colab.output.renderOutput(dataTable, element);\n",
              "          const docLink = document.createElement('div');\n",
              "          docLink.innerHTML = docLinkHtml;\n",
              "          element.appendChild(docLink);\n",
              "        }\n",
              "      </script>\n",
              "    </div>\n",
              "  </div>\n",
              "  "
            ]
          },
          "metadata": {},
          "execution_count": 2
        }
      ]
    },
    {
      "cell_type": "code",
      "source": [
        "data.sample(3).T"
      ],
      "metadata": {
        "colab": {
          "base_uri": "https://localhost:8080/",
          "height": 331
        },
        "id": "KfM83HozoAp8",
        "outputId": "353c60fb-1d1e-45f9-9df1-8f7f462d5a69"
      },
      "execution_count": 3,
      "outputs": [
        {
          "output_type": "execute_result",
          "data": {
            "text/plain": [
              "                                                              32292  \\\n",
              "title                                             project setup pas   \n",
              "body              wednesday pm code hi please code client setup ...   \n",
              "ticket_type                                                       1   \n",
              "category                                                          4   \n",
              "sub_category1                                                     3   \n",
              "sub_category2                                                     7   \n",
              "business_service                                                 72   \n",
              "urgency                                                           3   \n",
              "impact                                                            4   \n",
              "\n",
              "                                                              30828  \\\n",
              "title                                             architect service   \n",
              "body              friday architect hello executing please deploy...   \n",
              "ticket_type                                                       1   \n",
              "category                                                          6   \n",
              "sub_category1                                                    22   \n",
              "sub_category2                                                     0   \n",
              "business_service                                                 63   \n",
              "urgency                                                           3   \n",
              "impact                                                            4   \n",
              "\n",
              "                                     4041   \n",
              "title                               access  \n",
              "body              hi please give br tester  \n",
              "ticket_type                              1  \n",
              "category                                 4  \n",
              "sub_category1                            1  \n",
              "sub_category2                            7  \n",
              "business_service                        19  \n",
              "urgency                                  3  \n",
              "impact                                   4  "
            ],
            "text/html": [
              "\n",
              "  <div id=\"df-2f696de0-5278-4f95-a7db-11bd933fba8e\">\n",
              "    <div class=\"colab-df-container\">\n",
              "      <div>\n",
              "<style scoped>\n",
              "    .dataframe tbody tr th:only-of-type {\n",
              "        vertical-align: middle;\n",
              "    }\n",
              "\n",
              "    .dataframe tbody tr th {\n",
              "        vertical-align: top;\n",
              "    }\n",
              "\n",
              "    .dataframe thead th {\n",
              "        text-align: right;\n",
              "    }\n",
              "</style>\n",
              "<table border=\"1\" class=\"dataframe\">\n",
              "  <thead>\n",
              "    <tr style=\"text-align: right;\">\n",
              "      <th></th>\n",
              "      <th>32292</th>\n",
              "      <th>30828</th>\n",
              "      <th>4041</th>\n",
              "    </tr>\n",
              "  </thead>\n",
              "  <tbody>\n",
              "    <tr>\n",
              "      <th>title</th>\n",
              "      <td>project setup pas</td>\n",
              "      <td>architect service</td>\n",
              "      <td>access</td>\n",
              "    </tr>\n",
              "    <tr>\n",
              "      <th>body</th>\n",
              "      <td>wednesday pm code hi please code client setup ...</td>\n",
              "      <td>friday architect hello executing please deploy...</td>\n",
              "      <td>hi please give br tester</td>\n",
              "    </tr>\n",
              "    <tr>\n",
              "      <th>ticket_type</th>\n",
              "      <td>1</td>\n",
              "      <td>1</td>\n",
              "      <td>1</td>\n",
              "    </tr>\n",
              "    <tr>\n",
              "      <th>category</th>\n",
              "      <td>4</td>\n",
              "      <td>6</td>\n",
              "      <td>4</td>\n",
              "    </tr>\n",
              "    <tr>\n",
              "      <th>sub_category1</th>\n",
              "      <td>3</td>\n",
              "      <td>22</td>\n",
              "      <td>1</td>\n",
              "    </tr>\n",
              "    <tr>\n",
              "      <th>sub_category2</th>\n",
              "      <td>7</td>\n",
              "      <td>0</td>\n",
              "      <td>7</td>\n",
              "    </tr>\n",
              "    <tr>\n",
              "      <th>business_service</th>\n",
              "      <td>72</td>\n",
              "      <td>63</td>\n",
              "      <td>19</td>\n",
              "    </tr>\n",
              "    <tr>\n",
              "      <th>urgency</th>\n",
              "      <td>3</td>\n",
              "      <td>3</td>\n",
              "      <td>3</td>\n",
              "    </tr>\n",
              "    <tr>\n",
              "      <th>impact</th>\n",
              "      <td>4</td>\n",
              "      <td>4</td>\n",
              "      <td>4</td>\n",
              "    </tr>\n",
              "  </tbody>\n",
              "</table>\n",
              "</div>\n",
              "      <button class=\"colab-df-convert\" onclick=\"convertToInteractive('df-2f696de0-5278-4f95-a7db-11bd933fba8e')\"\n",
              "              title=\"Convert this dataframe to an interactive table.\"\n",
              "              style=\"display:none;\">\n",
              "        \n",
              "  <svg xmlns=\"http://www.w3.org/2000/svg\" height=\"24px\"viewBox=\"0 0 24 24\"\n",
              "       width=\"24px\">\n",
              "    <path d=\"M0 0h24v24H0V0z\" fill=\"none\"/>\n",
              "    <path d=\"M18.56 5.44l.94 2.06.94-2.06 2.06-.94-2.06-.94-.94-2.06-.94 2.06-2.06.94zm-11 1L8.5 8.5l.94-2.06 2.06-.94-2.06-.94L8.5 2.5l-.94 2.06-2.06.94zm10 10l.94 2.06.94-2.06 2.06-.94-2.06-.94-.94-2.06-.94 2.06-2.06.94z\"/><path d=\"M17.41 7.96l-1.37-1.37c-.4-.4-.92-.59-1.43-.59-.52 0-1.04.2-1.43.59L10.3 9.45l-7.72 7.72c-.78.78-.78 2.05 0 2.83L4 21.41c.39.39.9.59 1.41.59.51 0 1.02-.2 1.41-.59l7.78-7.78 2.81-2.81c.8-.78.8-2.07 0-2.86zM5.41 20L4 18.59l7.72-7.72 1.47 1.35L5.41 20z\"/>\n",
              "  </svg>\n",
              "      </button>\n",
              "      \n",
              "  <style>\n",
              "    .colab-df-container {\n",
              "      display:flex;\n",
              "      flex-wrap:wrap;\n",
              "      gap: 12px;\n",
              "    }\n",
              "\n",
              "    .colab-df-convert {\n",
              "      background-color: #E8F0FE;\n",
              "      border: none;\n",
              "      border-radius: 50%;\n",
              "      cursor: pointer;\n",
              "      display: none;\n",
              "      fill: #1967D2;\n",
              "      height: 32px;\n",
              "      padding: 0 0 0 0;\n",
              "      width: 32px;\n",
              "    }\n",
              "\n",
              "    .colab-df-convert:hover {\n",
              "      background-color: #E2EBFA;\n",
              "      box-shadow: 0px 1px 2px rgba(60, 64, 67, 0.3), 0px 1px 3px 1px rgba(60, 64, 67, 0.15);\n",
              "      fill: #174EA6;\n",
              "    }\n",
              "\n",
              "    [theme=dark] .colab-df-convert {\n",
              "      background-color: #3B4455;\n",
              "      fill: #D2E3FC;\n",
              "    }\n",
              "\n",
              "    [theme=dark] .colab-df-convert:hover {\n",
              "      background-color: #434B5C;\n",
              "      box-shadow: 0px 1px 3px 1px rgba(0, 0, 0, 0.15);\n",
              "      filter: drop-shadow(0px 1px 2px rgba(0, 0, 0, 0.3));\n",
              "      fill: #FFFFFF;\n",
              "    }\n",
              "  </style>\n",
              "\n",
              "      <script>\n",
              "        const buttonEl =\n",
              "          document.querySelector('#df-2f696de0-5278-4f95-a7db-11bd933fba8e button.colab-df-convert');\n",
              "        buttonEl.style.display =\n",
              "          google.colab.kernel.accessAllowed ? 'block' : 'none';\n",
              "\n",
              "        async function convertToInteractive(key) {\n",
              "          const element = document.querySelector('#df-2f696de0-5278-4f95-a7db-11bd933fba8e');\n",
              "          const dataTable =\n",
              "            await google.colab.kernel.invokeFunction('convertToInteractive',\n",
              "                                                     [key], {});\n",
              "          if (!dataTable) return;\n",
              "\n",
              "          const docLinkHtml = 'Like what you see? Visit the ' +\n",
              "            '<a target=\"_blank\" href=https://colab.research.google.com/notebooks/data_table.ipynb>data table notebook</a>'\n",
              "            + ' to learn more about interactive tables.';\n",
              "          element.innerHTML = '';\n",
              "          dataTable['output_type'] = 'display_data';\n",
              "          await google.colab.output.renderOutput(dataTable, element);\n",
              "          const docLink = document.createElement('div');\n",
              "          docLink.innerHTML = docLinkHtml;\n",
              "          element.appendChild(docLink);\n",
              "        }\n",
              "      </script>\n",
              "    </div>\n",
              "  </div>\n",
              "  "
            ]
          },
          "metadata": {},
          "execution_count": 3
        }
      ]
    },
    {
      "cell_type": "code",
      "source": [
        "data.ticket_type.value_counts()"
      ],
      "metadata": {
        "colab": {
          "base_uri": "https://localhost:8080/"
        },
        "id": "VkA6B2WR-zng",
        "outputId": "3af9f204-a06e-4a7c-b600-4ba589495ef3"
      },
      "execution_count": 4,
      "outputs": [
        {
          "output_type": "execute_result",
          "data": {
            "text/plain": [
              "1    34621\n",
              "0    13928\n",
              "Name: ticket_type, dtype: int64"
            ]
          },
          "metadata": {},
          "execution_count": 4
        }
      ]
    },
    {
      "cell_type": "code",
      "source": [
        "data.columns"
      ],
      "metadata": {
        "colab": {
          "base_uri": "https://localhost:8080/"
        },
        "id": "i8STXcZNBA-V",
        "outputId": "659a9129-64c5-49c2-abf2-ad3dbc21c7f9"
      },
      "execution_count": 5,
      "outputs": [
        {
          "output_type": "execute_result",
          "data": {
            "text/plain": [
              "Index(['title', 'body', 'ticket_type', 'category', 'sub_category1',\n",
              "       'sub_category2', 'business_service', 'urgency', 'impact'],\n",
              "      dtype='object')"
            ]
          },
          "metadata": {},
          "execution_count": 5
        }
      ]
    },
    {
      "cell_type": "code",
      "source": [
        "for cols in data.columns:\n",
        "  print(cols,':' )\n",
        "  print(data[cols].value_counts())\n",
        "  print('\\n\\n\\n')\n"
      ],
      "metadata": {
        "colab": {
          "base_uri": "https://localhost:8080/"
        },
        "id": "qJZTYhlF_lY-",
        "outputId": "14b7deed-6e85-4a70-834d-3ed23a9de318"
      },
      "execution_count": 6,
      "outputs": [
        {
          "output_type": "stream",
          "name": "stdout",
          "text": [
            "title :\n",
            "new purchase po                                   1138\n",
            "new starter                                        546\n",
            "access                                             524\n",
            "access to                                          477\n",
            "po                                                 182\n",
            "                                                  ... \n",
            "assign visual studio licenses for team               1\n",
            "receive any information on server and location       1\n",
            "replace old laptop with new one                      1\n",
            "belgrade new address internal systems                1\n",
            "running out on extensions                            1\n",
            "Name: title, Length: 30118, dtype: int64\n",
            "\n",
            "\n",
            "\n",
            "\n",
            "body :\n",
            "hi since recruiter lead permission approve requisitions makes please make thanks recruiter                                                                                                                                                                                                                                                                                                                                                                                                                                                                                                                                                                                                                                                                                                                                                                                                                                                                                                                                                                                                                                                                                                                  1\n",
            "wednesday pre approved confirmation hi please add task type thank wednesday re pre approved confirmation la la mine si cine ne thanks wednesday re pre approved confirmation ne la tuesday pm re pre approved confirmation ca ca si task la care la va va pre approved ca va la client administration officer tuesday re pre approved confirmation la ne tuesday pre approved confirmation hello had short chat putting cost pre approved please take how change regards tuesday re pre approved confirmation ii si cum administration officer tuesday re pre approved confirmation si thanks tuesday re pre approved confirmation fie si administration officer tuesday re pre approved confirmation hello ca fie ca si overtime eventual normal la si overtime regards tuesday re pre approved confirmation pre approved se ca si ore se administration officer tuesday re pre approved confirmation hello paid regards thursday pm pre approved confirmation hello please paid cost pre approved submitted cost pre approved submitted kindly ask until thanks notice holiday registered under number whose registered old broad street kingdom provide clients each subsidiaries separate entity has    1\n",
            "has failed these groups entered found please recipient problem continues please diagnostic information administrators generating remote returned resolver found id wed date wed id app awaiting response submit july period mime version content type related boundary part source ca ca version precedence bulk submitted true return path originating                                                                                                                                                                                                                                                                                                                                                                                                                                                                                                                                                                                                                                                                                                                                                                                                                                                     1\n",
            "va cum bench bench bench bench bench thank mobile tuesday pm re hello care va la cod ore thanks tuesday pm re se va thanks mobile tuesday pm hello ne va pot face motive etc thanks head ext mob                                                                                                                                                                                                                                                                                                                                                                                                                                                                                                                                                                                                                                                                                                                                                                                                                                                                                                                                                                                                            1\n",
            "wednesday importance high dear please help permission thanks registered under number whose registered old broad street kingdom provide clients each subsidiaries separate entity has                                                                                                                                                                                                                                                                                                                                                                                                                                                                                                                                                                                                                                                                                                                                                                                                                                                                                                                                                                                                                        1\n",
            "                                                                                                                                                                                                                                                                                                                                                                                                                                                                                                                                                                                                                                                                                                                                                                                                                                                                                                                                                                                                                                                                                                                                                                                                           ..\n",
            "thursday pm re purchase po hi looks find order under receipts please advise best regards senior engineer thursday pm purchase po dear purchased extender please log allocation please take consideration mandatory receipts section order receive item ordered how video explorer thank best regards compliance                                                                                                                                                                                                                                                                                                                                                                                                                                                                                                                                                                                                                                                                                                                                                                                                                                                                                             1\n",
            "thursday pm please setup attached thanks notice leave rd july                                                                                                                                                                                                                                                                                                                                                                                                                                                                                                                                                                                                                                                                                                                                                                                                                                                                                                                                                                                                                                                                                                                                               1\n",
            "thursday pm hi please create enable user looks inactive regards                                                                                                                                                                                                                                                                                                                                                                                                                                                                                                                                                                                                                                                                                                                                                                                                                                                                                                                                                                                                                                                                                                                                             1\n",
            "thursday pm utilization report add offer hi please rise call regards analyst thursday pm utilization report add offer hi possible add offer column report thanks head                                                                                                                                                                                                                                                                                                                                                                                                                                                                                                                                                                                                                                                                                                                                                                                                                                                                                                                                                                                                                                       1\n",
            "hello please be advised we running out extension least seems there more extension available range nor anything can be found range per following file extensions excel have found extension only because have found leaver removed could you please advise if there indeed extensions left thank you best regards                                                                                                                                                                                                                                                                                                                                                                                                                                                                                                                                                                                                                                                                                                                                                                                                                                                                                            1\n",
            "Name: body, Length: 48549, dtype: int64\n",
            "\n",
            "\n",
            "\n",
            "\n",
            "ticket_type :\n",
            "1    34621\n",
            "0    13928\n",
            "Name: ticket_type, dtype: int64\n",
            "\n",
            "\n",
            "\n",
            "\n",
            "category :\n",
            "4     34061\n",
            "5      9634\n",
            "6      2628\n",
            "7       921\n",
            "11      612\n",
            "8       239\n",
            "9       191\n",
            "3       137\n",
            "1        72\n",
            "12       45\n",
            "0         4\n",
            "2         3\n",
            "10        2\n",
            "Name: category, dtype: int64\n",
            "\n",
            "\n",
            "\n",
            "\n",
            "sub_category1 :\n",
            "2     9857\n",
            "3     8324\n",
            "1     7857\n",
            "13    6487\n",
            "21    5710\n",
            "51    2402\n",
            "22    1475\n",
            "15    1226\n",
            "9     1114\n",
            "12     624\n",
            "14     620\n",
            "32     559\n",
            "39     354\n",
            "30     222\n",
            "54     217\n",
            "50     204\n",
            "36     177\n",
            "45     176\n",
            "56     147\n",
            "10     114\n",
            "35      83\n",
            "27      79\n",
            "28      60\n",
            "49      57\n",
            "41      54\n",
            "37      48\n",
            "16      42\n",
            "58      34\n",
            "17      27\n",
            "53      26\n",
            "57      25\n",
            "8       15\n",
            "55      13\n",
            "24      12\n",
            "34      11\n",
            "33      10\n",
            "19       8\n",
            "44       8\n",
            "43       7\n",
            "4        7\n",
            "18       6\n",
            "26       6\n",
            "20       6\n",
            "38       5\n",
            "52       4\n",
            "0        4\n",
            "40       4\n",
            "6        3\n",
            "31       3\n",
            "42       3\n",
            "46       2\n",
            "23       2\n",
            "48       2\n",
            "7        2\n",
            "11       1\n",
            "29       1\n",
            "25       1\n",
            "5        1\n",
            "47       1\n",
            "Name: sub_category1, dtype: int64\n",
            "\n",
            "\n",
            "\n",
            "\n",
            "sub_category2 :\n",
            "7     18197\n",
            "21     6581\n",
            "41     3232\n",
            "0      2705\n",
            "88     2243\n",
            "      ...  \n",
            "42        1\n",
            "31        1\n",
            "37        1\n",
            "28        1\n",
            "56        1\n",
            "Name: sub_category2, Length: 115, dtype: int64\n",
            "\n",
            "\n",
            "\n",
            "\n",
            "business_service :\n",
            "32    8174\n",
            "36    3685\n",
            "68    3589\n",
            "67    2858\n",
            "4     2527\n",
            "      ... \n",
            "69       1\n",
            "81       1\n",
            "37       1\n",
            "17       1\n",
            "0        1\n",
            "Name: business_service, Length: 103, dtype: int64\n",
            "\n",
            "\n",
            "\n",
            "\n",
            "urgency :\n",
            "3    34621\n",
            "1     6748\n",
            "2     5528\n",
            "0     1652\n",
            "Name: urgency, dtype: int64\n",
            "\n",
            "\n",
            "\n",
            "\n",
            "impact :\n",
            "4    34621\n",
            "3    13184\n",
            "0      471\n",
            "2      228\n",
            "1       45\n",
            "Name: impact, dtype: int64\n",
            "\n",
            "\n",
            "\n",
            "\n"
          ]
        }
      ]
    },
    {
      "cell_type": "markdown",
      "source": [
        "we can see ticket type is of binary ie either type1 or type 2\n",
        "we can use classification problem to identify the type of ticket based on other features.\n",
        "binary text classification model "
      ],
      "metadata": {
        "id": "G55_zEQx_oAk"
      }
    },
    {
      "cell_type": "markdown",
      "source": [
        "Firstly, we will need to preprocess our text to convert it to a numeric form. As ml models cannot use text,so the first step is to use a text preprocesing technique called count vectorization\n",
        "\n",
        "CountVectorizer takes our text and returns a count for each time a word present in the entire “corpus”\n",
        "\n",
        "CountVectorizer, we’ll instantiate it, then use fit_transform() to pass it the text and return a Bag of Words model\n",
        "\n",
        "We’ll then use Numpy to convert that Bag of Words to a dense array that can better be used by the mode"
      ],
      "metadata": {
        "id": "vORpEyEVCF3b"
      }
    },
    {
      "cell_type": "code",
      "source": [
        "data.info()"
      ],
      "metadata": {
        "colab": {
          "base_uri": "https://localhost:8080/"
        },
        "id": "6PH9o4bCE2D5",
        "outputId": "6aa26bcd-1eb3-45bd-c2ec-e3480eba4a91"
      },
      "execution_count": 7,
      "outputs": [
        {
          "output_type": "stream",
          "name": "stdout",
          "text": [
            "<class 'pandas.core.frame.DataFrame'>\n",
            "RangeIndex: 48549 entries, 0 to 48548\n",
            "Data columns (total 9 columns):\n",
            " #   Column            Non-Null Count  Dtype \n",
            "---  ------            --------------  ----- \n",
            " 0   title             47837 non-null  object\n",
            " 1   body              48549 non-null  object\n",
            " 2   ticket_type       48549 non-null  int64 \n",
            " 3   category          48549 non-null  int64 \n",
            " 4   sub_category1     48549 non-null  int64 \n",
            " 5   sub_category2     48549 non-null  int64 \n",
            " 6   business_service  48549 non-null  int64 \n",
            " 7   urgency           48549 non-null  int64 \n",
            " 8   impact            48549 non-null  int64 \n",
            "dtypes: int64(7), object(2)\n",
            "memory usage: 3.3+ MB\n"
          ]
        }
      ]
    },
    {
      "cell_type": "markdown",
      "source": [
        "# Representing Text as Numerical Data"
      ],
      "metadata": {
        "id": "lh-VOcNC8o3R"
      }
    },
    {
      "cell_type": "markdown",
      "source": [
        "## Dividing data into Dependent and Independent Values"
      ],
      "metadata": {
        "id": "OQJdEzeBBprU"
      }
    },
    {
      "cell_type": "code",
      "source": [
        "X = data['body']\n",
        "y = data['ticket_type']"
      ],
      "metadata": {
        "id": "g3ta3bXADlnr"
      },
      "execution_count": 8,
      "outputs": []
    },
    {
      "cell_type": "code",
      "source": [
        "# check the shapes of X and y\n",
        "print('X dimensionality', X.shape)\n",
        "print('y dimensionality', y.shape)"
      ],
      "metadata": {
        "colab": {
          "base_uri": "https://localhost:8080/"
        },
        "id": "E1NnPqmJ8vHZ",
        "outputId": "90de9ca8-a441-4931-ee12-1dee1930605c"
      },
      "execution_count": 9,
      "outputs": [
        {
          "output_type": "stream",
          "name": "stdout",
          "text": [
            "X dimensionality (48549,)\n",
            "y dimensionality (48549,)\n"
          ]
        }
      ]
    },
    {
      "cell_type": "markdown",
      "source": [
        "## Test and Train Split"
      ],
      "metadata": {
        "id": "yMGvcedzBz5D"
      }
    },
    {
      "cell_type": "code",
      "source": [
        "X_train, X_test, y_train, y_test = train_test_split(X, y,test_size=0.3,stratify=y)"
      ],
      "metadata": {
        "id": "Sm5Gw65wDzfM"
      },
      "execution_count": 10,
      "outputs": []
    },
    {
      "cell_type": "markdown",
      "source": [
        "## Feature Extraction : Count Vectorizer"
      ],
      "metadata": {
        "id": "CirUugP5B3Ol"
      }
    },
    {
      "cell_type": "markdown",
      "source": [
        "### Fit and Transform : Training data"
      ],
      "metadata": {
        "id": "kbhIkYJAYh9U"
      }
    },
    {
      "cell_type": "code",
      "source": [
        "print(\"Extracting features from the training data\")\n",
        "# Create a Vectorizer Object\n",
        "count_vectorizer = CountVectorizer()\n",
        "#  learn the 'vocabulary' of the training data (occurs in-place) using fit\n",
        "count_vectorizer.fit(X_train)\n",
        "# Printing the identified Unique words along with their indices\n",
        "print(\"Vocabulary: \", count_vectorizer.vocabulary_)\n"
      ],
      "metadata": {
        "id": "jSBkYZN4B0Yu",
        "colab": {
          "base_uri": "https://localhost:8080/"
        },
        "outputId": "d6d5b41c-2699-40fe-ec5a-b34f598e4e45"
      },
      "execution_count": 11,
      "outputs": [
        {
          "output_type": "stream",
          "name": "stdout",
          "text": [
            "Extracting features from the training data\n",
            "Vocabulary:  {'query': 7616, 'hi': 4547, 'have': 4475, 'expense': 3595, 'claim': 1643, 'ref': 7914, 'advised': 219, 'approval': 522, 'flow': 3942, 'for': 3983, 'code': 1739, 'submitted': 9508, 'against': 252, 'changed': 1534, 'since': 9005, 'possible': 7207, 'current': 2392, 'cancelled': 1376, 'put': 7586, 'back': 800, 'status': 9369, 'can': 1366, 'sub': 9490, 'again': 251, 'via': 10633, 'regards': 7968, 'infrastructure': 4963, 'consultant': 2093, 'wednesday': 10800, 'confluence': 2015, 'hello': 4519, 'guys': 4395, 'please': 7113, 'help': 4520, 'think': 9913, 'had': 4404, 'past': 6858, 'older': 6533, 'proper': 7486, 'excel': 3513, 'thanks': 9881, 'pm': 7127, 'question': 7619, 'regarding': 7966, 'public': 7539, 'addresses': 163, 'asking': 605, 'connect': 2034, 'externally': 3671, 'mine': 6038, 'sitting': 9023, 'next': 6343, 'has': 4464, 'include': 4854, 'other': 6651, 'offices': 6521, 'senior': 8794, 'developer': 2720, 'thursday': 9956, 'dear': 2477, 'advise': 218, 'how': 4668, 'least': 5468, 'feedback': 3784, 'approved': 525, 'export': 3634, 'collate': 1766, 'feedbacks': 3785, 'button': 1287, 'become': 897, 'enable': 3257, 'allowing': 339, 'create': 2323, 'collage': 1764, 'different': 2766, 'perspectives': 6977, 'resources': 8286, 'upon': 10504, 'member': 5936, 'thank': 9877, 'head': 4483, 'analysis': 401, 're': 7710, 'purchase': 7567, 'po': 7128, 'marked': 5834, 'items': 5250, 'quantities': 7605, 'listed': 5592, 'kind': 5346, 'officer': 6519, 'purchased': 7568, 'cat': 1447, 'patch': 6864, 'log': 5645, 'allocation': 329, 'take': 9733, 'consideration': 2060, 'mandatory': 5798, 'receipts': 7782, 'section': 8746, 'order': 6612, 'receive': 7785, 'item': 5247, 'ordered': 6613, 'video': 10642, 'administrator': 188, 'wants': 10747, 'planning': 7088, 'available': 760, 'bench': 947, 'accept': 39, 'decline': 2512, 'requests': 8224, 'forbidden': 3984, 'software': 9117, 'checked': 1574, 'report': 8186, 'find': 3854, 'looks': 5667, 'colleagues': 1772, 'having': 4477, 'games': 4175, 'based': 860, 'file': 3826, 'sharing': 8881, 'store': 9417, 'clients': 1694, 'installed': 5040, 'assets': 626, 'reminder': 8100, 'ask': 603, 'these': 9905, 'keep': 5313, 'mind': 6034, 'clearing': 1685, 'change': 1532, 'role': 8506, 'taken': 9735, 'over': 6685, 'myself': 6244, 'changes': 1536, 'agile': 268, 'blvd': 1061, 'district': 2928, 'ext': 3651, 'compliance': 1917, 'whatever': 10834, 'needs': 6303, 'ensure': 3348, 'inside': 5017, 'forwarded': 4044, 'sound': 9161, 'sensible': 8799, 'wanting': 10746, 'separate': 8809, 'mailbox': 5756, 'directed': 2800, 'recommended': 7822, 'approach': 515, 'terms': 9854, 'date': 2454, 'thought': 9923, 'requested': 8219, 'follow': 3968, 'liaising': 5530, 'bribery': 1174, 'policy': 7147, 'exist': 3566, 'recall': 7778, 'correctly': 2241, 'introduced': 5171, 'part': 6816, 'updates': 10491, 'action': 118, 'completed': 1908, 'resolved': 8281, 'july': 5292, 'failure': 3710, 'agent': 259, 'unable': 10297, 'deliver': 2594, 'reason': 7756, 'recipient': 7805, 'rejected': 8024, 'user': 10528, 'unknown': 10399, 'relay': 8047, 'table': 9709, 'subject': 9499, 'expire': 3612, 'days': 2461, 'identifier': 4715, 'reference': 7917, 'tower': 10078, 'unattended': 10308, 'more': 6175, 'information': 4955, 'instructions': 5060, 'resolving': 8284, 'issue': 5237, 'sent': 8804, 'laptop': 5403, 'battery': 882, 'attached': 674, 'picture': 7024, 'any': 460, 'advice': 215, 'about': 15, 'you': 11007, 'en': 3256, 'issues': 5240, 'with': 10902, 'annual': 435, 'leave': 5470, 'request': 8218, 'registered': 7978, 'hours': 4662, 'however': 4669, 'calculation': 1334, 'holidays': 4610, 'below': 944, 'holiday': 4609, 'only': 6550, 'should': 8927, 'be': 885, 'subtracted': 9534, 'balance': 829, 'properly': 7487, 'setup': 8845, 'yet': 11002, 'manager': 5793, 'friday': 4090, 'problem': 7388, 'entering': 3357, 'th': 9874, 'floor': 3940, 'writing': 10973, 'because': 895, 'when': 10839, 'trying': 10231, 'enter': 3355, 'sometimes': 9144, 'open': 6558, 'doors': 2984, 'using': 10531, 'card': 1403, 'but': 1286, 'most': 6182, 'times': 9997, 'cannot': 1380, 'could': 2266, 'access': 47, 'delete': 2579, 'library': 5535, 'wonderful': 10925, 'leader': 5450, 'informed': 4958, 'we': 10788, 'deleted': 2580, 'document': 2957, 'best': 965, 'engineer': 3312, 'some': 9136, 'option': 6601, 'duplicated': 3087, 'therefore': 9900, 'confusion': 2024, 'march': 5828, 'notification': 6418, 'gateway': 4187, 'device': 2725, 'poll': 7155, 'down': 2996, 'did': 2756, 'ticket': 9963, 'was': 10767, 'closed': 1706, 'by': 1295, 'our': 6656, 'above': 16, 'incident': 4848, 'thus': 9957, 'informing': 4959, 'client': 1693, 'delay': 2568, 'kindly': 5350, 'appropriate': 519, 'analyst': 402, 'leaver': 5472, 'form': 4011, 'location': 5631, 'centre': 1494, 'filled': 3833, 'name': 6256, 'leaving': 5475, 'ad': 136, 'forwarder': 4045, 'roaming': 8491, 'profile': 7425, 'rights': 8468, 'personal': 6968, 'approver': 526, 'inventory': 5190, 'storage': 9416, 'required': 8226, 'work': 10934, 'details': 2703, 'rd': 7709, 'left': 5483, 'row': 8546, 'seat': 8730, 'token': 10030, 'mobile': 6115, 'phone': 6997, 'subscription': 9518, 'usual': 10532, 'etc': 3455, 'commercial': 1833, 'accounts': 76, 'detected': 2705, 'automatic': 747, 'backup': 816, 'coordinator': 2208, 'discipline': 2837, 'responsible': 8305, 'number': 6439, 'extension': 3660, 'unplanned': 10429, 'comments': 1832, 'until': 10472, 'his': 4586, 'he': 4482, 'working': 10944, 'till': 9984, 'then': 9892, 'needed': 6298, 'tickets': 9966, 'automatically': 748, 'logged': 5646, 'note': 6405, 'messages': 5974, 'printer': 7365, 'tonner': 10046, 'empty': 3249, 'design': 2675, 'lead': 5449, 'starter': 9344, 'complete': 1907, 'both': 1118, 'same': 8603, 'let': 5508, 'interim': 5127, 'joining': 5279, 'ny': 6451, 'id': 4704, 'image': 4748, 'october': 6506, 'surname': 9628, 'accordingly': 70, 'also': 352, 'forward': 4043, 'november': 6430, 'projector': 7452, 'demos': 2617, 'session': 8835, 'which': 10847, 'today': 10021, 'around': 572, 'december': 2496, 'problems': 7390, 'going': 4279, 'reviewing': 8423, 'mentioned': 5949, 'she': 8886, 'error': 3417, 'show': 8930, 'allocate': 326, 'everyone': 3488, 'under': 10334, 'reach': 7711, 'tuesday': 10236, 'add': 148, 'got': 4289, 'transferred': 10124, 'old': 6532, 'claimed': 1645, 'syncing': 9703, 'run': 8561, 'importance': 4795, 'high': 4560, 'reports': 8190, 'does': 2966, 'although': 363, 'exists': 3571, 'active': 126, 'way': 10786, 'usually': 10533, 'shared': 8877, 'folders': 3965, 'custom': 2402, 'programme': 7434, 'up': 10485, 'currently': 2393, 'blocking': 1046, 'creation': 2327, 'monthly': 6167, 'february': 3776, 'approaching': 518, 'site': 9019, 'limit': 5572, 'handy': 4435, 'raising': 7669, 'exceeding': 3511, 'remains': 8085, 'testing': 9867, 'ago': 272, 'while': 10849, 'convince': 2186, 'mb': 5896, 'much': 6219, 'helps': 4526, 'push': 7580, 'receiving': 7790, 'exceeded': 3510, 'warning': 10756, 'level': 5515, 'view': 10647, 'collection': 1775, 'usage': 10523, 'summary': 9577, 'layouts': 5446, 'held': 4516, 'exact': 3500, 'looking': 5665, 'assign': 627, 'spoken': 9265, 'copied': 2214, 'him': 4573, 'too': 10048, 'weeks': 10809, 'sites': 9020, 'out': 6659, 'replacement': 8167, 'weight': 10812, 'lighter': 5558, 'smaller': 9081, 'portable': 7183, 'si': 8949, 'el': 3177, 'slave': 9050, 'fails': 3709, 'running': 8566, 'job': 5271, 'employee': 3240, 'directory': 2810, 'build': 1242, 'deploy': 2643, 'started': 9343, 'failing': 3708, 'still': 9397, 'bower': 1138, 'grunt': 4370, 'link': 5582, 'toner': 10042, 'black': 1015, 'printing': 7367, 'low': 5695, 'copier': 2215, 'busy': 1285, 'scanner': 8653, 'model': 6124, 'comment': 1828, 'host': 4652, 'color': 1789, 'stateless': 9351, 'print': 7362, 'zone': 11032, 'computer': 1954, 'share': 8875, 'good': 4285, 'notified': 6419, 'process': 7399, 'opening': 6560, 'candidates': 1379, 'test': 9862, 'during': 3094, 'regard': 7964, 'specialist': 9201, 'license': 5538, 'provide': 7521, 'tester': 9864, 'salary': 8594, 'proposal': 7489, 'timetable': 9998, 'assist': 638, 'administration': 186, 'care': 1408, 'tot': 10063, 'observant': 6471, 'ca': 1303, 'la': 5372, 'sip': 9015, 'se': 8717, 'pare': 6804, 'effect': 3156, 'plug': 7119, 'adapter': 142, 'outlet': 6672, 'dp': 3014, 'attendees': 693, 'write': 10969, 'two': 10273, 'spreadsheet': 9285, 'academy': 32, 'owner': 6738, 'ultima': 10291, 'communication': 1857, 'want': 10744, 'inform': 4953, 'migrate': 6014, 'content': 2119, 'migration': 6017, 'done': 2980, 'guidelines': 4387, 'meet': 5927, 'hesitate': 4545, 'questions': 7622, 'consider': 2056, 'move': 6206, 'whole': 10857, 'named': 6257, 'keeping': 5315, 'structure': 9470, 'beyond': 975, 'beta': 968, 'phase': 6991, 'excited': 3530, 'transition': 10135, 'launched': 5432, 'st': 9302, 'moved': 6207, 'digital': 2782, 'upload': 10499, 'files': 3829, 'within': 10909, 'couple': 2286, 'prepared': 7294, 'easy': 3128, 'guides': 4388, 'scroll': 8710, 'after': 247, 'means': 5906, 'download': 3001, 'moment': 6148, 'proceed': 7395, 'closing': 1713, 'community': 1861, 'useful': 10526, 'encounter': 3272, 'deadline': 2470, 'transfer': 10121, 'enjoy': 3323, 'browsing': 1218, 'hub': 4671, 'approve': 524, 'cards': 1407, 'through': 9943, 'human': 4675, 'getting': 4236, 'showing': 8933, 'reasons': 7760, 'server': 8830, 'connection': 2038, 'if': 4727, 'federated': 3778, 'mode': 6123, 'default': 2540, 'tried': 10190, 'tabs': 9714, 'seem': 8761, 'fine': 3859, 'sn': 9094, 'generic': 4214, 'affecting': 231, 'locations': 5632, 'enough': 3334, 'free': 4075, 'space': 9175, 'partition': 6834, 'passed': 6846, 'haven': 4476, 'received': 7786, 'address': 159, 'suggested': 9560, 'upgrading': 10496, 'os': 6648, 'wonder': 10923, 'whether': 10846, 'would': 10963, 'able': 7, 'integration': 5078, 'taxation': 9776, 'downloads': 3005, 'end': 3284, 'what': 10833, 'suggest': 9559, 'make': 5776, 'upgrade': 10493, 'certificate': 1505, 'sos': 9159, 'harper': 4459, 'yes': 10999, 'seems': 8764, 'self': 8783, 'signed': 8973, 'match': 5868, 'there': 9897, 'technical': 9794, 'architecture': 547, 'safer': 8582, 'smarter': 9083, 'faster': 3750, 'confidential': 1997, 'legally': 5488, 'privileged': 7377, 'addressee': 161, 'copy': 2219, 'disclose': 2840, 'or': 6605, 'use': 10524, 'message': 5973, 'copies': 2216, 'your': 11009, 'notify': 6421, 'immediately': 4760, 'return': 8388, 'communications': 1858, 'guaranteed': 4372, 'timely': 9992, 'secure': 8751, 'virus': 10670, 'liability': 5526, 'errors': 3418, 'omissions': 6539, 'scanned': 8652, 'viruses': 10671, 'click': 1688, 'here': 4533, 'va': 10546, 'ne': 6282, 'costs': 2262, 'booking': 1091, 'visible': 10675, 'meeting': 5928, 'rooms': 8520, 'calendar': 1339, 'booked': 1090, 'leads': 5454, 'require': 8225, 'persons': 6975, 'added': 149, 'containing': 2114, 'further': 4149, 'pipeline': 7054, 'budget': 1229, 'saved': 8634, 'nothing': 6411, 'looked': 5664, 'like': 5564, 'case': 1437, 'yesterday': 11000, 'went': 10825, 'check': 1573, 'data': 2451, 'why': 10862, 'happening': 4443, 'enabling': 3261, 'center': 1485, 'keyboard': 5322, 'accustomed': 88, 'provided': 7522, 'set': 8837, 'connected': 2035, 'responding': 8299, 'addition': 154, 'missed': 6078, 'folks': 3967, 'stand': 9330, 'replenishment': 8177, 'perform': 6928, 'approvals': 523, 'absence': 19, 'replace': 8164, 'absences': 20, 'losing': 5682, 'situation': 9026, 'get': 4234, 'them': 9888, 'lost': 5685, 'appear': 481, 'displayed': 2891, 'search': 8724, 'parameter': 6798, 'impact': 4764, 'productivity': 7418, 'searching': 8728, 'internship': 5140, 'update': 10487, 'pot': 7225, 'cum': 2376, 'ii': 4734, 'related': 8034, 'filling': 3834, 'program': 7432, 'whose': 10861, 'broad': 1197, 'street': 9445, 'kingdom': 5353, 'each': 3106, 'subsidiaries': 9523, 'entity': 3369, 'saturday': 8628, 'robbed': 8492, 'synced': 9693, 'conference': 1992, 'budapest': 1225, 'considering': 2063, 'volatile': 10700, 'stored': 9418, 'fact': 3698, 'agreed': 274, 'certain': 1501, 'remote': 8107, 'clean': 1673, 'wipe': 10888, 'know': 5361, 'achieve': 94, 'right': 8464, 'forum': 4041, 'better': 970, 'idea': 4705, 'contact': 2106, 'generate': 4207, 'enclosed': 3263, 'installation': 5038, 'unlock': 10414, 'someone': 9140, 'used': 10525, 'attempting': 685, 'reset': 8262, 'password': 6856, 'presented': 7312, 'following': 3970, 'architect': 544, 'failed': 3707, 'credentials': 2335, 'retain': 8356, 'last': 5411, 'publicly': 7544, 'queue': 7625, 'resolve': 8280, 'lung': 5720, 'mea': 5899, 'conform': 2017, 'additional': 155, 'inca': 4839, 'tine': 10002, 'mobil': 6114, 'oh': 6528, 'port': 7182, 'ti': 9959, 'paternal': 6870, 'merge': 5962, 'browser': 1216, 'intra': 5168, 'fie': 3814, 'urgent': 10515, 'maine': 5764, 'cr': 2303, 'merci': 5958, 'authorization': 736, 'procedure': 7393, 'urn': 10519, 'acme': 104, 'verify': 10614, 'encrypt': 3280, 'exterior': 3665, 'simple': 8989, 'prove': 7517, 'control': 2160, 'proxy': 7535, 'premise': 7285, 'automation': 750, 'workshops': 10950, 'unauthorized': 10310, 'web': 10797, 'interface': 5120, 'serial': 8822, 'requirement': 8227, 'face': 3688, 'git': 4247, 'release': 8049, 'awesome': 785, 'cam': 1356, 'assigned': 631, 'faulty': 3760, 'discovered': 2863, 'replaced': 8166, 'record': 7846, 'review': 8419, 'requirements': 8228, 'slow': 9072, 'assignment': 635, 'msg': 6217, 'monitor': 6158, 'setting': 8840, 'corresponding': 2248, 'pre': 7250, 'social': 9113, 'few': 3806, 'calls': 1354, 'earlier': 3111, 'call': 1349, 'were': 10826, 'join': 5275, 'one': 6546, 'off': 6512, 'broke': 1207, 'where': 10841, 'maidenhead': 5755, 'professional': 7421, 'meetings': 5929, 'app': 478, 'formerly': 4027, 'known': 5366, 'english': 3316, 'denmark': 2621, 'states': 9355, 'finland': 3871, 'germany': 4232, 'macedonia': 5727, 'norway': 6396, 'sweden': 9664, 'colombia': 1786, 'forgot': 4009, 'dial': 2738, 'pin': 7042, 'weekly': 10808, 'week': 10803, 'blockers': 1045, 'overall': 6686, 'schedule': 8666, 'need': 6297, 'drop': 3056, 'doing': 2968, 'extend': 3652, 'invite': 5204, 'vs': 10716, 'appeared': 483, 'reinstalled': 8010, 'undeliverable': 10332, 'disaster': 2830, 'recovery': 7860, 'groups': 4363, 'later': 5420, 'directly': 2805, 'organization': 6620, 'diagnostic': 2732, 'administrators': 189, 'generating': 4210, 'returned': 8389, 'due': 3071, 'permanent': 6947, 'configuration': 1999, 'attendant': 689, 'stage': 9315, 'wed': 10799, 'type': 10277, 'application': 496, 'encoding': 3268, 'binary': 999, 'thread': 9929, 'topic': 10055, 'index': 4903, 'language': 5398, 'attach': 672, 'mime': 6032, 'version': 10623, 'originating': 6638, 'path': 6872, 'response': 8301, 'suppress': 9618, 'users': 10529, 'passwords': 6857, 'planned': 7085, 'contractor': 2140, 'never': 6330, 'hot': 4656, 'spot': 9278, 'second': 8736, 'before': 904, 'go': 4272, 'sign': 8962, 'wanted': 10745, 'taking': 9738, 'charger': 1552, 'trip': 10201, 'reported': 8188, 'members': 5937, 'highlighted': 4565, 'folder': 3963, 'physical': 7010, 'tx': 10275, 'made': 5742, 'removed': 8113, 'well': 10823, 'extensions': 3661, 'investigate': 5195, 'appears': 485, 'rectify': 7874, 'anymore': 463, 'codes': 1741, 'sole': 9120, 'repository': 8193, 'found': 4049, 'permission': 6949, 'something': 9142, 'similar': 8986, 'blocked': 1043, 'maybe': 5894, 'entire': 3361, 'blocks': 1047, 'processes': 7401, 'monday': 6153, 'submission': 9504, 'tells': 9816, 'submit': 9506, 'those': 9921, 'notebook': 6406, 'making': 5780, 'intermittent': 5132, 'warring': 10763, 'noise': 6366, 'fan': 3735, 'completion': 1913, 'granted': 4318, 'specified': 9214, 'comes': 1815, 'side': 8954, 'extract': 3674, 'located': 5628, 'personnel': 6974, 'employees': 3241, 'once': 6545, 'everything': 3489, 'works': 10948, 'invalid': 5182, 'acting': 117, 'contacted': 2107, 'upstream': 10508, 'bellow': 937, 'created': 2324, 'container': 2112, 'dedicated': 2530, 'requesting': 8222, 'joiner': 5277, 'conf': 1991, 'adding': 152, 'morning': 6178, 'screen': 8697, 'start': 9342, 'graduates': 4310, 'task': 9768, 'improvement': 4816, 'figure': 3822, 'himself': 4574, 'teams': 9785, 'come': 1812, 'description': 2669, 'stating': 9358, 'period': 6937, 'given': 4251, 'entirely': 3362, 'surprising': 9634, 'reminders': 8101, 'switched': 9677, 'priority': 7371, 'moderate': 6129, 'various': 10579, 'socket': 9114, 'turn': 10251, 'makes': 5779, 'noises': 6367, 'thing': 9911, 'happens': 4444, 'multiple': 6226, 'nj': 6360, 'benefits': 956, 'unit': 10393, 'measurement': 5913, 'column': 1799, 'rise': 8477, 'recently': 7792, 'imported': 4798, 'viewing': 10652, 'displaying': 2892, 'potential': 7226, 'opportunity': 6581, 'cleared': 1683, 'starting': 9346, 'bid': 981, 'forecast': 3992, 'vice': 10636, 'president': 7323, 'transportation': 10154, 'per': 6918, 'investigation': 5198, 'own': 6736, 'candidate': 1378, 'accepted': 44, 'offer': 6515, 'her': 4531, 'docs': 2954, 'libraries': 5534, 'contracts': 2142, 'documents': 2962, 'plan': 7078, 'activity': 129, 'break': 1165, 'credential': 2334, 'logging': 5647, 'undetermined': 10361, 'disposal': 2894, 'built': 1249, 'misspelled': 6084, 'matches': 5870, 'label': 5373, 'bullet': 1256, 'hold': 4603, 'corrective': 2240, 'actions': 120, 'referenced': 7918, 'probably': 7384, 'cables': 1309, 'minimum': 6046, 'size': 9030, 'shopping': 8913, 'assigning': 634, 'badge': 821, 'colleague': 1771, 'visitor': 10680, 'upcoming': 10486, 'fill': 3831, 'activate': 121, 'builder': 1244, 'final': 3845, 'relevant': 8055, 'bulk': 1253, 'interns': 5139, 'reached': 7713, 'inactive': 4831, 'notice': 6413, 'heads': 4498, 'readiness': 7730, 'minutes': 6056, 'longer': 5658, 'experiencing': 3600, 'installing': 5043, 'win': 10877, 'try': 10230, 'install': 5037, 'otherwise': 6653, 'assume': 647, 'individual': 4920, 'cheers': 1585, 'mage': 5745, 'ready': 7734, 'hardware': 4453, 'every': 3485, 'restart': 8309, 'signature': 8971, 'event': 3477, 'locale': 5623, 'pack': 6753, 'product': 7414, 'visual': 10684, 'studio': 9483, 'integrated': 5075, 'ex': 3499, 'area': 554, 'confirmation': 2005, 'spare': 9183, 'shows': 8936, 'locked': 5637, 'original': 6632, 'alarm': 297, 'yellow': 10997, 'target': 9761, 'par': 6793, 'previous': 7347, 'definition': 2560, 'metric': 5989, 'red': 7885, 'values': 10565, 'disk': 2878, 'entries': 3375, 'absent': 21, 'input': 5000, 'delegating': 2576, 'feature': 3772, 'tasks': 9770, 'hrs': 4670, 'sa': 8574, 'import': 4793, 'arts': 592, 'turned': 10253, 'none': 6381, 'unfortunately': 10377, 'hearing': 4504, 'alerting': 305, 'their': 9886, 'anyway': 467, 'decommissioning': 2517, 'decommission': 2515, 'stopped': 9413, 'decommissioned': 2516, 'either': 3176, 'goes': 4278, 'confirm': 2004, 'apologize': 476, 'late': 5417, 'sorry': 9154, 'reaching': 7715, 'steps': 9388, 'step': 9385, 'press': 7325, 'agree': 273, 'll': 5611, 'fulfill': 4119, 'fields': 3816, 'locally': 5626, 'generated': 4208, 'approximately': 533, 'might': 6012, 'already': 350, 'field': 3815, 'performed': 6931, 'synchronization': 9696, 'between': 972, 'won': 10922, 'prompted': 7471, 'remain': 8080, 'speaking': 9195, 'said': 8585, 'send': 8789, 'environment': 3381, 'unavailable': 10312, 'applications': 497, 'canary': 1370, 'wharf': 10832, 'board': 1063, 'dates': 2456, 'assistance': 639, 'trail': 10102, 'scheduled': 8667, 'person': 6965, 'things': 9912, 'easier': 3123, 'south': 9166, 'room': 8518, 'tally': 9746, 'ones': 6547, 'diaries': 2748, 'chances': 1529, 'hit': 4591, 'queues': 7628, 'presence': 7306, 'mob': 6113, 'directorate': 2807, 'key': 5321, 'resource': 8285, 'presentations': 7311, 'tucker': 10235, 'onto': 6552, 'designated': 2677, 'hooked': 4629, 'tv': 10263, 'must': 6237, 'cover': 2295, 'slot': 9069, 'classed': 1660, 'discuss': 2870, 'relationship': 8040, 'wrote': 10979, 'throughout': 9944, 'arise': 564, 'secretarial': 8742, 'canada': 1367, 'square': 9295, 'largest': 5407, 'multimedia': 6224, 'publishers': 7548, 'award': 779, 'winning': 10885, 'portfolio': 7187, 'brands': 1157, 'important': 4796, 'attachments': 677, 'meant': 5907, 'intended': 5086, 'contain': 2110, 'reliance': 8059, 'disclosure': 2844, 'copying': 2220, 'strictly': 9455, 'prohibited': 7448, 'mistake': 6086, 'views': 10654, 'opinions': 6577, 'solely': 9121, 'author': 732, 'necessarily': 6290, 'represent': 8194, 'companies': 1867, 'hereinafter': 4536, 'referred': 7923, 'tm': 10020, 'consequences': 2054, 'basis': 869, 'subsequently': 9521, 'confirmed': 2007, 'reasonable': 7757, 'effort': 3167, 'transmitted': 10148, 'checking': 1577, 'interception': 5106, 'monitoring': 6160, 'operational': 6570, 'lawful': 5436, 'practices': 7242, 'parent': 6805, 'detail': 2700, 'happened': 4442, 'engineering': 3313, 'respect': 8288, 'originally': 6633, 'keeps': 5316, 'popping': 7173, 'matter': 5884, 'enters': 3358, 'even': 3473, 'though': 9922, 'logs': 5656, 'function': 4131, 'tested': 9863, 'successfully': 9544, 'exchanged': 3527, 'hover': 4666, 'mouse': 6203, 'icon': 4702, 'says': 8643, 'understand': 10347, 'timecards': 9988, 'saying': 8642, 'fusion': 4153, 'timecard': 9987, 'daily': 2428, 'ability': 6, 'knowledge': 5364, 'react': 7716, 'encountered': 3273, 'editing': 3143, 'pages': 6768, 'chrome': 1613, 'renders': 8125, 'height': 4514, 'causing': 1470, 'usability': 10521, 'experienced': 3598, 'reproducing': 8208, 'documentation': 2959, 'higher': 4561, 'fix': 3897, 'feasible': 3771, 'solution': 9130, 'ga': 4161, 'raise': 7664, 'modify': 6140, 'value': 10563, 'select': 8774, 'emphasizing': 3236, 'avoid': 770, 'permissions': 6950, 'restore': 8323, 'forms': 4029, 'ebb': 3131, 'absolutely': 23, 'clear': 1681, 'difference': 2764, 'plans': 7089, 'configuring': 2003, 'bulgarian': 1251, 'accrual': 78, 'changing': 1537, 'temp': 9818, 'epics': 3391, 'types': 10279, 'allowed': 338, 'granting': 4319, 'itself': 5256, 'removing': 8116, 'finds': 3858, 'called': 1350, 'months': 6168, 'look': 5663, 'maternity': 5879, 'expressed': 3645, 'susceptible': 9642, 'macs': 5737, 'lot': 5686, 'flash': 3912, 'into': 5166, 'enabled': 3258, 'settings': 8841, 'cant': 1381, 'grateful': 4332, 'tax': 9774, 'selected': 8775, 'equal': 3393, 'entered': 3356, 'contracted': 2138, 'sales': 8596, 'amount': 390, 'bottom': 1127, 'addressing': 164, 'cost': 2257, 'calculated': 1331, 'month': 6166, 'troubleshooting': 10215, 'grade': 4301, 'cl': 1642, 'bod': 1068, 'being': 925, 'activities': 128, 'accessing': 53, 'dated': 2455, 'apologies': 475, 'minor': 6048, 'amendment': 379, 'instruction': 5059, 'projects': 7454, 'menu': 5954, 'manage': 5790, 'initial': 4972, 'future': 4156, 'transactions': 10116, 'requisition': 8233, 'correct': 2235, 'finished': 3868, 'adjust': 173, 'save': 8633, 'unnecessary': 10419, 'increased': 4883, 'assistants': 641, 'post': 7209, 'natal': 6268, 'prenatal': 7289, 'replacing': 8171, 'wait': 10725, 'understanding': 10348, 'knew': 5359, 'joiners': 5278, 'hand': 4418, 'iv': 5257, 'basically': 866, 'info': 4952, 'schema': 8671, 'facilitate': 3691, 'specify': 9216, 'referring': 7925, 'allocating': 328, 'possibility': 7206, 'hey': 4546, 'previously': 7348, 'fixed': 3900, 'experience': 3597, 'caused': 1468, 'overview': 6725, 'maintain': 5769, 'main': 5763, 'couching': 2265, 'couch': 2264, 'direct': 2799, 'list': 5591, 'act': 115, 'spent': 9238, 'training': 10111, 'vacation': 10550, 'necessary': 6291, 'line': 5578, 'established': 3440, 'followed': 3969, 'cascade': 1435, 'gets': 4235, 'breakdown': 1166, 'refers': 7926, 'country': 2284, 'total': 10064, 'duplicate': 3086, 'requisitions': 8236, 'links': 5585, 'cable': 1307, 'meters': 5983, 'near': 6284, 'helped': 4521, 'desktop': 2687, 'explorer': 3630, 'initiate': 4978, 'window': 10878, 'opens': 6563, 'closes': 1710, 'equipment': 3399, 'switches': 9679, 'production': 7415, 'growth': 4369, 'contingency': 2125, 'revert': 8415, 'effective': 3158, 'initiator': 4985, 'exactly': 3502, 'setups': 8846, 'close': 1705, 'escalated': 3423, 'regularly': 7991, 'includes': 4856, 'director': 2806, 'paternity': 6871, 'leavers': 5473, 'disable': 2815, 'discussions': 2875, 'representatives': 8199, 'agreement': 275, 'announces': 431, 'prior': 7369, 'intention': 5093, 'respective': 8292, 'feel': 3789, 'anyone': 464, 'beginning': 913, 'great': 4338, 'evening': 3474, 'ahead': 281, 'recruiter': 7867, 'unimportant': 10387, 'events': 3478, 'cart': 1428, 'bb': 884, 'marsh': 5847, 'east': 3126, 'avenue': 765, 'cell': 1480, 'affiliates': 238, 'hereby': 4534, 'contained': 2111, 'dissemination': 2910, 'replying': 8185, 'hosts': 4655, 'authoritative': 733, 'closer': 1709, 'machines': 5733, 'follows': 3972, 'reassignment': 7765, 'critical': 2349, 'explicitly': 3624, 'occupying': 6498, 'range': 7683, 'pass': 6844, 'deactivate': 2465, 'endpoint': 3295, 'very': 10628, 'often': 6527, 'load': 5613, 'slowly': 9076, 'cause': 1467, 'shutdown': 8944, 'shut': 8943, 'hear': 4502, 'engineers': 3314, 'tomorrow': 10038, 'latest': 5422, 'flagged': 3905, 'controller': 2162, 'remotely': 8108, 'devices': 2726, 'ordinate': 6618, 'postpone': 7220, 'switch': 9675, 'approached': 516, 'initially': 4976, 'worth': 10962, 'giving': 4253, 'rely': 8077, 'single': 9012, 'timings': 10000, 'arrange': 573, 'bring': 1190, 'depend': 2630, 'routing': 8542, 'takes': 9737, 'networks': 6328, 'delayed': 2569, 'omitted': 6541, 'meantime': 5908, 'slightly': 9062, 'concerning': 1967, 'difficult': 2772, 'short': 8917, 'touch': 10068, 'mention': 5948, 'several': 8848, 'weekend': 10806, 'seen': 8765, 'gracefully': 4299, 'building': 1246, 'manually': 5815, 'fellow': 3795, 'electrical': 3186, 'phones': 6999, 'yours': 11010, 'sincerely': 9007, 'agrees': 277, 'grand': 4316, 'soft': 9116, 'measures': 5915, 'reversed': 8412, 'player': 7105, 'obtaining': 6487, 'noticed': 6415, 'disappeared': 2821, 'blocker': 1044, 'except': 3517, 'starts': 9347, 'along': 344, 'rehire': 7998, 'updated': 10488, 'initiated': 4979, 'opened': 6559, 'wrong': 10975, 'far': 3740, 'understood': 10351, 'recognize': 7814, 'engagement': 3307, 'backpack': 813, 'retrieve': 8376, 'visualize': 10686, 'provides': 7525, 'central': 1489, 'collaboration': 1760, 'ideas': 4708, 'tool': 10050, 'decision': 2504, 'together': 10025, 'example': 3506, 'coordinate': 2204, 'calendars': 1340, 'schedules': 8669, 'proposals': 7490, 'dynamic': 3103, 'interactive': 5102, 'contribute': 2152, 'buy': 1290, 'purposes': 7577, 'plus': 7125, 'mini': 6039, 'cellular': 1483, 'galaxy': 4171, 'edge': 3138, 'tab': 9708, 'estimate': 3445, 'neptune': 6322, 'gave': 4193, 'genius': 4217, 'helpful': 4523, 'attitude': 701, 'prompt': 7470, 'appreciate': 509, 'complaining': 1900, 'technician': 9797, 'supporters': 9610, 'unused': 10478, 'camera': 1359, 'degree': 2566, 'wide': 10863, 'angles': 416, 'borrowed': 1114, 'buying': 1293, 'mount': 6196, 'handed': 4420, 'afterwards': 250, 'interaction': 5100, 'thinking': 9914, 'fancy': 3736, 'stay': 9371, 'benefit': 955, 'appreciated': 510, 'microphones': 6001, 'expectations': 3583, 'pulp': 7558, 'fiction': 3811, 'chaplin': 1541, 'microphone': 6000, 'wars': 10764, 'bigger': 986, 'seats': 8732, 'mangers': 5801, 'give': 4248, 'mailing': 5759, 'accessed': 49, 'variable': 10569, 'reflect': 7935, 'moreover': 6176, 'defaults': 2543, 'incorrect': 4880, 'apparently': 480, 'finalize': 3846, 'forecasts': 3995, 'profiles': 7426, 'hands': 4430, 'refer': 7915, 'entities': 3365, 'appointment': 505, 'alto': 364, 'agenda': 257, 'chef': 1587, 'fundamentals': 4140, 'presentation': 7310, 'essentials': 3438, 'formal': 4013, 'numbering': 6441, 'progress': 7440, 'interference': 5124, 'unlawful': 10401, 'accepts': 46, 'responsibility': 8304, 'indemnity': 4899, 'middle': 6006, 'defer': 2551, 'misunderstanding': 6096, 'quiz': 7640, 'misspelling': 6085, 'correction': 2238, 'instead': 5053, 'toil': 10027, 'republic': 8212, 'kale': 5310, 'paying': 6889, 'fun': 4130, 'intend': 5085, 'raspberry': 7694, 'pi': 7013, 'plat': 7095, 'brother': 1211, 'object': 6459, 'twitter': 10272, 'especially': 3433, 'talked': 9742, 'than': 9876, 'expected': 3584, 'gone': 4284, 'recent': 7791, 'believe': 932, 'resolution': 8277, 'interactions': 5101, 'monitored': 6159, 'maintained': 5771, 'resolver': 8282, 'policies': 7146, 'procedures': 7394, 'reject': 8023, 'performance': 6929, 'atlanta': 668, 'requires': 8229, 'hooking': 4631, 'neither': 6319, 'foreseeable': 4002, 'treat': 10175, 'br': 1144, 'accesses': 50, 'accidentally': 59, 'letters': 5512, 'subtype': 9535, 'without': 10911, 'redirects': 7895, 'talk': 9741, 'redirect': 7891, 'balancer': 831, 'rules': 8558, 'resubmit': 8338, 'really': 7747, 'facility': 3696, 'assistant': 640, 'prompts': 7476, 'bear': 887, 'such': 9546, 'root': 8522, 'avail': 758, 'mounted': 6200, 'mapper': 5823, 'awaiting': 777, 'investigating': 5197, 'latency': 5419, 'deployed': 2644, 'place': 7069, 'creating': 2326, 'linked': 5583, 'repositories': 8192, 'nexus': 6344, 'prod': 7408, 'relocation': 8074, 'relocate': 8071, 'owners': 6740, 'tables': 9711, 'relocating': 8073, 'synchronize': 9697, 'restrict': 8327, 'synchronized': 9698, 'approves': 528, 'obviously': 6490, 'male': 5782, 'converter': 2180, 'dashboard': 2449, 'indicators': 4915, 'results': 8345, 'present': 7308, 'nor': 6389, 'result': 8341, 'receives': 7789, 'rows': 8547, 'constraints': 2088, 'customer': 2404, 'corrections': 2239, 'discussed': 2871, 'synchronizing': 9701, 'kudos': 5371, 'complaint': 1902, 'bringing': 1191, 'attention': 695, 'aware': 782, 'ladies': 5386, 'raised': 7665, 'satisfaction': 8622, 'repeat': 8157, 'solve': 9131, 'effectively': 3159, 'influenced': 4949, 'markings': 5841, 'impressive': 4809, 'frankfurt': 4068, 'exclude': 3532, 'connecting': 2037, 'listings': 5599, 'ecosystems': 3137, 'sending': 8791, 'postfix': 7215, 'brief': 1181, 'commands': 1823, 'dig': 2777, 'timeout': 9993, 'machine': 5730, 'totals': 10066, 'updating': 10492, 'independent': 4901, 'forecasted': 3993, 'committed': 1843, 'glitch': 4265, 'protector': 7509, 'voice': 10697, 'downstairs': 3007, 'package': 6754, 'another': 443, 'strange': 9430, 'continue': 2129, 'duplex': 3085, 'tray': 10170, 'according': 69, 'conversation': 2174, 'ranging': 7685, 'exceptions': 3522, 'capture': 1396, 'included': 4855, 'pull': 7552, 'artifact': 589, 'allow': 335, 'afternoon': 248, 'sing': 9009, 'regular': 7989, 'router': 8536, 'safe': 8579, 'output': 6678, 'packets': 6760, 'packet': 6759, 'loss': 5683, 'explain': 3616, 'preventing': 7342, 'shutting': 8947, 'lunch': 5715, 'disappear': 2820, 'minute': 6054, 'velocity': 10595, 'chart': 1559, 'told': 10032, 'template': 9824, 'treasury': 10174, 'apple': 490, 'pro': 7381, 'retina': 8366, 'moves': 6210, 'moving': 6213, 'guess': 4376, 'roles': 8507, 'career': 1409, 'perspective': 6976, 'unblock': 10318, 'year': 10993, 'book': 1089, 'ten': 9831, 'real': 7735, 'anybody': 461, 'sends': 8792, 'faxes': 3766, 'mon': 6152, 'word': 10930, 'pc': 6893, 'choosing': 1607, 'reserved': 8259, 'trademark': 10094, 'module': 6143, 'ports': 7191, 'builds': 1248, 'configured': 2002, 'newly': 6338, 'guest': 4380, 'believed': 933, 'behavior': 921, 'justification': 5304, 'stories': 9420, 'forced': 3987, 'drag': 3019, 'story': 9423, 'existing': 3570, 'aspect': 608, 'considered': 2062, 'inch': 4844, 'suitable': 9568, 'cpu': 2302, 'normally': 6392, 'programs': 7439, 'tools': 10052, 'browsers': 1217, 'consoles': 2075, 'db': 2462, 'loading': 5615, 'roll': 8508, 'pean': 6896, 'remind': 8098, 'ctrl': 2368, 'alt': 353, 'choose': 1605, 'sheet': 8890, 'arrive': 582, 'asap': 593, 'managing': 5795, 'cryptographic': 2362, 'prevention': 7343, 'applying': 500, 'described': 2666, 'asked': 604, 'parasite': 6800, 'certainly': 1502, 'disabled': 2816, 'published': 7546, 'presume': 7333, 'attempt': 683, 'uses': 10530, 'authentication': 730, 'retrieval': 8375, 'attempts': 686, 'concluded': 1971, 'likely': 5567, 'tracking': 10091, 'leaves': 5474, 'vital': 10690, 'expanding': 3578, 'drive': 3047, 'helping': 4525, 'less': 5504, 'normal': 6390, 'perhaps': 6935, 'female': 3797, 'receipt': 7779, 'processed': 7400, 'possess': 7202, 'powered': 7232, 'complains': 1901, 'bad': 820, 'handling': 4427, 'connections': 2039, 'outside': 6681, 'including': 4857, 'reverted': 8416, 'factory': 3702, 'ump': 10296, 'external': 3667, 'ail': 285, 'recommendations': 7821, 'little': 5607, 'bit': 1010, 'harder': 4451, 'display': 2890, 'options': 6604, 'invoicing': 5211, 'snip': 9105, 'represents': 8202, 'partitions': 6837, 'accountant': 73, 'structured': 9471, 'risks': 8482, 'seemed': 8762, 'saves': 8637, 'tell': 9814, 'worked': 10941, 'accelerator': 37, 'platform': 7097, 'took': 10049, 'double': 2988, 'counting': 2281, 'rename': 8118, 'contributor': 2157, 'appoint': 501, 'ribbon': 8456, 'kindest': 5348, 'servers': 8831, 'outcome': 6664, 'restarted': 8310, 'dozen': 3012, 'secured': 8752, 'submitting': 9510, 'visibility': 10674, 'contract': 2137, 'connector': 2040, 'returning': 8390, 'identify': 4717, 'source': 9164, 'wired': 10892, 'inaccessible': 4825, 'unauthenticated': 10309, 'brought': 1212, 'swapping': 9661, 'ac': 30, 'bot': 1117, 'triggered': 10193, 'cab': 1304, 'domain': 2972, 'gives': 4252, 'bytes': 1302, 'seq': 8817, 'destination': 2691, 'route': 8534, 'nested': 6326, 'exception': 3519, 'everybody': 3486, 'guideline': 4386, 'promoted': 7464, 'functions': 4137, 'terrifically': 9859, 'awkward': 790, 'easily': 3125, 'reorder': 8145, 'rather': 7699, 'selecting': 8776, 'constant': 2080, 'browse': 1214, 'suspect': 9643, 'migrated': 6015, 'fast': 3747, 'azure': 797, 'cores': 2229, 'confirming': 2008, 'extended': 3653, 'amendments': 380, 'sync': 9692, 'assisting': 643, 'billable': 992, 'filter': 3840, 'wrap': 10965, 'boards': 1066, 'yourself': 11011, 'fully': 4129, 'fulfilled': 4120, 'catch': 1453, 'rest': 8308, 'importing': 4800, 'populating': 7179, 'populate': 7176, 'payroll': 6891, 'records': 7852, 'mistaken': 6087, 'begging': 910, 'extremely': 3681, 'counterproductive': 2276, 'stop': 9411, 'specific': 9209, 'subscribe': 9513, 'wider': 10865, 'purposed': 7576, 'interest': 5115, 'chasing': 1565, 'bothering': 1121, 'reachable': 7712, 'relies': 8063, 'delivered': 2597, 'restricted': 8328, 'headers': 4487, 'transport': 10153, 'banners': 841, 'encrypted': 3281, 'relaxed': 8045, 'references': 7919, 'cipher': 1622, 'bits': 1011, 'selector': 8780, 'od': 6508, 'filtering': 3842, 'correlation': 2244, 'tenant': 9832, 'diagnostics': 2733, 'ob': 6455, 'rn': 8488, 'forefront': 3996, 'protection': 7507, 'designate': 2676, 'permitted': 6953, 'boundary': 1134, 'alternative': 360, 'hosted': 4653, 'vendor': 10596, 'engine': 3311, 'definitions': 2561, 'signatures': 8972, 'activation': 125, 'notices': 6416, 'activated': 122, 'rectified': 7873, 'mobility': 6117, 'arrived': 583, 'et': 3452, 'amended': 377, 'floors': 3941, 'rebuild': 7772, 'rebuilding': 7773, 'trio': 10200, 'shipped': 8902, 'tests': 9868, 'waiting': 10727, 'licenses': 5542, 'mockups': 6120, 'lack': 5383, 'solved': 9132, 'purpose': 7575, 'cont': 2105, 'automated': 745, 'metrics': 5990, 'pleased': 7114, 'puma': 7560, 'guide': 4383, 'provisional': 7530, 'seated': 8731, 'rescheduling': 8245, 'rescheduled': 8244, 'reschedule': 8243, 'fixing': 3902, 'investigated': 5196, 'identified': 4714, 'visitors': 10681, 'scenario': 8662, 'happen': 4441, 'full': 4126, 'backlog': 811, 'trainings': 10112, 'saw': 8639, 'urgently': 10516, 'serious': 8825, 'pool': 7166, 'disruptions': 2906, 'impacting': 4766, 'treated': 10176, 'upmost': 10503, 'urgency': 10514, 'stationary': 9360, 'station': 9359, 'overtime': 6724, 'deal': 2472, 'stated': 9350, 'understaffed': 10346, 'cleaning': 1677, 'frankly': 4070, 'archive': 549, 'measure': 5911, 'tomcat': 10036, 'backups': 817, 'zip': 11027, 'fail': 3706, 'traffic': 10100, 'command': 1820, 'bin': 997, 'sh': 8856, 'tail': 9727, 'rf': 8451, 'authorize': 737, 'donation': 2978, 'zealand': 11018, 'ideally': 4707, 'functionality': 4134, 'donate': 2976, 'delivering': 2599, 'estimating': 3448, 'accurate': 86, 'dealing': 2473, 'curious': 2389, 'frequency': 4084, 'asks': 606, 'repeatedly': 8159, 'incorrectly': 4881, 'lock': 5635, 'inconvenience': 4873, 'whom': 10859, 'ring': 8470, 'hunt': 4683, 'highest': 4562, 'idle': 4723, 'handled': 4424, 'informational': 4956, 'picks': 7021, 'affect': 229, 'observed': 6475, 'authorized': 738, 'analyze': 405, 'efficiency': 3164, 'reconfigure': 7834, 'valid': 10555, 'coming': 1818, 'findings': 3857, 'ownership': 6741, 'trends': 10183, 'expired': 3613, 'bag': 825, 'timeouts': 9994, 'frustrating': 4112, 'whenever': 10840, 'belgrade': 931, 'legacy': 5487, 'jobs': 5272, 'escape': 3428, 'character': 1545, 'registration': 7982, 'implement': 4779, 'additionally': 156, 'slaves': 9052, 'timed': 9989, 'accessible': 52, 'premises': 7286, 'wondering': 10926, 'secondly': 8738, 'integrate': 5074, 'finish': 3867, 'handoff': 4429, 'licence': 5536, 'recurrence': 7877, 'snow': 9110, 'besides': 963, 'category': 1461, 'populated': 7177, 'pl': 7068, 'templates': 9825, 'categories': 1457, 'corporate': 2233, 'north': 6394, 'anything': 465, 'slowing': 9075, 'recurring': 7880, 'mondays': 6154, 'increasing': 4885, 'mails': 5760, 'letting': 5513, 'blacklist': 1018, 'typical': 10281, 'senders': 8790, 'seeing': 8758, 'luck': 5706, 'alternatives': 362, 'compatible': 1878, 'partial': 6820, 'accident': 57, 'cancel': 1371, 'performing': 6933, 'indicate': 4907, 'vulnerable': 10721, 'infections': 4940, 'apply': 499, 'retrieved': 8377, 'manifest': 5803, 'encrypting': 3282, 'materials': 5877, 'insert': 5011, 'entry': 3376, 'images': 4750, 'preview': 7345, 'inclusive': 4859, 'intr': 5167, 'cine': 1621, 'bun': 1264, 'dire': 2798, 'leg': 5485, 'hubs': 4672, 'headsets': 4500, 'wireless': 10893, 'mice': 5996, 'keyboards': 5323, 'monitors': 6161, 'ordering': 6614, 'vikings': 10656, 'dash': 2448, 'vacations': 10551, 'cal': 1327, 'visit': 10677, 'sorted': 9156, 'malfunction': 5783, 'wall': 10735, 'sockets': 9115, 'operating': 6568, 'tripping': 10203, 'scanning': 8655, 'paid': 6770, 'ore': 6619, 'imagine': 4753, 'pun': 7562, 'fortunately': 4039, 'android': 413, 'situated': 9025, 'framework': 4065, 'allocated': 327, 'roughly': 8529, 'removal': 8110, 'commencing': 1827, 'facilities': 3695, 'begin': 911, 'datum': 2458, 'cluster': 1725, 'blacklisted': 1019, 'arrival': 580, 'adaptor': 146, 'parties': 6833, 'plain': 7077, 'zoom': 11034, 'somewhere': 9146, 'modified': 6139, 'wish': 10897, 'track': 10087, 'school': 8676, 'providing': 7526, 'nude': 6435, 'tempered': 9822, 'glass': 4260, 'swap': 9659, 'alert': 303, 'became': 894, 'points': 7139, 'incremental': 4889, 'replica': 8178, 'cleanup': 1679, 'succeeds': 9540, 'console': 2074, 'ems': 3251, 'pointing': 7137, 'overwritten': 6732, 'restriction': 8330, 'solving': 9134, 'notifying': 6422, 'overwrite': 6729, 'exporting': 3637, 'crash': 2312, 'needing': 6300, 'led': 5477, 'mg': 5995, 'belong': 939, 'separated': 8810, 'belonging': 941, 'tau': 9772, 'spun': 9291, 'floating': 3936, 'constantly': 2081, 'finding': 3856, 'quotation': 7645, 'aim': 286, 'aligned': 313, 'expiration': 3610, 'escalate': 3422, 'safety': 8584, 'greetings': 4345, 'exports': 3638, 'insecure': 5010, 'pressing': 7329, 'methodology': 5986, 'distinct': 2913, 'acts': 130, 'upgrades': 10495, 'defender': 2550, 'niche': 6348, 'trusted': 10225, 'large': 5404, 'mid': 6004, 'execution': 3549, 'proven': 7519, 'capabilities': 1386, 'robust': 8498, 'experiences': 3599, 'modernization': 6134, 'specialized': 9205, 'mortgage': 6180, 'seven': 8847, 'bridges': 1180, 'amongst': 388, 'reduction': 7904, 'scripts': 8709, 'reduce': 7900, 'excellence': 3514, 'infra': 4962, 'assessed': 619, 'certified': 1509, 'accordance': 68, 'governance': 4292, 'reduced': 7901, 'challenges': 1523, 'speed': 9224, 'road': 8489, 'harrow': 4460, 'confidentiality': 1998, 'disclaimer': 2839, 'proprietary': 7496, 'erroneously': 3416, 'acknowledges': 102, 'exercise': 3556, 'integrity': 5081, 'contents': 2121, 'transmissions': 10144, 'binding': 1001, 'nature': 6275, 'shall': 8866, 'implied': 4789, 'assumed': 648, 'expressly': 3649, 'authority': 735, 'defects': 2547, 'addressed': 160, 'finally': 3849, 'damage': 2430, 'accrued': 81, 'designer': 2680, 'expect': 3581, 'ours': 6657, 'lists': 5600, 'wondered': 10924, 'destroy': 2694, 'distribute': 2922, 'consent': 2052, 'reserve': 8258, 'recorded': 7847, 'specifically': 9210, 'trading': 10097, 'wales': 10731, 'regulation': 7994, 'regulated': 7993, 'conduct': 1987, 'midlands': 6007, 'unlimited': 10408, 'living': 5610, 'vets': 10631, 'professionals': 7422, 'pet': 6983, 'appointed': 502, 'representative': 8198, 'jersey': 5268, 'commission': 1836, 'mediation': 5921, 'firm': 3880, 'totally': 10065, 'collins': 1783, 'fish': 3888, 'animal': 420, 'partnerships': 6840, 'guidance': 4382, 'waterloo': 10780, 'court': 2293, 'hampshire': 4417, 'sp': 9173, 'federation': 3780, 'drivers': 3050, 'came': 1358, 'point': 7133, 'extending': 3657, 'hopefully': 4637, 'engagements': 3308, 'bother': 1119, 'specialists': 9202, 'newsletters': 6340, 'portal': 7184, 'occurred': 6500, 'ethnic': 3459, 'prima': 7356, 'disregard': 2900, 'naming': 6260, 'remaining': 8084, 'chief': 1595, 'caller': 1351, 'opportunities': 6580, 'adviser': 221, 'hosting': 4654, 'features': 3774, 'baseline': 861, 'debug': 2487, 'components': 1927, 'obtain': 6484, 'homes': 4616, 'bogota': 1072, 'occurring': 6503, 'expectation': 3582, 'afraid': 245, 'manner': 5813, 'facing': 3697, 'poor': 7169, 'colors': 1792, 'eyes': 3684, 'tire': 10005, 'quickly': 7632, 'movement': 6208, 'perfect': 6925, 'door': 2983, 'vest': 10629, 'misuse': 6099, 'doubt': 2991, 'authenticity': 731, 'checkers': 1576, 'holds': 4606, 'introducing': 5173, 'refuses': 7958, 'restarting': 8311, 'connects': 2042, 'disconnects': 2852, 'prompting': 7472, 'persists': 6964, 'titles': 10016, 'involved': 5215, 'price': 7349, 'four': 4053, 'cases': 1438, 'trapped': 10159, 'obvious': 6489, 'pump': 7561, 'dump': 3078, 'fraud': 4073, 'interestingly': 5118, 'vietnam': 10646, 'forwarding': 4047, 'awareness': 783, 'subscriber': 9515, 'special': 9200, 'tip': 10003, 'ticker': 9962, 'imminent': 4762, 'announced': 428, 'revolutionized': 8439, 'drone': 3053, 'industry': 4930, 'drones': 3054, 'dispatched': 2886, 'areas': 555, 'crime': 2342, 'scenes': 8665, 'chases': 1564, 'wild': 10873, 'fires': 3878, 'operates': 6567, 'complex': 1914, 'algorithms': 309, 'efficiently': 3166, 'dispatch': 2885, 'moments': 6149, 'owns': 6744, 'scene': 8664, 'exclusive': 3538, 'streamed': 9439, 'literally': 5604, 'broadcasting': 1201, 'prominent': 7458, 'maker': 5777, 'sees': 8767, 'willing': 10875, 'acquire': 105, 'premium': 7287, 'friends': 4097, 'cents': 1497, 'massive': 5862, 'profits': 7430, 'words': 10933, 'survey': 9638, 'clicking': 1691, 'relation': 8037, 'positive': 7200, 'christmas': 1612, 'party': 6841, 'firma': 3881, 'spilled': 9243, 'coffee': 1746, 'inverted': 5192, 'dry': 3062, 'keys': 5327, 'repair': 8149, 'reading': 7731, 'placed': 7070, 'disciplines': 2838, 'official': 6522, 'sectors': 8749, 'toward': 10076, 'recommend': 7819, 'withdrew': 10908, 'joins': 5280, 'success': 9541, 'cells': 1482, 'funnily': 4145, 'halfway': 4406, 'crashed': 2313, 'rewrite': 8450, 'developments': 2723, 'eye': 3683, 'barely': 848, 'functioning': 4136, 'fat': 3752, 'onwards': 6554, 'patched': 6865, 'affected': 230, 'privileges': 7378, 'super': 9583, 'differently': 2770, 'draft': 3015, 'proof': 7479, 'iii': 4735, 'sis': 9018, 'actual': 131, 'database': 2452, 'databases': 2453, 'towers': 10079, 'supplier': 9604, 'pricing': 7352, 'respectively': 8293, 'instances': 5048, 'sd': 8716, 'sifting': 8958, 'revised': 8427, 'planner': 7086, 'contribution': 2155, 'dedicate': 2529, 'okapi': 6530, 'portals': 7185, 'reconciliation': 7830, 'rapid': 7689, 'arizona': 567, 'worries': 10957, 'launch': 5431, 'frustrated': 4111, 'slips': 9066, 'lees': 5481, 'completely': 1909, 'thinks': 9915, 'receptionist': 7795, 'centers': 1487, 'say': 8641, 'snagging': 9097, 'outstanding': 6682, 'charge': 1549, 'joined': 5276, 'position': 7196, 'sick': 8952, 'doctor': 2955, 'amend': 376, 'editorial': 3147, 'cursor': 2397, 'sliding': 9059, 'lately': 5418, 'diagonally': 2734, 'across': 114, 'twice': 10269, 'becomes': 898, 'unusable': 10477, 'reproduce': 8204, 'common': 1847, 'suggestions': 9563, 'disabling': 2818, 'stick': 9391, 'alias': 310, 'communicate': 1853, 'organizers': 6626, 'communities': 1860, 'difficulties': 2773, 'leading': 5453, 'improbable': 4811, 'aliases': 311, 'series': 8823, 'picked': 7017, 'dada': 2427, 'tie': 9972, 'recreated': 7862, 'preferred': 7276, 'trips': 10204, 'null': 6438, 'applicable': 493, 'careers': 1410, 'core': 2228, 'ass': 613, 'sorting': 9157, 'lose': 5679, 'periodically': 6940, 'exit': 3572, 'bar': 843, 'tracing': 10086, 'hard': 4449, 'physically': 7011, 'salaries': 8593, 'coaches': 1731, 'context': 2124, 'pictures': 7025, 'restored': 8324, 'desired': 2685, 'screens': 8700, 'arrangements': 576, 'emergency': 3224, 'telephone': 9807, 'delegate': 2573, 'traveling': 10165, 'departure': 2629, 'money': 6156, 'flight': 3932, 'conditions': 1985, 'luggage': 5711, 'flights': 3933, 'reservations': 8257, 'regency': 7969, 'breakfast': 1167, 'availability': 759, 'accommodation': 62, 'economy': 3135, 'decide': 2499, 'rush': 8569, 'periscope': 6944, 'disc': 2831, 'accommodate': 61, 'foe': 3959, 'receivable': 7783, 'commitment': 1840, 'broken': 1208, 'calling': 1353, 'kept': 5318, 'permanently': 6948, 'fallen': 3722, 'tension': 9841, 'usable': 10522, 'coat': 1734, 'greeting': 4344, 'kicks': 5337, 'analysts': 403, 'elevate': 3196, 'recover': 7854, 'mate': 5872, 'oz': 6749, 'posted': 7212, 'eventual': 3479, 'master': 5864, 'renewal': 8128, 'quotes': 7649, 'mare': 5829, 'spend': 9235, 'sheets': 8891, 'manger': 5800, 'reoccurring': 8140, 'boot': 1101, 'mutual': 6241, 'termination': 9851, 'symptoms': 9691, 'noisy': 6368, 'putting': 7589, 'docking': 2953, 'pasta': 6859, 'thermal': 9904, 'paste': 6860, 'arctic': 553, 'highly': 4568, 'attacks': 682, 'detailed': 2701, 'reboot': 7771, 'hidden': 4554, 'icons': 4703, 'responded': 8296, 'declined': 2513, 'prevent': 7340, 'lieu': 5547, 'rejection': 8027, 'requestor': 8223, 'leaders': 5451, 'freezing': 4082, 'decided': 2500, 'suite': 9569, 'almost': 342, 'maximum': 5893, 'yammer': 10987, 'kb': 5311, 'adhesive': 169, 'lap': 5401, 'provider': 7523, 'ludwig': 5710, 'fax': 3765, 'consuming': 2103, 'alone': 343, 'tape': 9754, 'statuses': 9370, 'explained': 3617, 'causes': 1469, 'recreate': 7861, 'approvers': 527, 'validation': 10560, 'resolutions': 8278, 'quadruple': 7596, 'markets': 5839, 'traditional': 10099, 'places': 7075, 'stash': 9348, 'scratch': 8692, 'overinflated': 6698, 'upside': 10507, 'relieved': 8064, 'stumbled': 9486, 'undervalued': 10356, 'trials': 10186, 'poised': 7140, 'five': 3896, 'grab': 4296, 'seriously': 8826, 'masses': 5861, 'shoots': 8911, 'glad': 4255, 'expecting': 3585, 'terminated': 9848, 'unexpectedly': 10365, 'faces': 3690, 'tick': 9960, 'course': 2291, 'escaped': 3429, 'complained': 1899, 'alerts': 306, 'vulnerabilities': 10719, 'scans': 8656, 'propose': 7491, 'expenditure': 3593, 'extracted': 3675, 'names': 6259, 'increase': 4882, 'concerns': 1968, 'ranked': 7686, 'winner': 10883, 'damaged': 2431, 'trouble': 10211, 'inconsistent': 4871, 'protected': 7505, 'consistency': 2069, 'unexpected': 10364, 'unforeseen': 10373, 'tracked': 10088, 'volume': 10705, 'loc': 5622, 'remedies': 8092, 'sticking': 9394, 'weighted': 10813, 'discrepancy': 2866, 'signs': 8979, 'politeness': 7151, 'empathy': 3232, 'weigh': 10810, 'spite': 9255, 'tampering': 9749, 'weights': 10814, 'answer': 446, 'clarification': 1650, 'examples': 3507, 'gladly': 4256, 'driver': 3049, 'signing': 8978, 'changer': 1535, 'hence': 4530, 'supporting': 9611, 'subjects': 9501, 'variables': 10570, 'renamed': 8119, 'consolidation': 2079, 'aggregate': 263, 'upper': 10505, 'levels': 5516, 'lazy': 5447, 'doc': 2949, 'reverse': 8411, 'batch': 874, 'trainer': 10109, 'amp': 392, 'sensitivity': 8802, 'returns': 8391, 'contacts': 2109, 'reoccurred': 8138, 'condition': 1982, 'excludes': 3534, 'starters': 9345, 'silent': 8981, 'rack': 7652, 'reassign': 7762, 'supported': 9608, 'pending': 6911, 'deep': 2536, 'enclosure': 3265, 'speeding': 9226, 'soundproofed': 9162, 'dark': 2445, 'grey': 4347, 'choices': 1604, 'vat': 10584, 'quotations': 7646, 'true': 10219, 'pus': 7579, 'severity': 8852, 'bugs': 1241, 'killed': 5342, 'journals': 5286, 'journal': 5285, 'obi': 6457, 'combination': 1804, 'correspond': 2245, 'reopen': 8142, 'separately': 8811, 'dice': 2753, 'parallels': 6797, 'treating': 10177, 'deleting': 2582, 'epic': 3390, 'unlocked': 10415, 'blending': 1030, 'expertise': 3608, 'promptness': 7475, 'prayers': 7249, 'god': 4276, 'bless': 1031, 'cheque': 1590, 'persistent': 6962, 'attaching': 676, 'booting': 1104, 'fps': 4055, 'stack': 9307, 'antenna': 451, 'ant': 450, 'dipole': 2797, 'accessories': 55, 'catalyst': 1452, 'reviewed': 8420, 'impacts': 4767, 'adjustment': 177, 'cd': 1473, 'customers': 2405, 'ab': 0, 'presenter': 7313, 'safari': 8578, 'preferences': 7275, 'unchecked': 10325, 'deselect': 2672, 'history': 4590, 'enrolled': 3342, 'scenarios': 8663, 'acceptance': 41, 'liverpool': 5608, 'favour': 3764, 'menus': 5955, 'ale': 302, 'goods': 4286, 'others': 6652, 'countdown': 2270, 'expires': 3614, 'moore': 6171, 'delighted': 2589, 'glee': 4262, 'term': 9844, 'ecosystem': 3136, 'mousses': 6204, 'cross': 2352, 'cut': 2411, 'uppercase': 10506, 'lowercase': 5697, 'recurrent': 7879, 'method': 5984, 'whit': 10853, 'overnight': 6710, 'ramp': 7675, 'ie': 4726, 'environments': 3383, 'mr': 6215, 'es': 3419, 'pp': 7237, 'ox': 6745, 'hits': 4592, 'mixed': 6105, 'unique': 10391, 'protect': 7504, 'embankment': 3213, 'dam': 2429, 'countries': 2283, 'ledger': 5478, 'courses': 2292, 'gap': 4179, 'manufacturer': 5817, 'tonight': 10045, 'anywhere': 469, 'originated': 6636, 'problematic': 7389, 'corrected': 2236, 'unaffected': 10301, 'peoples': 6915, 'gain': 4165, 'rising': 8481, 'infection': 4939, 'bureau': 1271, 'attempted': 684, 'instance': 5047, 'despite': 2690, 'resetting': 8264, 'challenge': 1520, 'severe': 8850, 'calamity': 1328, 'format': 4018, 'meets': 5930, 'chat': 1567, 'organized': 6624, 'comers': 1814, 'induction': 4925, 'incomplete': 4867, 'bug': 1237, 'inclusively': 4860, 'listening': 5596, 'verification': 10611, 'script': 8706, 'defined': 2555, 'buffers': 1236, 'establish': 3439, 'cache': 1312, 'memory': 5945, 'depth': 2656, 'dc': 2464, 'channel': 1538, 'initialized': 4975, 'hash': 4465, 'decrypt': 2525, 'peer': 6903, 'reconnecting': 7838, 'pause': 6881, 'retry': 8386, 'exiting': 3573, 'samples': 8605, 'manifests': 5806, 'priory': 7372, 'affects': 234, 'prevents': 7344, 'fulfilling': 4123, 'existent': 3569, 'front': 4100, 'sources': 9165, 'reviews': 8424, 'pipelines': 7055, 'dismiss': 2882, 'sonar': 9147, 'outgoing': 6670, 'headphones': 4494, 'formally': 4017, 'cube': 2370, 'uploaded': 10500, 'polls': 7158, 'shown': 8935, 'snapshot': 9100, 'assignee': 632, 'resume': 8346, 'transaction': 10114, 'advises': 222, 'implementing': 4782, 'incidents': 4850, 'mom': 6147, 'needless': 6302, 'wise': 10896, 'managed': 5792, 'vulnerability': 10720, 'apache': 470, 'false': 3728, 'positives': 7201, 'editions': 3145, 'patches': 6866, 'ported': 7186, 'optimization': 6596, 'nearly': 6287, 'archiving': 552, 'suspicious': 9652, 'reconnect': 7836, 'negatively': 6306, 'campaign': 1362, 'responses': 8302, 'map': 5821, 'answers': 449, 'announce': 427, 'encryption': 3283, 'extern': 3666, 'visits': 10682, 'flickering': 3929, 'badly': 824, 'somebody': 9137, 'impacted': 4765, 'clearly': 1686, 'sort': 9155, 'accepting': 45, 'cartridge': 1432, 'improve': 4814, 'intern': 5134, 'matte': 5883, 'deactivated': 2466, 'somehow': 9139, 'interview': 5162, 'fit': 3893, 'indirect': 4918, 'margin': 5830, 'sow': 9170, 'executed': 3547, 'dynamics': 3105, 'simplification': 8993, 'variation': 10574, 'music': 6236, 'esc': 3420, 'tries': 10191, 'hour': 4659, 'intervals': 5158, 'deadlines': 2471, 'crucial': 2355, 'reassigned': 7763, 'meaning': 5903, 'fundamental': 4139, 'threshold': 9935, 'breached': 1161, 'que': 7613, 'slog': 9067, 'certificates': 1506, 'packages': 6756, 'parameters': 6799, 'regardless': 7967, 'maintenance': 5774, 'downtime': 3009, 'duration': 3093, 'frame': 4063, 'invitation': 5202, 'ops': 6585, 'indicated': 4908, 'weird': 10815, 'instant': 5049, 'panel': 6786, 'lovely': 5694, 'occupied': 6494, 'mainline': 5765, 'heavily': 4509, 'imputed': 4822, 'flowing': 3944, 'nomination': 6376, 'nominee': 6378, 'submitter': 9509, 'adaptable': 139, 'nominate': 6372, 'dedication': 2531, 'continuous': 2134, 'determination': 2713, 'extra': 3673, 'mile': 6021, 'involvement': 5216, 'quality': 7602, 'efforts': 3168, 'clarifying': 1655, 'complicated': 1920, 'successful': 9543, 'eager': 3107, 'maturity': 5887, 'towards': 10077, 'valuable': 10562, 'thoughtful': 9924, 'passing': 6849, 'top': 10053, 'incoming': 4863, 'impossible': 4805, 'propagated': 7483, 'dears': 2479, 'screening': 8699, 'validate': 10556, 'revalidation': 8400, 'distributions': 2925, 'invoice': 5209, 'evaluate': 3464, 'remember': 8094, 'vote': 10710, 'slides': 9058, 'expressing': 3647, 'alive': 319, 'canceling': 1373, 'canceled': 1372, 'bandwidth': 839, 'allows': 340, 'determine': 2714, 'title': 10014, 'opposed': 6582, 'written': 10974, 'dislocated': 2880, 'big': 985, 'practice': 7241, 'inserting': 5013, 'erase': 3404, 'reflected': 7936, 'advising': 223, 'indefinite': 4895, 'ticketing': 9965, 'gather': 4189, 'searched': 8726, 'typo': 10284, 'reservation': 8256, 'informs': 4960, 'coding': 1743, 'upgraded': 10494, 'slower': 9074, 'everyday': 3487, 'accomplish': 65, 'distr': 2919, 'prerequisites': 7302, 'analyzing': 409, 'figures': 3824, 'kick': 5333, 'kickoff': 5336, 'arranged': 574, 'fee': 3782, 'persist': 6959, 'recur': 7876, 'warm': 10751, 'round': 8530, 'secondary': 8737, 'conferences': 1993, 'birmingham': 1005, 'edition': 3144, 'implemented': 4781, 'liber': 5532, 'dup': 3084, 'nostrum': 6401, 'text': 9871, 'sold': 9119, 'buyer': 1291, 'nonrecoverable': 6383, 'requisitioning': 8235, 'requester': 8220, 'cooling': 2200, 'pad': 6762, 'mean': 5902, 'workbook': 10937, 'opp': 6578, 'cord': 2222, 'plastic': 7094, 'licensing': 5543, 'forecasting': 3994, 'fwd': 4160, 'transferring': 10125, 'repaired': 8150, 'assisted': 642, 'closure': 1714, 'notes': 6410, 'noted': 6408, 'lunchtime': 5718, 'expert': 3607, 'attrition': 710, 'stolen': 9408, 'block': 1040, 'consult': 2092, 'pair': 6778, 'modules': 6144, 'cambridge': 1357, 'science': 8678, 'gates': 4186, 'looping': 5673, 'probed': 7387, 'sounds': 9163, 'steer': 9380, 'piece': 7028, 'channels': 1539, 'acquiring': 107, 'transit': 10133, 'demanding': 2607, 'straightforward': 9426, 'relate': 8033, 'endorsed': 3294, 'arising': 566, 'transmission': 10143, 'regulations': 7995, 'provision': 7529, 'amsterdam': 395, 'consulted': 2097, 'logo': 5655, 'brand': 1155, 'marks': 5842, 'mercury': 5960, 'heard': 4503, 'breaking': 1168, 'greatly': 4340, 'apart': 471, 'handle': 4423, 'sessions': 8836, 'years': 10995, 'loop': 5671, 'topics': 10056, 'maps': 5826, 'implication': 4785, 'layout': 5445, 'celling': 1481, 'dab': 2425, 'mapped': 5822, 'rcpt': 7708, 'header': 4486, 'nemesis': 6320, 'paso': 6843, 'xx': 10983, 'zee': 11020, 'mw': 6243, 'ye': 10990, 'wrongly': 10978, 'answered': 447, 'incidence': 4847, 'explains': 3619, 'perfectly': 6926, 'quite': 7637, 'themselves': 9891, 'assuming': 650, 'displays': 2893, 'appearing': 484, 'quarantined': 7607, 'primary': 7357, 'released': 8050, 'convenience': 2167, 'ace': 89, 'trust': 10224, 'caps': 1393, 'pilot': 7039, 'crate': 2316, 'milky': 6026, 'occurs': 6504, 'renewed': 8130, 'scripting': 8708, 'theoretic': 9893, 'grades': 4303, 'cream': 2322, 'sc': 8645, 'advances': 203, 'units': 10394, 'schemes': 8673, 'hitting': 4593, 'payed': 6886, 'justify': 5307, 'bonus': 1085, 'covering': 2298, 'sudden': 9548, 'introduce': 5170, 'loses': 5681, 'warranty': 10762, 'micro': 5998, 'sooner': 9150, 'backpacks': 814, 'suspended': 9647, 'split': 9260, 'lines': 5580, 'splits': 9261, 'temporarily': 9829, 'mc': 5897, 'communicating': 1856, 'communicated': 1854, 'interfaces': 5121, 'fault': 3757, 'reseat': 8250, 'recurs': 7881, 'surface': 9621, 'packs': 6761, 'downgrade': 2997, 'downgrading': 3000, 'brilliant': 1189, 'workstation': 10951, 'announcement': 429, 'interval': 5157, 'estimated': 3446, 'dependency': 2633, 'article': 587, 'unlinking': 10410, 'behind': 923, 'correspondence': 2246, 'boxes': 1140, 'constraint': 2087, 'temporary': 9830, 'forgive': 4008, 'sec': 8734, 'canteen': 1382, 'contains': 2115, 'rarely': 7693, 'unclear': 10327, 'introduction': 5174, 'jolly': 5284, 'ground': 4359, 'touched': 10069, 'developers': 2721, 'hoping': 4639, 'lined': 5579, 'gratefully': 4333, 'specifications': 9212, 'water': 10778, 'hove': 4665, 'analyse': 398, 'attributes': 707, 'audited': 716, 'attribute': 706, 'deployments': 2646, 'sept': 8816, 'stuck': 9478, 'moderator': 6131, 'negus': 6315, 'graphs': 4327, 'radar': 7654, 'steering': 9381, 'improvements': 4817, 'modifications': 6138, 'proposed': 7492, 'radius': 7656, 'rule': 8557, 'optimize': 6597, 'tunnel': 10245, 'bookings': 1092, 'bypass': 1298, 'cheaper': 1571, 'prepare': 7293, 'greco': 4342, 'reload': 8067, 'headset': 4499, 'storing': 9421, 'fresh': 4087, 'okay': 6531, 'audio': 715, 'quantity': 7606, 'mixer': 6106, 'chime': 1599, 'controlled': 2161, 'override': 6713, 'receiver': 7787, 'tuner': 10242, 'loudspeaker': 5691, 'speaker': 9193, 'marketing': 5837, 'shadow': 8858, 'jabber': 5258, 'desperately': 2689, 'gig': 4241, 'disks': 2879, 'count': 2269, 'sector': 8748, 'identification': 4713, 'reopened': 8143, 'dead': 2469, 'handset': 4431, 'unsaved': 10455, 'vain': 10554, 'exempt': 3554, 'remedy': 8093, 'periodic': 6938, 'foil': 3960, 'protective': 7508, 'trainers': 10110, 'thames': 9875, 'danube': 2442, 'submits': 9507, 'demo': 2611, 'walk': 10732, 'waste': 10771, 'initialization': 4973, 'sequence': 8819, 'edited': 3142, 'controllers': 2163, 'telephony': 9811, 'holder': 4604, 'neck': 6295, 'assumption': 651, 'terminal': 9845, 'await': 776, 'consensus': 2051, 'estimation': 3449, 'sell': 8784, 'estimates': 3447, 'deals': 2475, 'completing': 1912, 'medium': 5925, 'average': 766, 'clarify': 1654, 'cope': 2211, 'varying': 10581, 'demand': 2605, 'adjustable': 174, 'lower': 5696, 'uncomfortable': 10328, 'charging': 1555, 'booted': 1102, 'dept': 2655, 'archived': 550, 'ignore': 4730, 'merchant': 5957, 'buzz': 1294, 'con': 1958, 'nm': 6361, 'adjustments': 178, 'encountering': 3274, 'oms': 6543, 'unacceptable': 10298, 'functional': 4132, 'contributors': 2158, 'writes': 10972, 'strangely': 9431, 'controls': 2164, 'resizing': 8275, 'virtual': 10667, 'hibernation': 4550, 'cleaned': 1674, 'reader': 7727, 'concern': 1965, 'earliest': 3112, 'numerous': 6445, 'sir': 9016, 'madam': 5739, 'deferred': 2552, 'vine': 10660, 'patient': 6876, 'authenticate': 727, 'subsequent': 9520, 'registering': 7979, 'secret': 8741, 'relying': 8078, 'expirations': 3611, 'blow': 1051, 'reducing': 7903, 'fuji': 4117, 'curl': 2390, 'postman': 7218, 'encoded': 3267, 'body': 1070, 'refresh': 7943, 'imply': 4791, 'behaviors': 922, 'begins': 914, 'whoever': 10856, 'interruptions': 5151, 'everest': 3483, 'blanc': 1025, 'olympus': 6537, 'greater': 4339, 'versions': 10624, 'keyset': 5328, 'disconnected': 2848, 'fatal': 3753, 'ticked': 9961, 'favor': 3761, 'reviewers': 8422, 'commit': 1839, 'particular': 6829, 'influence': 4948, 'sat': 8620, 'broadcast': 1199, 'accountable': 71, 'casa': 1433, 'ceremony': 1499, 'cafe': 1322, 'parallel': 6796, 'germ': 4231, 'videos': 10643, 'laser': 5408, 'blank': 1026, 'navigating': 6279, 'abandoned': 2, 'exported': 3636, 'spoke': 9264, 'inserted': 5012, 'sad': 8576, 'pops': 7174, 'chosen': 1610, 'gear': 4195, 'tight': 9978, 'suppliers': 9605, 'reserves': 8260, 'whilst': 10850, 'safeguard': 8580, 'operate': 6565, 'intel': 5082, 'applies': 498, 'bonjour': 1083, 'discount': 2856, 'coma': 1802, 'retains': 8360, 'transferal': 10123, 'personally': 6973, 'benchmark': 948, 'peers': 6905, 'incentive': 4842, 'robustness': 8499, 'transferability': 10122, 'measured': 5912, 'cast': 1443, 'deletion': 2583, 'bought': 1128, 'privately': 7375, 'pointed': 7134, 'aw': 775, 'structures': 9472, 'chargeable': 1550, 'assessors': 625, 'downloading': 3004, 'siting': 9021, 'conclude': 1970, 'cod': 1738, 'pick': 7016, 'budgetary': 1230, 'sections': 8747, 'nap': 6262, 'plugged': 7120, 'radiator': 7655, 'endpoints': 3296, 'steel': 9379, 'child': 1596, 'remove': 8112, 'suggests': 9564, 'reality': 7740, 'light': 5557, 'brightness': 1188, 'obliged': 6469, 'diem': 2759, 'payable': 6885, 'finalized': 3847, 'noon': 6387, 'wishes': 10898, 'nobody': 6362, 'ever': 3482, 'cite': 1637, 'unless': 10404, 'cit': 1636, 'amending': 378, 'martinez': 5850, 'simultaneously': 9003, 'remained': 8083, 'skill': 9038, 'matrix': 5882, 'escalation': 3426, 'dec': 2491, 'cooled': 2196, 'filters': 3843, 'greyed': 4348, 'hyper': 4695, 'providers': 7524, 'conversion': 2176, 'rate': 7696, 'convention': 2169, 'cooperation': 2202, 'ended': 3288, 'sometime': 9143, 'turning': 10254, 'significantly': 8977, 'hinder': 4575, 'overlapping': 6701, 'creative': 2329, 'dual': 3063, 'magic': 5748, 'corresponds': 2250, 'progressed': 7441, 'backed': 804, 'alphabetical': 348, 'macedonian': 5728, 'gathered': 4190, 'entrance': 3370, 'photo': 7000, 'speak': 9192, 'annoying': 434, 'contacting': 2108, 'endeavour': 3287, 'shortly': 8925, 'transfers': 10126, 'vault': 10587, 'branch': 1153, 'posting': 7216, 'validated': 10557, 'randomly': 7681, 'processing': 7402, 'flows': 3945, 'tags': 9726, 'stickers': 9393, 'corner': 2231, 'dashboards': 2450, 'cutie': 2413, 'carton': 1430, 'legate': 5489, 'static': 9356, 'nebula': 6289, 'locks': 5641, 'reconnects': 7839, 'impediments': 4773, 'promised': 7460, 'intervene': 5159, 'configurations': 2000, 'telling': 9815, 'sides': 8955, 'tunnels': 10248, 'verified': 10613, 'suppose': 9614, 'approving': 529, 'suspected': 9644, 'fiddler': 3812, 'basic': 865, 'length': 5500, 'latitude': 5424, 'longitude': 5662, 'anti': 454, 'investigations': 5199, 'maven': 5889, 'issued': 5238, 'stays': 9374, 'crazy': 2320, 'troubleshooter': 10214, 'assignation': 629, 'commentaries': 1829, 'reinstallation': 8009, 'comply': 1924, 'individually': 4921, 'compatibility': 1877, 'compulsory': 1949, 'targeting': 9763, 'excluded': 3533, 'announcements': 430, 'rollout': 8512, 'downloaded': 3003, 'feeling': 3790, 'balcony': 834, 'ends': 3297, 'staying': 9373, 'trigger': 10192, 'idee': 4709, 'unstable': 10463, 'threat': 9932, 'node': 6364, 'pinging': 7045, 'compute': 1952, 'involve': 5214, 'executors': 3553, 'logical': 5650, 'preference': 7274, 'labels': 5378, 'optional': 6602, 'glitches': 4266, 'namely': 6258, 'always': 367, 'loads': 5616, 'nile': 6354, 'relocated': 8072, 'ow': 6733, 'installer': 5041, 'tethered': 9869, 'asp': 607, 'throwing': 9947, 'resent': 8255, 'population': 7180, 'forgotten': 4010, 'outputs': 6679, 'enquiry': 3338, 'identifying': 4718, 'renaming': 8120, 'origination': 6639, 'mapping': 5824, 'checkup': 1582, 'malfunctioning': 5784, 'remainders': 8082, 'bereavement': 959, 'agents': 260, 'shift': 8895, 'pressed': 7326, 'boys': 1142, 'girls': 4246, 'initiating': 4981, 'bunch': 1265, 'comfortable': 1817, 'ibm': 4698, 'rational': 7704, 'blockage': 1041, 'thompson': 9918, 'cautious': 1471, 'origin': 6631, 'replies': 8184, 'sensitive': 8801, 'contractual': 2143, 'obligations': 6467, 'particularly': 6830, 'adequate': 166, 'employed': 3239, 'proud': 7515, 'west': 10827, 'rh': 8452, 'useless': 10527, 'kernel': 5319, 'cords': 2227, 'bride': 1177, 'staging': 9317, 'performs': 6934, 'compliments': 1923, 'promotion': 7467, 'automating': 749, 'preparing': 7298, 'captured': 1397, 'prospect': 7501, 'wishing': 10899, 'surprised': 9633, 'learn': 5461, 'assess': 617, 'conversations': 2175, 'dropped': 3057, 'tea': 9779, 'procuring': 7407, 'tier': 9974, 'complaints': 1903, 'widgets': 10868, 'interfere': 5122, 'widget': 10867, 'recollect': 7818, 'underlying': 10341, 'score': 8684, 'conducting': 1989, 'searches': 8727, 'statement': 9352, 'shortcuts': 8920, 'vetting': 10632, 'lots': 5687, 'inspect': 5028, 'situations': 9027, 'seek': 8759, 'locking': 5639, 'tops': 10058, 'redundant': 7906, 'restock': 8321, 'adapters': 143, 'threaded': 9930, 'legs': 5496, 'stands': 9337, 'minimal': 6042, 'batteries': 881, 'refurbish': 7953, 'walls': 10740, 'stocked': 9402, 'tidy': 9970, 'cpi': 2300, 'bps': 1143, 'fans': 3737, 'networking': 6327, 'travelling': 10167, 'duties': 3098, 'renew': 8127, 'nonstandard': 6385, 'tied': 9973, 'easiest': 3124, 'threads': 9931, 'ingroup': 4966, 'catalogue': 1450, 'confirmations': 2006, 'quote': 7647, 'confused': 2021, 'reliable': 8057, 'develop': 2718, 'directors': 2809, 'hired': 4583, 'sine': 9008, 'sr': 9299, 'runs': 8567, 'abort': 12, 'mobiles': 6116, 'xxx': 10985, 'ciao': 1619, 'continued': 2130, 'suits': 9571, 'worst': 10961, 'diesel': 2761, 'gen': 4203, 'scop': 8682, 'generator': 4213, 'zero': 11023, 'overcome': 6688, 'refusing': 7959, 'struggling': 9476, 'productively': 7417, 'formatting': 4024, 'obstacle': 6480, 'peculiar': 6900, 'children': 1597, 'swell': 9668, 'misleading': 6072, 'junk': 5298, 'meting': 5988, 'poets': 7131, 'small': 9080, 'generally': 4206, 'unlocking': 10416, 'assessing': 621, 'differences': 2765, 'eel': 3154, 'cooler': 2197, 'clarity': 1657, 'consolidating': 2078, 'sense': 8797, 'bus': 1281, 'async': 662, 'appliance': 491, 'tacking': 9716, 'cods': 1745, 'correcting': 2237, 'acquisition': 108, 'platforms': 7098, 'sizes': 9032, 'fleet': 3923, 'respond': 8295, 'crashing': 2315, 'tale': 9739, 'pence': 6910, 'semi': 8787, 'cameras': 1360, 'redundancy': 7905, 'flexibility': 3927, 'desirable': 2684, 'directing': 2801, 'broadcasted': 1200, 'classic': 1662, 'recording': 7850, 'firmed': 3882, 'intermediate': 5131, 'streaming': 9440, 'toying': 10080, 'simulate': 8997, 'recommendation': 7820, 'stream': 9438, 'broadcasts': 1202, 'relatively': 8043, 'ole': 6535, 'overloading': 6706, 'inclusion': 4858, 'crap': 2310, 'eon': 3389, 'placer': 7074, 'rom': 8514, 'shifts': 8897, 'patterns': 6880, 'patching': 6867, 'assignments': 636, 'flat': 3915, 'hourly': 4661, 'implementations': 4780, 'salaried': 8592, 'contractors': 2141, 'camp': 1361, 'joint': 5281, 'retrospective': 8383, 'invites': 5207, 'continues': 2131, 'originator': 6640, 'friendly': 4096, 'grebe': 4341, 'gab': 4162, 'impediment': 4772, 'nous': 6426, 'affirmations': 239, 'redirected': 7892, 'qui': 7629, 'spelling': 9233, 'instructed': 5057, 'liaise': 5528, 'pattern': 6879, 'underline': 10339, 'replicated': 8180, 'realise': 7736, 'testers': 9865, 'withdraw': 10903, 'supervisor': 9594, 'negligible': 6308, 'simples': 8991, 'denied': 2620, 'confusions': 2025, 'objectives': 6463, 'wont': 10928, 'switching': 9680, 'remarked': 8088, 'welcome': 10818, 'outage': 6660, 'meal': 5900, 'uptime': 10509, 'sample': 8604, 'discussion': 2874, 'discussing': 2873, 'calculating': 1333, 'intermittently': 5133, 'tun': 10239, 'infinite': 4944, 'comp': 1863, 'verb': 10603, 'bat': 873, 'raiser': 7666, 'odd': 6509, 'transmit': 10145, 'yale': 10986, 'magnet': 5751, 'prefer': 7271, 'electrician': 3187, 'defect': 2544, 'indexing': 4906, 'swapped': 9660, 'unsuccessfully': 10466, 'classification': 1665, 'administer': 179, 'cluttering': 1729, 'fixes': 3901, 'misplaced': 6076, 'declare': 2510, 'play': 7100, 'fabric': 3686, 'improved': 4815, 'tho': 9917, 'nostril': 6400, 'listing': 5598, 'rec': 7775, 'awfully': 788, 'operation': 6569, 'membership': 5938, 'sap': 8618, 'creations': 2328, 'installs': 5046, 'mankind': 5812, 'customize': 2407, 'matching': 5871, 'staffing': 9312, 'rotations': 8526, 'customizing': 2409, 'vacancy': 10548, 'predefined': 7266, 'renderer': 8123, 'picker': 7018, 'skills': 9040, 'multi': 6221, 'component': 1926, 'recruiting': 7869, 'reinforce': 8007, 'descriptions': 2670, 'erased': 3405, 'ran': 7677, 'frequent': 4085, 'ah': 279, 'yeah': 10992, 'aria': 562, 'allocations': 330, 'afferent': 235, 'followings': 3971, 'tem': 9817, 'definite': 2558, 'leadership': 5452, 'modifying': 6141, 'occurrences': 6502, 'disturbing': 2932, 'showed': 8932, 'tokens': 10031, 'enabler': 3259, 'expansion': 3579, 'seneca': 8793, 'colt': 1797, 'renewals': 8129, 'ct': 2367, 'concept': 1963, 'trend': 10182, 'nodes': 6365, 'firepower': 3877, 'gross': 4358, 'probability': 7382, 'resale': 8241, 'springboards': 9288, 'springboard': 9287, 'customized': 2408, 'mins': 6049, 'customization': 2406, 'incidental': 4849, 'drives': 3051, 'personae': 6967, 'advertisements': 212, 'referral': 7921, 'discouraging': 2860, 'referrals': 7922, 'minis': 6047, 'bash': 864, 'docker': 2951, 'workshop': 10949, 'expand': 3575, 'persistence': 6961, 'vertical': 10626, 'commercials': 1835, 'thankyou': 9883, 'ignored': 4731, 'attend': 687, 'excels': 3516, 'drafts': 3018, 'modification': 6137, 'executing': 3548, 'fin': 3844, 'died': 2758, 'refused': 7957, 'licensed': 5539, 'generates': 4209, 'pushed': 7581, 'legitimate': 5495, 'owned': 6737, 'inviting': 5208, 'inquiries': 5005, 'graphics': 4326, 'delegated': 2574, 'family': 3734, 'marriage': 5844, 'departments': 2628, 'pride': 7354, 'compared': 1872, 'jacky': 5259, 'employer': 3242, 'everywhere': 3490, 'cafeteria': 1323, 'tittle': 10018, 'counters': 2277, 'kafka': 5309, 'regaining': 7963, 'inspection': 5031, 'racks': 7653, 'hazards': 4481, 'invoiced': 5210, 'buccaneers': 1221, 'pieces': 7029, 'parte': 6818, 'trough': 10218, 'unpaid': 10427, 'insights': 5020, 'rare': 7692, 'explanation': 3620, 'consultants': 2094, 'ensuring': 3351, 'consistent': 2070, 'obsolete': 6479, 'retro': 8380, 'actively': 127, 'happily': 4447, 'clarified': 1652, 'reimbursement': 8003, 'deposited': 2649, 'ending': 3289, 'definitely': 2559, 'countless': 2282, 'delays': 2571, 'locate': 5627, 'funds': 4142, 'unspecified': 10462, 'reimbursable': 8000, 'submissions': 9505, 'concerned': 1966, 'represented': 8200, 'configure': 2001, 'partially': 6821, 'reactivate': 7720, 'trial': 10185, 'categorized': 1459, 'trojan': 10209, 'interviewers': 5163, 'preferable': 7272, 'unrestricted': 10452, 'implies': 4790, 'cad': 1317, 'injection': 4987, 'vector': 10589, 'developing': 2722, 'appointments': 506, 'pulse': 7559, 'crews': 2341, 'reluctant': 8076, 'overridden': 6712, 'belongs': 943, 'reinstall': 8008, 'scheme': 8672, 'troubles': 10212, 'enquiries': 3337, 'familiar': 3732, 'spreadsheets': 9286, 'hindering': 4577, 'avoidance': 771, 'mart': 5849, 'arenas': 556, 'nos': 6398, 'vie': 10644, 'grands': 4317, 'montage': 6164, 'notre': 6424, 'arch': 543, 'rent': 8132, 'winslow': 10887, 'des': 2663, 'inspire': 5034, 'ford': 3991, 'masse': 5860, 'passion': 6850, 'gandhi': 4176, 'volution': 10709, 'petit': 6984, 'alit': 318, 'plier': 7118, 'certitudes': 1512, 'monde': 6155, 'einstein': 3175, 'autre': 756, 'pertinence': 6981, 'math': 5881, 'physique': 7012, 'puissance': 7551, 'communicant': 1852, 'steeve': 9382, 'mono': 6163, 'dominants': 2974, 'posture': 7224, 'style': 9488, 'rial': 8455, 'triple': 10202, 'spectre': 9220, 'utilise': 10536, 'cadre': 1320, 'formation': 4020, 'conscience': 2046, 'styles': 9489, 'naturel': 6276, 'analyser': 399, 'forces': 3988, 'amplifier': 394, 'aux': 757, 'rents': 8136, 'pour': 7229, 'durable': 3092, 'prise': 7373, 'animation': 422, 'vers': 10620, 'retried': 8373, 'enjoying': 3326, 'allowance': 336, 'exceed': 3509, 'rejecting': 8026, 'asterisk': 657, 'buttons': 1288, 'resides': 8267, 'recovered': 7857, 'reg': 7960, 'reactivated': 7721, 'withdrawals': 10905, 'inconveniences': 4875, 'columbia': 1798, 'edinburgh': 3140, 'globally': 4267, 'scale': 8647, 'doable': 2948, 'gateways': 4188, 'redesign': 7890, 'simultaneous': 9002, 'distributed': 2923, 'geographical': 4227, 'compile': 1894, 'throws': 9949, 'precess': 7259, 'claiming': 1646, 'pretty': 7338, 'reproducible': 8207, 'reacts': 7725, 'highlight': 4564, 'stable': 9306, 'sucks': 9547, 'clicks': 1692, 'shrink': 8941, 'frozen': 4107, 'loaded': 5614, 'passes': 6848, 'responsive': 8306, 'agreements': 276, 'chargers': 1553, 'continuing': 2132, 'unusual': 10479, 'eastern': 3127, 'daylight': 2460, 'incompetent': 4866, 'ourselves': 6658, 'background': 806, 'capability': 1387, 'billing': 994, 'rates': 7698, 'awards': 781, 'nominations': 6377, 'owe': 6734, 'dialer': 2740, 'attendee': 692, 'targeted': 9762, 'initiatives': 4984, 'assure': 654, 'bolding': 1074, 'sprint': 9289, 'functionalities': 4133, 'base': 858, 'spitting': 9258, 'ice': 4700, 'grinding': 4351, 'footnote': 3981, 'confirms': 2009, 'malicious': 5786, 'vandals': 10566, 'subtasks': 9531, 'class': 1659, 'columns': 1801, 'ids': 4725, 'nut': 6447, 'san': 8608, 'kill': 5341, 'heartbeat': 4506, 'diagnosing': 2730, 'processor': 7403, 'sox': 9172, 'truth': 10228, 'consolidate': 2076, 'entitlement': 3368, 'obtained': 6486, 'reassure': 7766, 'bets': 969, 'figuring': 3825, 'describes': 2667, 'cascades': 1436, 'resulting': 8344, 'beside': 962, 'straight': 9425, 'holders': 4605, 'woke': 10917, 'resulted': 8343, 'mostly': 6183, 'allowances': 337, 'respecting': 8291, 'reputed': 8216, 'sic': 8951, 'criteria': 2347, 'geography': 4230, 'pacific': 6752, 'wallet': 10737, 'guessing': 4379, 'industrial': 4928, 'freeze': 4080, 'lite': 5603, 'postponed': 7221, 'counted': 2271, 'calculations': 1335, 'promote': 7463, 'promoting': 7466, 'calculate': 1330, 'seconds': 8739, 'collecting': 1774, 'war': 10748, 'execute': 3546, 'opinion': 6576, 'depository': 2650, 'stronger': 9465, 'inbound': 4838, 'computers': 1955, 'crypto': 2361, 'spreading': 9284, 'worm': 10954, 'propagating': 7484, 'widely': 10864, 'permit': 6951, 'checks': 1581, 'archives': 551, 'audience': 713, 'touches': 10070, 'grow': 4364, 'herein': 4535, 'efficient': 3165, 'copenhagen': 2213, 'notebooks': 6407, 'occasion': 6491, 'cultural': 2374, 'partly': 6838, 'replicate': 8179, 'watermark': 10781, 'nonetheless': 6382, 'revise': 8426, 'non': 6380, 'brings': 1192, 'filtered': 3841, 'misunderstandings': 6097, 'inverse': 5191, 'meanwhile': 5909, 'outdated': 6666, 'cheer': 1583, 'explanations': 3621, 'ongoing': 6549, 'suggestion': 9562, 'unsure': 10469, 'issuing': 5241, 'lesson': 5506, 'learned': 5462, 'reverting': 8417, 'recognized': 7815, 'recognition': 7813, 'relates': 8035, 'golf': 4282, 'recognizing': 7817, 'countersign': 2278, 'strategy': 9436, 'oxford': 6746, 'stats': 9367, 'yourselves': 11012, 'preceding': 7258, 'attorney': 703, 'constitute': 2083, 'conveyed': 2184, 'reproduction': 8209, 'unintended': 10388, 'weekdays': 10805, 'zephyr': 11022, 'cycle': 2417, 'cycles': 2419, 'manitoba': 5811, 'pod': 7130, 'surprisingly': 9635, 'comprehensive': 1937, 'unix': 10398, 'apparent': 479, 'filming': 3838, 'filmed': 3837, 'photos': 7005, 'electronic': 3190, 'books': 1097, 'ramping': 7676, 'ouch': 6654, 'copyright': 2221, 'rep': 8148, 'succeeding': 9539, 'birthday': 1007, 'gal': 4170, 'discrepancies': 2865, 'complicate': 1919, 'among': 387, 'engaged': 3306, 'drastically': 3029, 'explaining': 3618, 'whats': 10836, 'circumstances': 1634, 'esp': 3432, 'singapore': 9010, 'escalations': 3427, 'depending': 2636, 'shadowing': 8859, 'honest': 4619, 'intent': 5092, 'nostalgia': 6399, 'commence': 1825, 'daresay': 2444, 'tough': 10072, 'undergo': 10336, 'third': 9916, 'compliant': 1918, 'sigma': 8961, 'belt': 946, 'certification': 1507, 'batches': 875, 'instructor': 5061, 'accredited': 77, 'learning': 5464, 'chapter': 1543, 'quizzes': 7641, 'studies': 9482, 'simulation': 8999, 'exams': 3508, 'classroom': 1669, 'examination': 3504, 'material': 5874, 'scholarship': 8675, 'computing': 1957, 'spark': 9186, 'tableau': 9710, 'participation': 6828, 'demands': 2608, 'satisfactions': 8623, 'scores': 8686, 'respectfully': 8290, 'expiring': 3615, 'adopted': 196, 'chassis': 1566, 'qty': 7594, 'eta': 3453, 'yr': 11013, 'playing': 7108, 'formula': 4030, 'objects': 6464, 'enables': 3260, 'disposed': 2896, 'colic': 1755, 'circuit': 1626, 'supplied': 9603, 'circuits': 1627, 'programmatically': 7433, 'away': 784, 'adjusted': 175, 'reopening': 8144, 'handing': 4422, 'revoke': 8435, 'firstly': 3885, 'attended': 691, 'covered': 2297, 'repeating': 8160, 'frequently': 4086, 'extracting': 3676, 'proficient': 7424, 'reprocess': 8203, 'coverage': 2296, 'theme': 9889, 'educate': 3150, 'minds': 6037, 'responsibilities': 8303, 'endorse': 3293, 'recruiters': 7868, 'referrer': 7924, 'req': 8217, 'cats': 1465, 'fire': 3874, 'restarts': 8312, 'participate': 6824, 'carefully': 1412, 'paseo': 6842, 'philippines': 6996, 'gold': 4280, 'originates': 6637, 'satisfied': 8625, 'focused': 3955, 'reward': 8443, 'bridge': 1178, 'conflicted': 2012, 'outages': 6661, 'registrations': 7983, 'regime': 7974, 'refreshments': 7949, 'retrieving': 8379, 'segment': 8768, 'depreciation': 2654, 'amortization': 389, 'periods': 6941, 'tutorial': 10260, 'generation': 4211, 'explanatory': 3622, 'calculates': 1332, 'impeach': 4769, 'volumes': 10706, 'banks': 840, 'remittance': 8104, 'clone': 1701, 'clones': 1703, 'cloning': 1704, 'mask': 5852, 'integrating': 5077, 'wallboard': 10736, 'establishing': 3442, 'migrating': 6016, 'margins': 5832, 'strict': 9454, 'misdirected': 6066, 'models': 6127, 'prices': 7351, 'speakers': 9194, 'lapel': 5402, 'freezes': 4081, 'slows': 9078, 'invoked': 5213, 'outbound': 6662, 'hook': 4628, 'combo': 1810, 'mirroring': 6059, 'chose': 1609, 'enjoyable': 3324, 'remarks': 8089, 'exploitable': 3626, 'mitigate': 6100, 'arbitrary': 540, 'cap': 1385, 'pup': 7565, 'budgeting': 1232, 'editable': 3141, 'skipping': 9044, 'aged': 254, 'debt': 2484, 'circled': 1624, 'athenaeum': 665, 'rating': 7701, 'recompense': 7825, 'planing': 7084, 'replied': 8183, 'mentioning': 5950, 'someday': 9138, 'umbrella': 10294, 'spread': 9283, 'evaluating': 3467, 'profit': 7428, 'tank': 9751, 'cool': 2195, 'lamp': 5392, 'bamboo': 837, 'birth': 1006, 'hide': 4555, 'reasoning': 7759, 'widows': 10869, 'suspecting': 9645, 'levin': 5521, 'placing': 7076, 'intro': 5169, 'flood': 3937, 'overwhelmed': 6726, 'mass': 5855, 'readers': 7728, 'possibly': 7208, 'withdrawal': 10904, 'unidentified': 10381, 'regions': 7977, 'pits': 7062, 'grants': 4320, 'kits': 5357, 'qualifies': 7600, 'speedier': 9225, 'fain': 3712, 'cookie': 2191, 'string': 9458, 'gecko': 4198, 'leeds': 5480, 'snack': 9095, 'snacks': 9096, 'imaged': 4749, 'itemized': 5249, 'violations': 10665, 'violation': 10664, 'unapplied': 10304, 'multitasking': 6228, 'struggle': 9474, 'comparison': 1874, 'designs': 2683, 'mocks': 6119, 'infos': 4961, 'viewable': 10648, 'debugger': 2488, 'suspicions': 9651, 'combines': 1808, 'advantages': 206, 'shore': 8915, 'kicking': 5335, 'workbench': 10936, 'turnaround': 10252, 'verbal': 10604, 'chooses': 1606, 'probable': 7383, 'dependant': 2631, 'technically': 9796, 'screened': 8698, 'qualified': 7599, 'keen': 5312, 'immediate': 4759, 'shares': 8879, 'subscribers': 9516, 'quiet': 7633, 'recommending': 7823, 'gains': 4168, 'gents': 4223, 'verge': 10610, 'multinational': 6225, 'manufacturing': 5820, 'officially': 6523, 'maximize': 5891, 'locator': 5633, 'finder': 3855, 'mo': 6111, 'ave': 763, 'terse': 9860, 'unsafe': 10453, 'define': 2554, 'distributor': 2926, 'beast': 890, 'relations': 8039, 'powers': 7235, 'lh': 5525, 'newer': 6336, 'annul': 438, 'chaps': 1542, 'employment': 3244, 'suddenly': 9549, 'wing': 10881, 'interruption': 5150, 'objection': 6460, 'anticipate': 455, 'optionally': 6603, 'expandable': 3576, 'raid': 7659, 'optimally': 6592, 'wizard': 10914, 'latin': 5423, 'collation': 1770, 'analyzers': 407, 'quarter': 7608, 'consolidated': 2077, 'adventure': 207, 'decompress': 2518, 'evolution': 3494, 'landing': 5394, 'girl': 4245, 'workstations': 10952, 'perm': 6946, 'participant': 6822, 'snapshots': 9101, 'fille': 3832, 'charged': 1551, 'preferably': 7273, 'shipment': 8901, 'amigos': 386, 'interested': 5116, 'correspondent': 2247, 'forget': 4006, 'supposed': 9615, 'gadget': 4163, 'uploading': 10501, 'baa': 798, 'signaled': 8964, 'nationwide': 6270, 'arrives': 584, 'famed': 3730, 'instruct': 5056, 'studding': 9479, 'convenient': 2168, 'knows': 5367, 'random': 7679, 'unblocked': 10319, 'tooling': 10051, 'essential': 3436, 'identity': 4719, 'tenants': 9833, 'principles': 7361, 'faxing': 3767, 'pie': 7027, 'doughnut': 2994, 'pies': 7033, 'percentages': 6922, 'lastly': 5414, 'positioning': 7198, 'hangs': 4439, 'disrupt': 2903, 'cancellation': 1374, 'unlikely': 10407, 'compromise': 1946, 'loaning': 5619, 'possession': 7204, 'coded': 1740, 'dating': 2457, 'marketplace': 5838, 'indicating': 4910, 'verifying': 10615, 'dropping': 3058, 'callers': 1352, 'genuine': 4224, 'keynotes': 5325, 'discover': 2861, 'tech': 9792, 'programming': 7438, 'contest': 2122, 'sneak': 9102, 'peek': 6902, 'intense': 5088, 'technologist': 9802, 'programmer': 7436, 'audiences': 714, 'endeavor': 3285, 'documentary': 2958, 'promises': 7461, 'professor': 7423, 'delft': 2584, 'researches': 8248, 'dutch': 3097, 'founders': 4052, 'rotterdam': 8527, 'latvia': 5427, 'entrepreneur': 3373, 'latvian': 5428, 'craftsmanship': 2308, 'organizer': 6625, 'tracks': 10092, 'geek': 4199, 'cumulative': 2379, 'discounts': 2858, 'paced': 6751, 'experimentation': 3603, 'organize': 6623, 'mosaic': 6181, 'subscribed': 9514, 'rearranged': 7755, 'shortest': 8924, 'equine': 3397, 'proceeding': 7397, 'monies': 6157, 'utilization': 10539, 'exemption': 3555, 'tabular': 9715, 'thorough': 9919, 'sentence': 8805, 'formats': 4021, 'fund': 4138, 'mailboxes': 5757, 'counts': 2285, 'hinders': 4578, 'unrelated': 10448, 'bucket': 1222, 'unicorns': 10380, 'vendors': 10597, 'pink': 7047, 'dragons': 3022, 'panthers': 6790, 'deliverables': 2596, 'cert': 1500, 'wire': 10891, 'decrypted': 2526, 'wiped': 10889, 'nope': 6388, 'alright': 351, 'hardly': 4452, 'warned': 10755, 'headphone': 4493, 'realized': 7743, 'recalculate': 7776, 'recalculated': 7777, 'blessing': 1033, 'positions': 7199, 'tendency': 9835, 'aspects': 609, 'rump': 8560, 'rationalizing': 7705, 'focusing': 3956, 'smoothly': 9093, 'spec': 9199, 'lives': 5609, 'branches': 1154, 'offering': 6517, 'specs': 9218, 'significant': 8976, 'tin': 10001, 'collateral': 1768, 'selling': 8786, 'journey': 5287, 'sentinel': 8808, 'welch': 10817, 'rewind': 8446, 'weirdly': 10816, 'pronounce': 7478, 'dialled': 2742, 'tunneling': 10246, 'acre': 110, 'properties': 7488, 'unified': 10383, 'ulterior': 10290, 'mod': 6121, 'segregate': 8770, 'diverse': 2939, 'considerate': 2059, 'pf': 6988, 'flex': 3926, 'stare': 9339, 'juridical': 5299, 'workout': 10947, 'grad': 4300, 'sufficient': 9557, 'logic': 5649, 'variations': 10575, 'larger': 5406, 'shape': 8870, 'inherit': 4969, 'disturbance': 2931, 'tired': 10006, 'severs': 8853, 'withdrawn': 10907, 'characters': 1547, 'succeed': 9537, 'updater': 10489, 'responds': 8300, 'chars': 1558, 'friend': 4094, 'carte': 1429, 'projected': 7449, 'calc': 1329, 'shed': 8888, 'estimations': 3450, 'combinations': 1805, 'pleas': 7111, 'proved': 7518, 'fetching': 3804, 'coordinates': 2206, 'reaches': 7714, 'clause': 1671, 'checklist': 1578, 'commanded': 1821, 'encounters': 3275, 'accumulations': 83, 'bas': 857, 'transactor': 10117, 'triton': 10205, 'envisioning': 3387, 'borrow': 1113, 'temporally': 9828, 'difficulty': 2774, 'lever': 5517, 'pushing': 7583, 'forma': 4012, 'putty': 7590, 'proxies': 7533, 'engage': 3305, 'privilege': 7376, 'stood': 9410, 'slav': 9049, 'fairly': 3713, 'ages': 261, 'receivables': 7784, 'duplication': 3090, 'extender': 3654, 'closely': 1707, 'planed': 7081, 'adj': 170, 'analyses': 400, 'intuitive': 5180, 'rightly': 8467, 'quickest': 7631, 'checkout': 1580, 'ease': 3121, 'frustration': 4114, 'silicon': 8982, 'divert': 2941, 'presents': 7317, 'oversee': 6717, 'typos': 10285, 'courtesy': 2294, 'cob': 1735, 'expects': 3586, 'pleasant': 7112, 'religious': 8066, 'religion': 8065, 'detachment': 2699, 'excerpt': 3523, 'assignees': 633, 'commemoration': 1824, 'observe': 6474, 'commitments': 1841, 'lr': 5704, 'cheap': 1570, 'products': 7419, 'imitate': 4757, 'fullest': 4127, 'extent': 3664, 'respondents': 8298, 'surveys': 9640, 'yep': 10998, 'campbell': 1364, 'sets': 8839, 'furthermore': 4150, 'hero': 4539, 'invisible': 5201, 'uniquely': 10392, 'administered': 180, 'thats': 9884, 'rated': 7697, 'quay': 7612, 'glasgow': 4259, 'impossibility': 4804, 'auditing': 717, 'predate': 7265, 'suffice': 9554, 'pen': 6907, 'commissioned': 1837, 'outpost': 6677, 'penetration': 6913, 'objective': 6462, 'enforceable': 3300, 'letter': 5510, 'restrictions': 8331, 'initialize': 4974, 'spaces': 9177, 'navigation': 6280, 'dispute': 2897, 'contrast': 2150, 'tweak': 10264, 'hurting': 4689, 'hurts': 4690, 'lay': 5440, 'vertically': 10627, 'xerox': 10981, 'tare': 9760, 'hinge': 4579, 'worn': 10955, 'exhausted': 3559, 'lifetime': 5553, 'eligible': 3203, 'inspected': 5029, 'refurbished': 7954, 'eligibility': 3202, 'keynote': 5324, 'contributes': 2153, 'fits': 3895, 'affectivity': 233, 'nightly': 6350, 'glance': 4257, 'confuse': 2020, 'finishes': 3869, 'releases': 8051, 'replenish': 8174, 'stocks': 9405, 'mas': 5851, 'ill': 4737, 'sadly': 8577, 'viewed': 10649, 'fried': 4093, 'sufficed': 9555, 'simulator': 9000, 'fond': 3974, 'converting': 2181, 'inconsistency': 4870, 'pinged': 7044, 'trays': 10171, 'cyan': 2416, 'magenta': 5746, 'mappings': 5825, 'movements': 6209, 'techniques': 9800, 'iliad': 4736, 'manchester': 5796, 'restaurants': 8317, 'assembly': 615, 'recorders': 7849, 'reproductive': 8210, 'medicine': 5924, 'college': 1781, 'electric': 3185, 'simplify': 8995, 'sonic': 9149, 'texas': 9870, 'underscore': 10345, 'unum': 10476, 'veritas': 10617, 'growers': 4365, 'rainier': 7662, 'congestion': 2026, 'typed': 10278, 'mistyped': 6094, 'uniform': 10384, 'paths': 6874, 'structural': 9469, 'terminate': 9847, 'competed': 1885, 'stingray': 9399, 'needful': 6299, 'ear': 3110, 'abc': 4, 'region': 7975, 'matters': 5885, 'geographies': 4229, 'prep': 7290, 'beautiful': 893, 'digging': 2780, 'integrations': 5079, 'distinguish': 2916, 'masked': 5853, 'bounce': 1129, 'suffix': 9558, 'repurchase': 8213, 'hopeful': 4636, 'firing': 3879, 'pulling': 7555, 'imp': 4763, 'whereas': 10843, 'supplying': 9607, 'ideal': 4706, 'loon': 5670, 'die': 2757, 'rentals': 8134, 'fared': 3742, 'strongly': 9467, 'surveyed': 9639, 'robinson': 8494, 'convey': 2183, 'impression': 4808, 'annually': 436, 'basing': 868, 'afore': 243, 'signal': 8963, 'strength': 9446, 'relative': 8042, 'pressure': 7330, 'trick': 10187, 'hungary': 4682, 'cs': 2364, 'complain': 1898, 'unleash': 10402, 'depends': 2637, 'growing': 4366, 'utilized': 10541, 'amounts': 391, 'indicates': 4909, 'improper': 4812, 'suffered': 9551, 'improperly': 4813, 'printers': 7366, 'reissued': 8019, 'unreliable': 10449, 'airports': 295, 'spirit': 9251, 'individuals': 4922, 'former': 4026, 'trunk': 10222, 'statistics': 9366, 'diagram': 2735, 'trunks': 10223, 'termini': 9852, 'deploying': 2645, 'authorizing': 739, 'bare': 847, 'obligated': 6465, 'restoring': 8325, 'avoiding': 773, 'forwards': 4048, 'selection': 8777, 'brackets': 1147, 'capturing': 1399, 'alter': 354, 'papers': 6791, 'lent': 5503, 'fuse': 4151, 'elements': 3195, 'preparer': 7295, 'lets': 5509, 'congratulations': 2030, 'offered': 6516, 'broadway': 1205, 'evolved': 3497, 'million': 6030, 'dibs': 2752, 'disconnect': 2847, 'synched': 9695, 'spider': 9239, 'bolivar': 1075, 'cons': 2045, 'therapy': 9896, 'scanners': 8654, 'bulletin': 1257, 'unsolicited': 10459, 'restated': 8314, 'requisites': 8232, 'preparation': 7291, 'stag': 9314, 'slots': 9070, 'train': 10106, 'ideo': 4720, 'entail': 3352, 'cabling': 1310, 'mess': 5972, 'inquire': 5003, 'pile': 7034, 'dispose': 2895, 'programmes': 7437, 'duce': 3067, 'students': 9481, 'quits': 7639, 'disrupting': 2904, 'visited': 10678, 'dangerous': 2439, 'ranges': 7684, 'ceased': 1475, 'neon': 6321, 'inserts': 5015, 'layer': 5441, 'blade': 1023, 'crook': 2351, 'angular': 418, 'omission': 6538, 'chub': 1615, 'adapt': 137, 'turns': 10256, 'sits': 9022, 'replay': 8172, 'cts': 2369, 'vanished': 10567, 'rewarded': 8444, 'blurry': 1060, 'blurred': 1058, 'feeding': 3787, 'behaves': 919, 'swift': 9669, 'sweet': 9667, 'formulas': 4031, 'landlord': 5395, 'lucky': 5708, 'recycled': 7884, 'confident': 1996, 'talking': 9743, 'blend': 1029, 'gentlemen': 4222, 'carrier': 1420, 'arriving': 585, 'theory': 9895, 'charges': 1554, 'flying': 3952, 'alteration': 355, 'accuracy': 85, 'postings': 7217, 'converted': 2179, 'orders': 6616, 'relating': 8036, 'improving': 4819, 'mute': 6239, 'developed': 2719, 'internally': 5136, 'offers': 6518, 'hod': 4598, 'respected': 8289, 'resignation': 8268, 'tag': 9723, 'drilled': 3044, 'delaying': 2570, 'messed': 5975, 'parking': 6810, 'shots': 8926, 'labour': 5381, 'risers': 8480, 'raisers': 7667, 'enthusiastic': 3360, 'preformed': 7280, 'yearly': 10994, 'dinner': 2793, 'operations': 6571, 'dramatic': 3027, 'composer': 1931, 'eating': 3130, 'enforcing': 3304, 'rolling': 8511, 'manageable': 5791, 'enforcement': 3302, 'enforce': 3299, 'illegal': 4738, 'assured': 655, 'reputable': 8214, 'deliberately': 2586, 'worry': 10958, 'decryption': 2528, 'assurances': 653, 'decrypting': 2527, 'acceptable': 40, 'nil': 6353, 'trees': 10179, 'electrons': 3192, 'terribly': 9858, 'inconvenienced': 4874, 'comprising': 1945, 'outline': 6674, 'ares': 557, 'comma': 1819, 'admits': 192, 'presumably': 7332, 'exclusions': 3537, 'exclusion': 3536, 'cleanly': 1678, 'capacitate': 1389, 'indeed': 4894, 'obstacles': 6481, 'limitation': 5573, 'subspace': 9525, 'ways': 10787, 'confusing': 2023, 'eliminate': 3204, 'debate': 2481, 'downtimes': 3010, 'blurring': 1059, 'fro': 4099, 'rid': 8460, 'xmas': 10982, 'wow': 10964, 'decent': 2497, 'blast': 1028, 'clicked': 1689, 'seattle': 8733, 'campaigns': 1363, 'gens': 4218, 'advertising': 213, 'casinos': 1442, 'gambling': 4174, 'sports': 9277, 'telecommunications': 9806, 'logistics': 5653, 'utilities': 10537, 'beverages': 973, 'wholesale': 10858, 'bounces': 1131, 'presenting': 7315, 'averages': 767, 'benchmarks': 949, 'influencing': 4951, 'deliveries': 2598, 'bounced': 1130, 'bounded': 1135, 'duplicates': 3088, 'telescopic': 9812, 'motion': 6187, 'embedded': 3219, 'outlining': 6675, 'zipper': 11029, 'inconvenient': 4876, 'risky': 8483, 'retrospectively': 8384, 'completes': 1911, 'feed': 3783, 'assessment': 622, 'stared': 9340, 'persisted': 6960, 'fear': 3769, 'combine': 1806, 'summarize': 9574, 'lf': 5524, 'vc': 10588, 'continually': 2128, 'operated': 6566, 'austrian': 726, 'airlines': 293, 'preservation': 7318, 'beg': 906, 'vienna': 10645, 'penalty': 6909, 'plaza': 7110, 'cabin': 1305, 'airplane': 294, 'tender': 9836, 'tenders': 9837, 'faulted': 3758, 'variance': 10571, 'qual': 7597, 'skip': 9042, 'guests': 4381, 'badges': 823, 'failures': 3711, 'zipped': 11028, 'fulfiller': 4121, 'regarded': 7965, 'statements': 9353, 'signatory': 8970, 'dealings': 2474, 'enquire': 3335, 'riser': 8479, 'squad': 9294, 'metal': 5979, 'lac': 5382, 'budgets': 1233, 'refreshed': 7944, 'shopper': 8912, 'obis': 6458, 'governing': 4294, 'worker': 10942, 'fetch': 3802, 'beats': 892, 'solo': 9128, 'quota': 7644, 'grew': 4346, 'enlarge': 3328, 'selects': 8781, 'nominates': 6374, 'validity': 10561, 'scheduling': 8670, 'inaccurate': 4827, 'dad': 2426, 'authors': 740, 'ownerless': 6739, 'parental': 6806, 'interviews': 5164, 'err': 3414, 'ax': 792, 'australia': 724, 'globe': 4268, 'picking': 7019, 'composition': 1934, 'agencies': 256, 'bloom': 1050, 'ley': 5523, 'eight': 3174, 'punctuation': 7564, 'privacy': 7374, 'vary': 10580, 'lo': 5612, 'presses': 7328, 'unchanged': 10323, 'reorganize': 8146, 'dependencies': 2632, 'longest': 5659, 'unread': 10443, 'defective': 2546, 'counter': 2272, 'unresolved': 10450, 'fonts': 3977, 'thunderbolt': 9955, 'faced': 3689, 'pleasure': 7116, 'hop': 4634, 'sui': 9565, 'wk': 10915, 'kl': 5358, 'lpm': 5703, 'uh': 10287, 'ut': 10534, 'oxy': 6747, 'ay': 796, 'complement': 1904, 'equipped': 3401, 'customs': 2410, 'resigned': 8269, 'supplementing': 9600, 'strip': 9460, 'striper': 9461, 'pulled': 7553, 'fitness': 3894, 'receipted': 7780, 'receipting': 7781, 'pasted': 6861, 'graph': 4322, 'pipe': 7053, 'gate': 4185, 'projecting': 7450, 'disclosed': 2841, 'partnership': 6839, 'chartered': 1560, 'accountants': 74, 'firms': 3884, 'cities': 1638, 'vacancies': 10547, 'newsletter': 6339, 'celebrating': 1478, 'trailblazing': 10103, 'harvard': 4463, 'mkt': 6108, 'frontiers': 4102, 'posts': 7222, 'retention': 8363, 'baker': 828, 'volkswagen': 10702, 'bird': 1004, 'weekday': 10804, 'retroactively': 8382, 'collaborative': 1761, 'subcontractors': 9496, 'collaborate': 1756, 'concurrent': 1978, 'negro': 6314, 'horizontal': 4644, 'temperature': 9820, 'humidity': 4677, 'density': 2623, 'shielded': 8894, 'visually': 10688, 'flaws': 3922, 'cage': 1324, 'nuts': 6449, 'screws': 8702, 'washers': 10768, 'strap': 9432, 'ties': 9976, 'fastener': 3749, 'array': 578, 'adv': 200, 'delivers': 2600, 'ss': 9301, 'ceiling': 1476, 'mounting': 6201, 'bracket': 1146, 'powering': 7234, 'curiosity': 2388, 'doubled': 2989, 'marking': 5840, 'syncs': 9704, 'spelled': 9232, 'fruit': 4108, 'remainder': 8081, 'pursuing': 7578, 'occur': 6499, 'clue': 1722, 'installations': 5039, 'additions': 157, 'removals': 8111, 'comparing': 1873, 'acrobat': 111, 'lag': 5388, 'decrease': 2521, 'redistributed': 7897, 'reinstate': 8012, 'celebration': 1479, 'reimbursed': 8002, 'pal': 6781, 'corruption': 2254, 'aiming': 288, 'induce': 4924, 'dialogue': 2745, 'industries': 4929, 'comprises': 1944, 'prosecution': 7500, 'acclaimed': 60, 'counsel': 2267, 'addison': 153, 'founder': 4051, 'brick': 1175, 'ethics': 3458, 'evans': 3472, 'hemisphere': 4529, 'iterations': 5253, 'bulletins': 1259, 'hears': 4505, 'taxi': 9778, 'abs': 18, 'tome': 10037, 'biggest': 987, 'crucible': 2356, 'spatial': 9191, 'excruciating': 3540, 'car': 1400, 'pee': 6901, 'routine': 8539, 'signaling': 8966, 'rpm': 8548, 'newest': 6337, 'transform': 10127, 'reproduced': 8205, 'closest': 1711, 'planar': 7079, 'vase': 10582, 'surrey': 9636, 'drops': 3059, 'cracked': 2305, 'improvise': 4821, 'holyday': 4614, 'requisite': 8231, 'breaching': 1163, 'impede': 4770, 'obsidian': 6478, 'krypton': 5370, 'hiding': 4556, 'samurai': 8607, 'celts': 1484, 'civil': 1641, 'oar': 6452, 'attending': 694, 'intending': 5087, 'consists': 2073, 'retrying': 8387, 'iron': 5219, 'crinkles': 2344, 'asymmetric': 660, 'noticing': 6417, 'aha': 280, 'cads': 1321, 'onboard': 6544, 'involves': 5217, 'briefly': 1184, 'hires': 4584, 'algorithm': 308, 'aside': 602, 'publisher': 7547, 'mountains': 6199, 'intrusion': 5177, 'detection': 2707, 'coaching': 1732, 'rev': 8398, 'albeit': 301, 'frustratingly': 4113, 'operator': 6574, 'cutting': 2415, 'staffed': 9311, 'voices': 10698, 'flagging': 3906, 'rings': 8472, 'loops': 5674, 'newspaper': 6341, 'men': 5946, 'behaved': 918, 'tone': 10041, 'uhs': 10288, 'quad': 7595, 'claims': 1647, 'viewer': 10650, 'stratus': 9437, 'unfinished': 10370, 'unpublished': 10442, 'lozenge': 5702, 'avatar': 762, 'horns': 4646, 'winners': 10884, 'subordinates': 9511, 'chess': 1591, 'unassigned': 10307, 'dancing': 2437, 'hammer': 4414, 'muffin': 6220, 'freed': 4076, 'antennae': 452, 'licencing': 5537, 'bundles': 1268, 'huron': 4686, 'consisted': 2067, 'unrecognized': 10445, 'masters': 5866, 'tread': 10172, 'composed': 1930, 'weds': 10802, 'reallocation': 7746, 'boston': 1116, 'falls': 3727, 'snippet': 9106, 'lift': 5554, 'landed': 5393, 'fly': 3951, 'tariff': 9765, 'mates': 5880, 'accurately': 87, 'invited': 5205, 'killing': 5343, 'inherited': 4971, 'hassle': 4468, 'destroyed': 2695, 'reliably': 8058, 'miscellaneous': 6064, 'dishes': 2877, 'terminating': 9850, 'abnormally': 9, 'percent': 6920, 'jug': 5290, 'univ': 10396, 'charcoal': 1548, 'flame': 3909, 'prize': 7379, 'reloading': 8069, 'peripherals': 6943, 'sculpt': 8714, 'hallo': 4407, 'translation': 10140, 'beforehand': 905, 'weak': 10789, 'surely': 9619, 'protocols': 7512, 'stupid': 9487, 'crossing': 2354, 'believes': 934, 'turnstile': 10257, 'domains': 2973, 'proprietor': 7498, 'parked': 6809, 'yard': 10989, 'keeper': 5314, 'cps': 2301, 'northern': 6395, 'fourth': 4054, 'parse': 6813, 'refs': 7950, 'revision': 8429, 'falling': 3723, 'permitting': 6954, 'downstream': 3008, 'intervention': 5160, 'unplug': 10431, 'routed': 8535, 'choice': 1603, 'attest': 697, 'timekeeping': 9990, 'lunes': 5719, 'underpin': 10343, 'thoughts': 9926, 'automata': 743, 'shuts': 8946, 'convinced': 2187, 'regress': 7986, 'duly': 3074, 'countersigned': 2280, 'pragmatism': 7246, 'istanbul': 5242, 'turkey': 10250, 'revisions': 8430, 'munich': 6231, 'flack': 3904, 'soonest': 9151, 'massachusetts': 5856, 'negate': 6304, 'meaningful': 5904, 'sanctions': 8610, 'commonwealth': 1851, 'transparency': 10150, 'headline': 4491, 'independently': 4902, 'interests': 5119, 'contracting': 2139, 'qatar': 7593, 'headquarters': 4496, 'undertake': 10352, 'satisfactory': 8624, 'arab': 539, 'emirates': 3226, 'representing': 8201, 'regional': 7976, 'headquartered': 4495, 'wife': 10871, 'fingers': 3864, 'crossed': 2353, 'gentleman': 4221, 'jointly': 5282, 'premiums': 7288, 'serve': 8828, 'deepen': 2537, 'anticipation': 458, 'fall': 3720, 'wording': 10931, 'edits': 3149, 'leeway': 5482, 'driven': 3048, 'phases': 6992, 'allotment': 333, 'pathway': 6875, 'stairwell': 9321, 'strategic': 9434, 'subjected': 9500, 'vin': 10659, 'inconsistencies': 4869, 'versus': 10625, 'encourage': 3276, 'spate': 9190, 'descriptive': 2671, 'reoccur': 8137, 'raw': 7706, 'stops': 9415, 'aggregated': 264, 'element': 3194, 'biweekly': 1014, 'pickles': 7020, 'switchboard': 9676, 'urgencies': 10513, 'compensation': 1882, 'hesitant': 4544, 'evaluation': 3468, 'unbiased': 10316, 'thousands': 9928, 'rerouted': 8238, 'delegation': 2577, 'attn': 702, 'dependent': 2634, 'warnings': 10757, 'renewing': 8131, 'thanking': 9880, 'receptive': 7797, 'evident': 3492, 'reused': 8396, 'younger': 11008, 'victorious': 10639, 'victors': 10640, 'amazing': 370, 'cleaners': 1676, 'tissues': 10009, 'dirty': 2812, 'poland': 7144, 'interfered': 5123, 'massively': 5863, 'messing': 5977, 'prerequisite': 7301, 'tapes': 9755, 'supports': 9613, 'describing': 2668, 'recycle': 7883, 'slack': 9047, 'realize': 7742, 'cervical': 1513, 'spine': 9245, 'unresponsive': 10451, 'uranus': 10510, 'inadvertently': 4834, 'favorite': 3762, 'pics': 7023, 'crawl': 2318, 'nominally': 6371, 'boat': 1067, 'wake': 10729, 'occasionally': 6492, 'rat': 7695, 'gaining': 4167, 'carried': 1419, 'debtors': 2485, 'corrupt': 2251, 'practical': 7239, 'drawing': 3034, 'holmes': 4612, 'lauder': 5429, 'drinking': 3045, 'refillable': 7927, 'stainless': 9318, 'bottle': 1124, 'chow': 1611, 'preconditions': 7264, 'tips': 10004, 'transformation': 10128, 'ama': 369, 'jam': 5262, 'zig': 11025, 'zag': 11017, 'colonnade': 1788, 'resolvable': 8279, 'precise': 7261, 'championship': 1526, 'bile': 990, 'deploys': 2647, 'champion': 1525, 'minuets': 6051, 'alarms': 298, 'dimensions': 2789, 'statistic': 9364, 'pushover': 7584, 'insufficient': 5065, 'herself': 4543, 'travelled': 10166, 'overdue': 6690, 'printed': 7364, 'elite': 3208, 'invaluable': 5185, 'mentor': 5952, 'eventually': 3481, 'declared': 2511, 'avoided': 772, 'entitled': 3367, 'consumes': 2102, 'expensive': 3596, 'deeper': 2538, 'modem': 6128, 'achievable': 93, 'alp': 347, 'percentage': 6921, 'drained': 3024, 'exportable': 3635, 'farms': 3744, 'wildcard': 10874, 'listener': 5594, 'orientation': 6628, 'indications': 4912, 'circulation': 1632, 'colour': 1794, 'ukraine': 10289, 'inactivity': 4832, 'passive': 6853, 'labeled': 5374, 'troubleshoot': 10213, 'greenwich': 4343, 'solicitation': 9125, 'sale': 8595, 'instrument': 5062, 'warranted': 10760, 'completeness': 1910, 'hods': 4599, 'hovers': 4667, 'seal': 8719, 'alterations': 356, 'pease': 6897, 'thrifty': 9938, 'opt': 6586, 'reminded': 8099, 'aid': 283, 'abilities': 5, 'billed': 993, 'advisable': 217, 'sundays': 9582, 'answering': 448, 'ooh': 6556, 'mainly': 5766, 'overflowed': 6692, 'lessons': 5507, 'specification': 9211, 'lies': 5546, 'jury': 5302, 'bond': 1081, 'overload': 6704, 'facilitating': 3694, 'procured': 7406, 'basketball': 870, 'quarterly': 7609, 'premier': 7284, 'cocker': 1736, 'costing': 2260, 'pocket': 7129, 'consumed': 2100, 'diagrams': 2737, 'ticking': 9967, 'railway': 7661, 'initiates': 4980, 'disclosing': 2843, 'distributing': 2924, 'disseminating': 2909, 'promptly': 7474, 'waive': 10728, 'regents': 7973, 'precautions': 7253, 'loudspeakers': 5692, 'admittedly': 194, 'symbol': 9685, 'typing': 10283, 'handles': 4426, 'bellows': 938, 'chocolate': 1602, 'beer': 902, 'supportive': 9612, 'recruited': 7866, 'diverted': 2942, 'unanswered': 10303, 'enclosing': 3264, 'detailing': 2702, 'utile': 10535, 'trap': 10158, 'costumer': 2263, 'critic': 2348, 'construction': 2090, 'aforementioned': 244, 'revoked': 8436, 'encouragement': 3278, 'phrase': 7006, 'chased': 1562, 'figured': 3823, 'fiber': 3809, 'degraded': 2565, 'reinstalling': 8011, 'raja': 7670, 'equip': 3398, 'charts': 1561, 'exposing': 3642, 'magically': 5749, 'narrative': 6264, 'comer': 1813, 'tar': 9758, 'translate': 10138, 'thrown': 9948, 'standby': 9332, 'neigh': 6316, 'proc': 7391, 'neighbor': 6317, 'protocol': 7511, 'adjacency': 171, 'election': 3184, 'elect': 3182, 'uplink': 10497, 'elected': 3183, 'insertion': 5014, 'succeeded': 9538, 'anticipating': 457, 'scheduler': 8668, 'writer': 10970, 'grooming': 4356, 'cached': 1313, 'preliminary': 7283, 'compensate': 1879, 'becoming': 899, 'watcher': 10776, 'experimented': 3604, 'serves': 8832, 'adds': 165, 'formed': 4025, 'overstated': 6722, 'linking': 5584, 'valued': 10564, 'overstatement': 6723, 'spotted': 9280, 'meat': 5916, 'pol': 7143, 'guaranties': 4374, 'promise': 7459, 'forums': 4042, 'relational': 8038, 'tuned': 10241, 'internationally': 5137, 'advertisement': 211, 'raises': 7668, 'enhancements': 3320, 'brochure': 1206, 'anniversary': 426, 'languages': 5399, 'satellite': 8621, 'approximate': 531, 'precisely': 7262, 'informative': 4957, 'fantastic': 3739, 'fake': 3717, 'repeated': 8158, 'describe': 2665, 'refusal': 7955, 'commonly': 1848, 'reveal': 8403, 'dumb': 3075, 'declarations': 2509, 'replication': 8182, 'commented': 1831, 'subcategory': 9492, 'unlisted': 10411, 'enquired': 3336, 'robotics': 8496, 'recurrences': 7878, 'auditor': 718, 'requiring': 8230, 'southeast': 9167, 'transposed': 10157, 'bind': 1000, 'likewise': 5569, 'constructed': 2089, 'serviced': 8833, 'fishing': 3890, 'interesting': 5117, 'autism': 741, 'routes': 8538, 'clarifications': 1651, 'reviewer': 8421, 'isolated': 5234, 'isolate': 5233, 'fulfil': 4118, 'excellent': 3515, 'merging': 5967, 'pain': 6771, 'eely': 3155, 'scam': 8651, 'covers': 2299, 'confidence': 1995, 'convincing': 2188, 'strategies': 9435, 'combining': 1809, 'facts': 3703, 'argument': 560, 'writers': 10971, 'instantly': 5051, 'considerable': 2057, 'ineffective': 4931, 'poorly': 7171, 'ham': 4413, 'grasp': 4329, 'abuse': 28, 'inquiry': 5007, 'directs': 2811, 'mandates': 5797, 'registries': 7984, 'certainty': 1503, 'complexity': 1916, 'reestablish': 7912, 'mal': 5781, 'auf': 721, 'claus': 1670, 'den': 2618, 'hat': 4471, 'backbone': 801, 'engines': 3315, 'postmaster': 7219, 'dies': 2760, 'prim': 7355, 'mein': 5932, 'shored': 8916, 'favorites': 3763, 'rebuilt': 7774, 'stakeholder': 9323, 'romanian': 8515, 'discovery': 2864, 'masquerade': 5854, 'mystery': 6248, 'priceless': 7350, 'memories': 5943, 'laughter': 5430, 'linger': 5581, 'glimpse': 4264, 'continuously': 2135, 'belongings': 942, 'tap': 9753, 'cabs': 1311, 'capable': 1388, 'interrupted': 5148, 'contradictory': 2147, 'progression': 7444, 'codification': 1742, 'savers': 8636, 'organizing': 6627, 'kitchen': 5355, 'navigate': 6277, 'european': 3463, 'skin': 9041, 'blockages': 1042, 'repetition': 8162, 'conn': 2033, 'gigabit': 4242, 'merely': 5961, 'ink': 4991, 'admit': 191, 'arranging': 577, 'ledgers': 5479, 'tube': 10234, 'populates': 7178, 'suited': 9570, 'mister': 6091, 'hottest': 4658, 'utilize': 10540, 'sought': 9160, 'ether': 3456, 'slight': 9060, 'detect': 2704, 'fraudulent': 4074, 'actionable': 119, 'classified': 1667, 'interceptions': 5107, 'preserving': 7321, 'speedy': 9230, 'fight': 3819, 'godfather': 4277, 'polish': 7148, 'analyzed': 406, 'combined': 1807, 'concrete': 1977, 'fool': 3978, 'assumes': 649, 'stalls': 9327, 'nowadays': 6431, 'desks': 2686, 'redo': 7898, 'serbian': 8821, 'tutors': 10262, 'urged': 10512, 'reroute': 8237, 'align': 312, 'bids': 984, 'unsuccessful': 10465, 'canton': 1384, 'bubble': 1219, 'envelope': 3379, 'blood': 1048, 'donor': 2982, 'cupboard': 2382, 'occurrence': 6501, 'smiths': 9088, 'dos': 2986, 'flashing': 3914, 'deteriorated': 2711, 'yrs': 11014, 'altering': 358, 'produce': 7409, 'indifferent': 4916, 'cute': 2412, 'sear': 8723, 'engagers': 3309, 'prolonged': 7457, 'taxes': 9777, 'sharer': 8878, 'bitte': 1012, 'recheck': 7801, 'convert': 2178, 'uploads': 10502, 'pets': 6986, 'lifespan': 5550, 'stations': 9363, 'founded': 4050, 'recruit': 7865, 'procure': 7405, 'diligence': 2786, 'govt': 4295, 'retirement': 8370, 'hunting': 4685, 'congress': 2031, 'ransack': 7687, 'sponsor': 9266, 'scheming': 8674, 'americans': 383, 'deduction': 2532, 'deposits': 2651, 'earmarks': 3113, 'pork': 7181, 'barrel': 853, 'legislation': 5492, 'slash': 9048, 'breaks': 1169, 'contributions': 2156, 'essentially': 3437, 'advantageous': 205, 'revealed': 8404, 'axed': 794, 'billion': 995, 'washington': 10769, 'rake': 7671, 'loser': 5680, 'attractive': 705, 'circumvent': 1635, 'ransacks': 7688, 'earned': 3116, 'nest': 6325, 'egg': 3169, 'manipulate': 5808, 'irs': 5229, 'metals': 5980, 'obligation': 6466, 'shipping': 8903, 'insider': 5018, 'reveals': 8406, 'crush': 2360, 'dollar': 2969, 'millions': 6031, 'confiscate': 2010, 'sneaky': 9103, 'sweeping': 9666, 'shampoo': 8868, 'alzheimer': 368, 'announcing': 432, 'pill': 7037, 'affiliate': 236, 'businesses': 1283, 'commissions': 1838, 'purchases': 7569, 'vegas': 10591, 'presidential': 7324, 'politics': 7154, 'bouncing': 1132, 'surf': 9620, 'tears': 9789, 'gentle': 4220, 'subdirectories': 9497, 'conventions': 2171, 'filed': 3827, 'shortage': 8918, 'mechanism': 5918, 'administrate': 183, 'cloned': 1702, 'reassigning': 7764, 'rerouting': 8239, 'amigo': 385, 'unwanted': 10481, 'excluding': 3535, 'extensive': 3662, 'triggers': 10195, 'differ': 2763, 'danger': 2438, 'adverted': 208, 'blame': 1024, 'disappointed': 2825, 'voltage': 10704, 'identical': 4711, 'remade': 8079, 'remake': 8086, 'actualized': 134, 'standup': 9338, 'beck': 896, 'rung': 8563, 'herr': 4541, 'transparent': 10151, 'competence': 1886, 'justifiable': 5303, 'feeds': 3788, 'irrelevant': 5223, 'categorizing': 1460, 'ales': 307, 'merit': 5969, 'tor': 10059, 'vino': 10663, 'rile': 8469, 'motive': 6193, 'rug': 8555, 'rut': 8573, 'sect': 8745, 'composite': 1933, 'panic': 6789, 'motivation': 6191, 'breakthrough': 1170, 'irresistible': 5224, 'unanimous': 10302, 'unprecedented': 10435, 'inspiring': 5035, 'encouraging': 3279, 'teamwork': 9786, 'motivating': 6190, 'creates': 2325, 'transmits': 10146, 'enthusiasm': 3359, 'motivational': 6192, 'kinds': 5352, 'sorts': 9158, 'transformations': 10129, 'revolutions': 8440, 'expansions': 3580, 'mergers': 5965, 'crises': 2345, 'sentiments': 8807, 'morale': 6173, 'lasting': 5413, 'decreasing': 2524, 'griffin': 4350, 'spots': 9279, 'michigan': 5997, 'elimination': 3207, 'apprenticing': 513, 'initiative': 4983, 'mature': 5886, 'owning': 6743, 'gathering': 4191, 'administrated': 184, 'magnifier': 5753, 'bolded': 1073, 'reusing': 8397, 'continuity': 2133, 'regenerates': 7972, 'stat': 9349, 'approx': 530, 'blinks': 1038, 'headaches': 4485, 'recommends': 7824, 'factors': 3701, 'uplinks': 10498, 'expression': 3648, 'attendance': 688, 'colours': 1796, 'skipped': 9043, 'significance': 8975, 'coloured': 1795, 'stamped': 9329, 'shout': 8929, 'hole': 4607, 'transitions': 10136, 'dive': 2937, 'fence': 3799, 'appropriately': 521, 'routers': 8537, 'effected': 3157, 'clubs': 1721, 'committees': 1845, 'elastic': 3181, 'similarities': 8987, 'grayed': 4336, 'nowhere': 6432, 'interrupting': 5149, 'corrupting': 2253, 'compiling': 1897, 'precedent': 7257, 'seers': 8766, 'workbooks': 10938, 'architectural': 546, 'italy': 5246, 'limiting': 5576, 'smooth': 9090, 'char': 1544, 'procedural': 7392, 'respects': 8294, 'undefined': 10331, 'recon': 7827, 'proving': 7528, 'balances': 833, 'leased': 5466, 'nouveau': 6427, 'vise': 10672, 'bios': 1003, 'gizmo': 4254, 'plugs': 7122, 'accounted': 75, 'keywords': 5332, 'caveat': 1472, 'obtainable': 6485, 'insist': 5021, 'attic': 700, 'loose': 5675, 'engaging': 3310, 'foreign': 3999, 'spans': 9182, 'identifies': 4716, 'hierarchies': 4558, 'macro': 5735, 'modern': 6133, 'fingertips': 3865, 'scrolling': 8712, 'watched': 10775, 'authenticated': 728, 'bundle': 1266, 'age': 253, 'liquid': 5587, 'juice': 5291, 'retire': 8367, 'megabytes': 5931, 'capitalized': 1391, 'thanksgiving': 9882, 'poseidon': 7194, 'flip': 3935, 'magnetic': 5752, 'drawings': 3035, 'tune': 10240, 'lowers': 5699, 'balancers': 832, 'highlights': 4567, 'sincere': 9006, 'limitations': 5574, 'hashed': 4466, 'hashes': 4467, 'salt': 8599, 'evidence': 3491, 'precaution': 7251, 'regret': 7988, 'disruption': 2905, 'dearest': 2478, 'gift': 4239, 'shooter': 8910, 'bio': 1002, 'routines': 8541, 'duos': 3083, 'continua': 2127, 'rives': 8487, 'irrespective': 5225, 'resubmitting': 8340, 'arrangement': 575, 'cleaner': 1675, 'wolves': 10920, 'reactivating': 7722, 'fad': 3704, 'pointer': 7135, 'shoulder': 8928, 'straps': 9433, 'shredded': 8938, 'physic': 7009, 'entails': 3353, 'splitting': 9263, 'standing': 9335, 'surly': 9626, 'beneficial': 954, 'organizational': 6621, 'drafting': 3017, 'refreshment': 7948, 'fulfillment': 4124, 'lei': 5497, 'offs': 6525, 'extraction': 3677, 'consciously': 2048, 'reasonably': 7758, 'enlist': 3330, 'inches': 4846, 'revising': 8428, 'remembering': 8096, 'student': 9480, 'sketch': 9034, 'adaptors': 147, 'defaulted': 2541, 'payload': 6890, 'suitability': 9567, 'gibberish': 4237, 'til': 9981, 'whatsoever': 10837, 'attache': 673, 'synch': 9694, 'loosing': 5676, 'foreground': 3998, 'artifacts': 590, 'varies': 10576, 'resolves': 8283, 'fidgeting': 3813, 'attendants': 690, 'alignment': 315, 'comport': 1928, 'ic': 4699, 'preprocessor': 7300, 'mn': 6110, 'caddy': 1318, 'diagnosis': 2731, 'recharging': 7800, 'productive': 7416, 'rotated': 8523, 'corrupted': 2252, 'weather': 10796, 'fibre': 3810, 'electricity': 3188, 'cuts': 2414, 'hick': 4552, 'putted': 7588, 'goal': 4273, 'commons': 1850, 'jar': 5266, 'unopened': 10425, 'unprocessed': 10438, 'behaving': 920, 'joke': 5283, 'evaluator': 3470, 'ergo': 3408, 'computes': 1956, 'ignores': 4732, 'approaches': 517, 'containers': 2113, 'bearing': 888, 'shakespeare': 8864, 'emotional': 3230, 'constructive': 2091, 'illumination': 4741, 'exclusively': 3539, 'automat': 742, 'timing': 9999, 'draw': 3030, 'scary': 8660, 'colored': 1791, 'resident': 8266, 'guarantee': 4371, 'rendering': 8124, 'catalog': 1448, 'participants': 6823, 'gifts': 4240, 'nab': 6250, 'kiev': 5340, 'speedway': 9229, 'inputs': 5001, 'precis': 7260, 'worried': 10956, 'damaging': 2433, 'hint': 4581, 'thicket': 9907, 'previews': 7346, 'iterative': 5254, 'cop': 2210, 'hybrid': 4692, 'prevented': 7341, 'distance': 2911, 'lightweight': 5563, 'perils': 6936, 'proximity': 7534, 'rte': 8549, 'folderol': 3964, 'rendered': 8122, 'arguments': 561, 'revealing': 8405, 'tackle': 9717, 'proposition': 7494, 'historical': 4588, 'comparisons': 1875, 'restructuring': 8335, 'reshape': 8265, 'classifications': 1666, 'comparability': 1869, 'novelties': 6429, 'lookup': 5668, 'cohen': 1751, 'toll': 10033, 'elevated': 3197, 'reusable': 8394, 'goals': 4274, 'pushes': 7582, 'assumptions': 652, 'aims': 289, 'dramatically': 3028, 'heavy': 4510, 'refreshing': 7947, 'presently': 7316, 'aggregating': 265, 'mentions': 5951, 'fortnight': 4037, 'roc': 8500, 'manufacturers': 5818, 'discomfort': 2846, 'alternatively': 361, 'minuteman': 6055, 'sum': 9572, 'develops': 2724, 'propagation': 7485, 'apprentice': 512, 'innovate': 4994, 'envisaged': 3385, 'recordings': 7851, 'infrastructures': 4964, 'helsinki': 4527, 'meals': 5901, 'officials': 6524, 'compactor': 1866, 'alongside': 345, 'sustaining': 9654, 'mismatches': 6074, 'doubts': 2992, 'stabilization': 9304, 'concludes': 1972, 'nevertheless': 6331, 'bicycle': 979, 'envisioned': 3386, 'branded': 1156, 'bicycles': 980, 'vagrant': 10553, 'conclusion': 1974, 'gauge': 4192, 'subset': 9522, 'oats': 6454, 'flammable': 3910, 'piles': 7036, 'cages': 1325, 'realty': 7749, 'pols': 7159, 'walked': 10733, 'flexible': 3928, 'liable': 5527, 'institutional': 5054, 'hopping': 4641, 'slough': 9071, 'tracker': 10089, 'exec': 3543, 'successes': 9542, 'achievements': 97, 'bottlenecks': 1126, 'defining': 2557, 'gotten': 4290, 'peering': 6904, 'imports': 4801, 'methods': 5987, 'anterior': 453, 'assists': 644, 'alleviated': 322, 'lend': 5499, 'universities': 10397, 'demonstrates': 2615, 'hire': 4582, 'boarding': 1065, 'reallocated': 7745, 'agility': 269, 'insurer': 5068, 'suggesting': 9561, 'reclassify': 7811, 'bonuses': 1086, 'disarm': 2827, 'validating': 10559, 'drafted': 3016, 'downs': 3006, 'resets': 8263, 'detecting': 2706, 'servicing': 8834, 'delegations': 2578, 'congratulating': 2029, 'wrights': 10968, 'spends': 9237, 'applicant': 494, 'releasing': 8052, 'messes': 5976, 'triggering': 10194, 'saver': 8635, 'lib': 5531, 'expedite': 3587, 'hayes': 4479, 'documented': 2960, 'minimize': 6043, 'academic': 31, 'sows': 9171, 'altogether': 365, 'precedence': 7256, 'statically': 9357, 'funny': 4146, 'verbally': 10605, 'suspend': 9646, 'disappears': 2823, 'manages': 5794, 'authenticating': 729, 'nom': 6369, 'hacking': 4403, 'limits': 5577, 'streamline': 9441, 'inactivated': 4829, 'sight': 8960, 'escalating': 3425, 'articles': 588, 'contributing': 2154, 'understandings': 10349, 'geographic': 4226, 'kids': 5339, 'actuality': 132, 'translator': 10142, 'suffers': 9553, 'captures': 1398, 'transcript': 10120, 'hierarchy': 4559, 'untitled': 10473, 'accord': 67, 'chair': 1517, 'replicating': 8181, 'cookies': 2192, 'alb': 299, 'entrances': 3371, 'legends': 5491, 'heroes': 4540, 'strike': 9456, 'offensive': 6514, 'vim': 10658, 'bases': 863, 'tagged': 9724, 'workload': 10945, 'queued': 7626, 'optical': 6589, 'andes': 411, 'routs': 8543, 'rechecked': 7802, 'stepped': 9386, 'optic': 6588, 'behave': 917, 'regression': 7987, 'selenium': 8782, 'headless': 4490, 'producing': 7413, 'overrides': 6714, 'visualized': 10687, 'income': 4862, 'affective': 232, 'render': 8121, 'robot': 8495, 'printable': 7363, 'overhead': 6695, 'italics': 5245, 'stopping': 9414, 'settlement': 8844, 'hibernate': 4548, 'worse': 10959, 'probation': 7385, 'intercompany': 5110, 'yugoslavia': 11015, 'dinar': 2790, 'fusions': 4154, 'evenings': 3475, 'interconnected': 5112, 'compartment': 1876, 'stere': 9389, 'duck': 3068, 'compare': 1871, 'determining': 2717, 'shaky': 8865, 'crashes': 2314, 'sprints': 9290, 'shuttle': 8948, 'watt': 10782, 'swindles': 9672, 'shame': 8867, 'demonstrate': 2613, 'certifications': 1508, 'remittances': 8105, 'anytime': 466, 'hora': 4643, 'sticker': 9392, 'catalogues': 1451, 'father': 3755, 'compensating': 1881, 'viable': 10634, 'possibilities': 7205, 'stages': 9316, 'gulp': 4391, 'orchestra': 6607, 'minim': 6040, 'unlicensed': 10405, 'functioned': 4135, 'rag': 7657, 'shadows': 8860, 'tons': 10047, 'cur': 2385, 'instate': 5052, 'blackberry': 1016, 'grain': 4312, 'renegotiating': 8126, 'geographically': 4228, 'jump': 5293, 'safely': 8581, 'crack': 2304, 'latter': 5425, 'carrion': 1423, 'dummy': 3077, 'automate': 744, 'tampered': 9748, 'gaps': 4180, 'cacti': 1316, 'clears': 1687, 'consist': 2066, 'mileage': 6022, 'photograph': 7001, 'gent': 4219, 'sitz': 9028, 'decisions': 2506, 'ordinary': 6617, 'hiring': 4585, 'silly': 8985, 'forth': 4035, 'grammar': 4314, 'vocabulary': 10693, 'beginners': 912, 'forever': 4003, 'scum': 8715, 'rejoined': 8031, 'receivers': 7788, 'troops': 10210, 'newcomer': 6334, 'mille': 6027, 'ponder': 7161, 'zebra': 11019, 'exposed': 3640, 'hacked': 4401, 'miscreant': 6065, 'cryptography': 2363, 'cypher': 2421, 'chaining': 1515, 'symmetric': 9687, 'weaker': 10791, 'advertise': 209, 'existence': 3568, 'evaluators': 3471, 'evaluations': 3469, 'trails': 10105, 'indexer': 4905, 'awesomeness': 786, 'harmful': 4458, 'curs': 2395, 'solicit': 9124, 'therefor': 9899, 'misunderstood': 6098, 'employing': 3243, 'equivalent': 3403, 'graphic': 4323, 'maintaining': 5772, 'gantry': 4177, 'idler': 4724, 'pulley': 7554, 'torsion': 10062, 'millennium': 6028, 'belfast': 929, 'originals': 6634, 'pane': 6785, 'visiting': 10679, 'retainer': 8358, 'dumps': 3080, 'kernels': 5320, 'purged': 7572, 'zeros': 11024, 'marathon': 5827, 'runners': 8565, 'interned': 5138, 'honors': 4625, 'webster': 10798, 'rand': 7678, 'variant': 10573, 'watch': 10774, 'canal': 1369, 'savvy': 8638, 'innovative': 4997, 'strikes': 9457, 'circles': 1625, 'strong': 9464, 'salve': 8601, 'merged': 5963, 'tend': 9834, 'coolers': 2198, 'unavailability': 10311, 'buffer': 1235, 'rogue': 8505, 'centres': 1496, 'overlay': 6703, 'gratis': 4334, 'whereby': 10844, 'securely': 8753, 'glaring': 4258, 'tricky': 10189, 'impending': 4774, 'consultation': 2095, 'modular': 6142, 'mountable': 6197, 'pasting': 6862, 'pow': 7231, 'facto': 3699, 'inevitable': 4935, 'naive': 6254, 'seamless': 8721, 'propagate': 7482, 'passions': 6852, 'collected': 1773, 'surge': 9624, 'disarmed': 2828, 'armed': 570, 'enhancement': 3319, 'notepad': 6409, 'forthcoming': 4036, 'bannister': 842, 'tennis': 9839, 'tournament': 10073, 'contenting': 2120, 'partitioned': 6835, 'shutdowns': 8945, 'roves': 8545, 'unstuck': 10464, 'ships': 8904, 'apology': 477, 'formulate': 4032, 'strings': 9459, 'predict': 7267, 'incorporated': 4878, 'mews': 5992, 'illness': 4740, 'uncommon': 10329, 'hers': 4542, 'optimise': 6593, 'embrace': 3220, 'busby': 1282, 'campus': 1365, 'footer': 3980, 'whichever': 10848, 'bur': 1269, 'tut': 10259, 'activating': 124, 'narrow': 6266, 'rock': 8501, 'incubation': 4891, 'pierce': 7032, 'incorporate': 4877, 'doe': 2965, 'retroactive': 8381, 'impose': 4802, 'scaling': 8650, 'buyers': 1292, 'experiments': 3606, 'laying': 5444, 'incompatible': 4865, 'anonymous': 442, 'timer': 9995, 'lasts': 5415, 'realm': 7748, 'thunder': 9954, 'bumped': 1262, 'subgroups': 9498, 'accessory': 56, 'advisement': 220, 'flapping': 3911, 'overloaded': 6705, 'tty': 10232, 'decreased': 2522, 'supplicant': 9602, 'bends': 951, 'casing': 1440, 'warped': 10758, 'bugging': 1239, 'incapable': 4840, 'interferes': 5125, 'tunnelling': 10247, 'pure': 7570, 'danish': 2440, 'toronto': 10060, 'inched': 4845, 'disconnecting': 2849, 'belay': 927, 'specifies': 9215, 'grid': 4349, 'locomote': 5643, 'reissue': 8018, 'fare': 3741, 'reissuing': 8020, 'traveler': 10163, 'issuance': 5236, 'travelers': 10164, 'airline': 292, 'itinerary': 5255, 'carriers': 1421, 'lifeline': 5548, 'leaflet': 5455, 'twelve': 10267, 'birthdays': 1008, 'involving': 5218, 'intercepted': 5105, 'deemed': 2535, 'supervision': 9593, 'thereof': 9902, 'notwithstanding': 6425, 'foregoing': 3997, 'conclusions': 1975, 'afford': 241, 'vacuum': 10552, 'negotiates': 6310, 'garage': 4181, 'elm': 3210, 'altered': 357, 'erroneous': 3415, 'carries': 1422, 'blanket': 1027, 'sirs': 9017, 'madames': 5741, 'importer': 4799, 'utility': 10538, 'welfare': 10822, 'catering': 1464, 'lunches': 5717, 'nibbles': 6345, 'hilltop': 4572, 'overheads': 6696, 'reduces': 7902, 'undercover': 10335, 'horse': 4650, 'contaminants': 2116, 'remedial': 8090, 'affiliated': 237, 'venue': 10602, 'pullman': 7556, 'fallowing': 3726, 'periodical': 6939, 'microsecond': 6002, 'specifics': 9213, 'msec': 6216, 'bishops': 1009, 'manila': 5807, 'decorated': 2520, 'soap': 9111, 'philadelphia': 6994, 'subsidiary': 9524, 'indirectly': 4919, 'remuneration': 8117, 'waking': 10730, 'resists': 8274, 'overlap': 6700, 'persisting': 6963, 'grabs': 4298, 'embarked': 3214, 'adopt': 195, 'gradual': 4306, 'digits': 2785, 'pools': 7168, 'embarrassing': 3216, 'reclaim': 7807, 'stander': 9333, 'standers': 9334, 'sport': 9275, 'binaries': 998, 'representable': 8195, 'updaters': 10490, 'boolean': 1099, 'differs': 2771, 'laver': 5435, 'transformed': 10130, 'tariffs': 9766, 'swipe': 9673, 'sporadic': 9273, 'spotty': 9282, 'fridges': 4092, 'microwave': 6003, 'cold': 1754, 'dispenser': 2888, 'bodes': 1069, 'ultimate': 10292, 'justified': 5306, 'perforce': 6927, 'typescript': 10280, 'grails': 4311, 'frameworks': 4066, 'scripted': 8707, 'native': 6271, 'skilled': 9039, 'marketability': 5835, 'consequently': 2055, 'passionate': 6851, 'handlers': 4425, 'intensive': 5090, 'study': 9484, 'incline': 4852, 'negative': 6305, 'insisting': 5025, 'gender': 4204, 'calculator': 1336, 'perturb': 6982, 'reconfirm': 7835, 'resuscitation': 8351, 'clicker': 1690, 'voce': 10696, 'issuer': 5239, 'motherboard': 6185, 'baseboard': 859, 'veronicas': 10619, 'perpetual': 6957, 'stacking': 9309, 'wagon': 10724, 'trace': 10082, 'invoke': 5212, 'targets': 9764, 'collaborator': 1762, 'querying': 7617, 'mindful': 6036, 'verde': 10609, 'interior': 5128, 'implications': 4786, 'lacking': 5384, 'revenues': 8408, 'collision': 1784, 'unlike': 10406, 'empire': 3237, 'deletes': 2581, 'piloting': 7041, 'efficiencies': 3163, 'tailored': 9729, 'beneath': 953, 'cornel': 2230, 'potentially': 7227, 'unsupported': 10468, 'vista': 10683, 'advisory': 225, 'mitigated': 6101, 'restricts': 8333, 'segments': 8769, 'inherent': 4968, 'dictionary': 2755, 'streams': 9444, 'catchup': 1456, 'massage': 5857, 'addendum': 150, 'prolong': 7455, 'davies': 2459, 'holydays': 4615, 'deputy': 2659, 'fulfills': 4125, 'players': 7106, 'booth': 1103, 'coalition': 1733, 'brink': 1194, 'insanity': 5009, 'statue': 9368, 'unapproved': 10305, 'knowledgeable': 5365, 'thru': 9950, 'revaluation': 8401, 'reversing': 8414, 'knowing': 5363, 'revaluations': 8402, 'headache': 4484, 'extras': 3679, 'reversal': 8410, 'playbook': 7102, 'puerto': 7550, 'characteristics': 1546, 'eventuality': 3480, 'stole': 9407, 'beggar': 908, 'diligently': 2788, 'remark': 8087, 'apportioned': 507, 'seed': 8755, 'aimed': 287, 'puts': 7587, 'quoted': 7648, 'excepting': 3518, 'clarke': 1658, 'hogan': 4601, 'fed': 3777, 'anomalies': 440, 'interacts': 5104, 'avengers': 764, 'roberts': 8493, 'church': 1618, 'bright': 1186, 'instrumentation': 5063, 'quoting': 7650, 'midday': 6005, 'rushed': 8570, 'elaboration': 3179, 'dialog': 2744, 'brains': 1149, 'slowness': 9077, 'recorder': 7848, 'righted': 8465, 'accruals': 79, 'caches': 1314, 'scree': 8696, 'wherever': 10845, 'casting': 1445, 'missiles': 6080, 'exceptionally': 3521, 'entirety': 3364, 'flawlessly': 3921, 'bastion': 872, 'administers': 182, 'injectors': 4989, 'blueprint': 1055, 'tentative': 9843, 'clarities': 1656, 'cue': 2371, 'jeu': 5269, 'pixel': 7064, 'imperative': 4775, 'nimbus': 6356, 'fulltime': 4128, 'acknowledgement': 100, 'vinery': 10662, 'fighting': 3820, 'flue': 3946, 'padlock': 6764, 'forcing': 3990, 'jelly': 5267, 'geared': 4196, 'volunteer': 10707, 'unfit': 10371, 'fastest': 3751, 'designing': 2682, 'duty': 3099, 'assigns': 637, 'prone': 7477, 'minimized': 6044, 'quicker': 7630, 'bon': 1080, 'postal': 7211, 'lads': 5387, 'tedious': 9803, 'openings': 6561, 'deductions': 2533, 'served': 8829, 'progressing': 7443, 'outcomes': 6665, 'exert': 3558, 'wave': 10784, 'rejections': 8028, 'outbox': 6663, 'disturb': 2930, 'repetitive': 8163, 'sponsors': 9268, 'wander': 10741, 'unaccompanied': 10299, 'equally': 3394, 'restricting': 8329, 'competitive': 1890, 'broadest': 1203, 'careful': 1411, 'competitors': 1892, 'turnstiles': 10258, 'clauses': 1672, 'deny': 2624, 'queried': 7615, 'digest': 2778, 'smile': 9085, 'repairing': 8152, 'hibernated': 4549, 'remembered': 8095, 'mountain': 6198, 'crc': 2321, 'resales': 8242, 'historically': 4589, 'rugged': 8556, 'absorption': 24, 'uncertainties': 10322, 'compiled': 1895, 'carousel': 1417, 'scared': 8659, 'halloween': 4408, 'witch': 10901, 'hangouts': 4438, 'backlogs': 812, 'ceremonies': 1498, 'scrubbing': 8713, 'popular': 7175, 'ads': 199, 'herdman': 4532, 'advantage': 204, 'powerful': 7233, 'ensures': 3350, 'strive': 9462, 'nutshell': 6450, 'likes': 5568, 'hobbies': 4596, 'bed': 900, 'unsolved': 10460, 'reentered': 7910, 'qualify': 7601, 'accession': 54, 'watts': 10783, 'subscribing': 9517, 'egger': 3170, 'shear': 8887, 'chronological': 1614, 'challenging': 1524, 'shiniest': 8899, 'happiest': 4446, 'photographer': 7002, 'zones': 11033, 'slide': 9056, 'underneath': 10342, 'rubber': 8550, 'slim': 9063, 'hundreds': 4681, 'unneeded': 10420, 'recoverability': 7855, 'investing': 5200, 'sovereign': 9169, 'multiplied': 6227, 'fantasizing': 3738, 'replaces': 8170, 'millimeter': 6029, 'fluid': 3947, 'lector': 5476, 'lbs': 5448, 'hasta': 4469, 'aqua': 537, 'detector': 2708, 'velcro': 10594, 'sporadically': 9274, 'remedied': 8091, 'atheneum': 666, 'dialed': 2739, 'centralize': 1491, 'rotation': 8525, 'inability': 4823, 'coincided': 1752, 'powwow': 7236, 'responsiveness': 8307, 'considerably': 2058, 'noticeable': 6414, 'anyhow': 462, 'bulger': 1252, 'dublin': 3066, 'ess': 3434, 'mace': 5726, 'vocation': 10695, 'outwards': 6683, 'earth': 3119, 'mars': 5846, 'saturn': 8630, 'tesla': 9861, 'carbon': 1401, 'oxygen': 6748, 'xenon': 10980, 'mississippi': 6082, 'yangtze': 10988, 'onyx': 6555, 'colosseum': 1793, 'pyramid': 7592, 'pads': 6766, 'passage': 6845, 'teammates': 9784, 'suffering': 9552, 'bates': 877, 'belcher': 928, 'inclined': 4853, 'downgraded': 2998, 'utopia': 10545, 'nightmare': 6351, 'unlocks': 10417, 'solves': 9133, 'rang': 7682, 'stepping': 9387, 'seldom': 8773, 'suspension': 9649, 'lightning': 5561, 'roamed': 8490, 'hid': 4553, 'slowdowns': 9073, 'carrot': 1424, 'cake': 1326, 'italian': 5243, 'cooking': 2193, 'sauces': 8631, 'crunchy': 2359, 'participating': 6827, 'stores': 9419, 'absolute': 22, 'cordless': 2226, 'operatives': 6573, 'southern': 9168, 'conjunction': 2032, 'promotional': 7468, 'nine': 6357, 'installment': 5044, 'applicants': 495, 'underwritten': 10359, 'mistakes': 6089, 'operative': 6572, 'certify': 1510, 'lockout': 5640, 'misc': 6063, 'eclipse': 3132, 'wins': 10886, 'equator': 3396, 'runner': 8564, 'ugly': 10286, 'clock': 1699, 'refined': 7931, 'headlines': 4492, 'refinement': 7932, 'trump': 10220, 'coolest': 2199, 'toto': 10067, 'damn': 2434, 'acquired': 106, 'spa': 9174, 'trademarks': 10095, 'width': 10870, 'outlets': 6673, 'kong': 5368, 'shanghai': 8869, 'delimitations': 2591, 'breaches': 1162, 'wasp': 10770, 'stretched': 9453, 'spell': 9231, 'spelt': 9234, 'stein': 9383, 'shoot': 8909, 'pitched': 7059, 'indicative': 4913, 'influences': 4950, 'unusually': 10480, 'speeds': 9227, 'operators': 6575, 'impersonated': 4777, 'launching': 5434, 'briefing': 1183, 'exploring': 3631, 'conduction': 1990, 'hiccups': 4551, 'throttled': 9941, 'voyager': 10715, 'labeling': 5375, 'landscape': 5396, 'fell': 3793, 'nominees': 6379, 'compete': 1884, 'substantially': 9526, 'comprised': 1943, 'outfit': 6669, 'relationships': 8041, 'credibility': 2336, 'tasked': 9769, 'refine': 7930, 'digitally': 2784, 'minded': 6035, 'caliber': 1343, 'incredibly': 4887, 'orchestrated': 6608, 'exposure': 3644, 'nominated': 6373, 'norwegian': 6397, 'slip': 9064, 'mew': 5991, 'etiquette': 3460, 'reputation': 8215, 'bread': 1164, 'crumbs': 2358, 'collections': 1776, 'hate': 4472, 'supplement': 9596, 'pertaining': 6979, 'sensors': 8803, 'telephones': 9809, 'secretary': 8743, 'flickers': 3930, 'creators': 2332, 'dbms': 2463, 'reconfiguration': 7833, 'font': 3976, 'condensed': 1980, 'wa': 10722, 'staring': 9341, 'fuze': 4158, 'americas': 384, 'arises': 565, 'realising': 7737, 'versa': 10621, 'played': 7104, 'carols': 1416, 'listen': 5593, 'regulatory': 7996, 'twisted': 10271, 'ferry': 3800, 'nicely': 6346, 'diagnose': 2728, 'harm': 4457, 'bookmarks': 1096, 'grouped': 4361, 'bookmark': 1095, 'fiscal': 3886, 'pepsi': 6917, 'disruptive': 2907, 'hug': 4673, 'prime': 7359, 'plenty': 7117, 'enhances': 3321, 'pecking': 6899, 'tablets': 9713, 'sticks': 9395, 'disputes': 2898, 'disney': 2884, 'worsened': 10960, 'custody': 2401, 'castile': 1444, 'dying': 3102, 'readily': 7729, 'coordinating': 2207, 'lawyers': 5439, 'priorities': 7370, 'legend': 5490, 'reconcile': 7828, 'auditors': 719, 'montgomery': 6165, 'pavan': 6883, 'heating': 4507, 'retype': 8392, 'visuals': 10689, 'french': 4083, 'refresher': 7945, 'drawn': 3036, 'designed': 2679, 'timeliness': 9991, 'invitees': 5206, 'movie': 6211, 'poured': 7230, 'bulked': 1254, 'enumerated': 3378, 'likelihood': 5566, 'scales': 8649, 'derive': 2660, 'reflects': 7938, 'loner': 5657, 'coordinated': 2205, 'hopper': 4640, 'lister': 5597, 'mozzarella': 6214, 'settled': 8843, 'consume': 2099, 'producer': 7411, 'tapping': 9757, 'palms': 6783, 'graduate': 4308, 'plays': 7109, 'tricks': 10188, 'victim': 10638, 'symphony': 9689, 'fairness': 3714, 'personalized': 6972, 'conducted': 1988, 'boring': 1110, 'cst': 2366, 'synchronous': 9702, 'listeners': 5595, 'warn': 10754, 'queueing': 7627, 'dependents': 2635, 'quorum': 7643, 'asynchronous': 663, 'paging': 6769, 'necessities': 6293, 'spikes': 9242, 'folded': 3962, 'ambiguous': 374, 'supplementary': 9597, 'gigs': 4243, 'multitude': 6229, 'jumps': 5295, 'grinds': 4352, 'holt': 4613, 'bathrooms': 879, 'clip': 1696, 'silk': 8984, 'vent': 10599, 'women': 10921, 'yea': 10991, 'hurt': 4688, 'experimental': 3602, 'scientist': 8680, 'underground': 10338, 'aggregation': 266, 'nay': 6281, 'lisbon': 5590, 'scoop': 8681, 'ascending': 595, 'numbered': 6440, 'athens': 667, 'pone': 7162, 'workday': 10939, 'lid': 5544, 'encouraged': 3277, 'tee': 9804, 'quebec': 7614, 'exciting': 3531, 'tutorials': 10261, 'retest': 8364, 'empowering': 3247, 'ridden': 8461, 'licensees': 5541, 'meter': 5981, 'inputting': 5002, 'slider': 9057, 'placeholder': 7071, 'circulated': 1630, 'tackled': 9718, 'nominating': 6375, 'largely': 5405, 'circulate': 1629, 'whomever': 10860, 'inadequate': 4833, 'alerted': 304, 'digit': 2781, 'associations': 646, 'extracts': 3678, 'stale': 9324, 'traveled': 10162, 'dough': 2993, 'pregnant': 7282, 'angus': 419, 'mysterious': 6246, 'acknowledging': 103, 'debit': 2482, 'signals': 8969, 'aboard': 11, 'dialing': 2741, 'excuse': 3541, 'reserving': 8261, 'avast': 761, 'spares': 9184, 'undo': 10362, 'mistakenly': 6088, 'ultimately': 10293, 'habit': 4398, 'chatting': 1569, 'undertaking': 10354, 'commenced': 1826, 'separating': 8813, 'waited': 10726, 'direction': 2802, 'thoroughly': 9920, 'suppositions': 9617, 'tile': 9982, 'intersections': 5156, 'duplicating': 3089, 'conflicting': 2013, 'preserve': 7319, 'invalidate': 5183, 'drowning': 3060, 'headings': 4489, 'itemization': 5248, 'natural': 6273, 'undergoing': 10337, 'repairs': 8153, 'technicians': 9798, 'sparks': 9187, 'fisheye': 3889, 'chm': 1601, 'summarized': 9575, 'milestone': 6023, 'debrief': 2483, 'learnt': 5465, 'toyota': 10081, 'glorious': 4269, 'awaits': 778, 'committee': 1844, 'belgium': 930, 'trivial': 10206, 'circulating': 1631, 'experts': 3609, 'accelerate': 33, 'forcibly': 3989, 'disables': 2817, 'unprotected': 10441, 'strain': 9427, 'infected': 4938, 'wednesdays': 10801, 'tuners': 10243, 'fishy': 3891, 'singe': 9011, 'welcomed': 10819, 'memberships': 5939, 'simpler': 8990, 'personality': 6970, 'erasing': 3406, 'readable': 7726, 'appliances': 492, 'warrant': 10759, 'damages': 2432, 'grit': 4354, 'quant': 7603, 'faits': 3716, 'tout': 10075, 'donne': 2981, 'charm': 1556, 'thousand': 9927, 'stranded': 9429, 'hell': 4518, 'instructing': 5058, 'anyways': 468, 'underwriter': 10358, 'untangle': 10470, 'mysteries': 6245, 'swagger': 9655, 'luckily': 5707, 'mistyping': 6095, 'willingness': 10876, 'prototypes': 7514, 'alley': 324, 'classics': 1664, 'hijacked': 4570, 'compromised': 1947, 'loans': 5620, 'overdrafts': 6689, 'cyprus': 2423, 'bears': 889, 'officers': 6520, 'whiteout': 10855, 'experiment': 3601, 'accompanying': 64, 'advisors': 224, 'tactical': 9721, 'sustain': 9653, 'bespoke': 964, 'dynamically': 3104, 'typically': 10282, 'undertaken': 10353, 'architects': 545, 'computed': 1953, 'dividing': 2946, 'derived': 2661, 'fraction': 4056, 'peace': 6894, 'pine': 7043, 'dock': 2950, 'teammate': 9783, 'keyword': 5331, 'uruguay': 10520, 'venezuela': 10598, 'strengthening': 9448, 'strengthen': 9447, 'underway': 10357, 'utilizes': 10542, 'adaptive': 145, 'murphy': 6233, 'corded': 2223, 'paired': 6779, 'nim': 6355, 'rooster': 8521, 'maintains': 5773, 'interrogate': 5145, 'hanging': 4437, 'editor': 3146, 'buckets': 1223, 'films': 3839, 'vulcan': 10718, 'facilitated': 3692, 'viewers': 10651, 'fetchers': 3803, 'shade': 8857, 'sin': 9004, 'passport': 6854, 'furniture': 4148, 'compromises': 1948, 'approximated': 532, 'segregated': 8771, 'bridged': 1179, 'dealt': 2476, 'pains': 6775, 'rolled': 8510, 'revolved': 8442, 'unproductive': 10439, 'rickets': 8459, 'prefix': 7278, 'appointing': 504, 'deputies': 2658, 'climb': 1695, 'melbourne': 5933, 'ohio': 6529, 'superman': 9588, 'fussed': 4155, 'separation': 8814, 'somewhat': 9145, 'wary': 10766, 'executor': 3552, 'shattered': 8885, 'pertained': 6978, 'savage': 8632, 'pillar': 7038, 'fifth': 3817, 'pica': 7015, 'publish': 7545, 'objections': 6461, 'denials': 2619, 'commits': 1842, 'measurements': 5914, 'weakens': 10790, 'revisal': 8425, 'troubleshot': 10216, 'finalizing': 3848, 'remitted': 8106, 'pipes': 7056, 'temperamental': 9819, 'accumulated': 82, 'malfunctions': 5785, 'fingerprint': 3861, 'ate': 664, 'repairers': 8151, 'descendant': 2664, 'evolve': 3496, 'borne': 1112, 'variety': 10578, 'maximal': 5890, 'parity': 6808, 'digitalization': 2783, 'sandbox': 8611, 'todays': 10022, 'fifty': 3818, 'fold': 3961, 'peck': 6898, 'virtue': 10669, 'appearance': 482, 'attentive': 696, 'rejoining': 8032, 'rejoin': 8030, 'moderators': 6132, 'moderated': 6130, 'expanded': 3577, 'validates': 10558, 'tabletops': 9712, 'polar': 7145, 'compacted': 1865, 'looped': 5672, 'arc': 542, 'enjoyed': 3325, 'fallback': 3721, 'dvorak': 3100, 'prague': 7247, 'czech': 2424, 'vised': 10673, 'multifunction': 6222, 'scrim': 8704, 'maim': 5761, 'erg': 3407, 'habits': 4399, 'theirs': 9887, 'punch': 7563, 'existed': 3567, 'publishes': 7549, 'asian': 601, 'liberating': 5533, 'exits': 3574, 'aggressive': 267, 'successive': 9545, 'recompiled': 7826, 'regenerated': 7971, 'recopied': 7844, 'recept': 7793, 'achieving': 98, 'cgs': 1514, 'locates': 5629, 'thresholds': 9936, 'determines': 2716, 'burden': 1270, 'fir': 3873, 'terminates': 9849, 'whitehall': 10854, 'mishap': 6067, 'formalities': 4014, 'roe': 8504, 'designates': 2678, 'ascii': 600, 'oars': 6453, 'zn': 11031, 'anis': 424, 'vox': 10714, 'compensations': 1883, 'plate': 7096, 'gems': 4202, 'scarce': 8658, 'packaging': 6757, 'avg': 768, 'magnifying': 5754, 'deem': 2534, 'necessity': 6294, 'onward': 6553, 'pickup': 7022, 'currencies': 2391, 'transported': 10155, 'elevator': 3200, 'jib': 5270, 'substitution': 9529, 'inconsistences': 4868, 'contradiction': 2146, 'checker': 1575, 'separates': 8812, 'salad': 8591, 'commander': 1822, 'divorced': 2947, 'timers': 9996, 'duo': 3082, 'platinum': 7099, 'specialization': 9203, 'energetic': 3298, 'intentional': 5094, 'solstice': 9129, 'processors': 7404, 'collated': 1767, 'illustrating': 4745, 'similarly': 8988, 'lowered': 5698, 'consisting': 2072, 'backing': 807, 'bugged': 1238, 'oddly': 6510, 'discard': 2832, 'adequately': 167, 'darling': 2446, 'flaw': 3918, 'turbo': 10249, 'boost': 1100, 'stress': 9450, 'temperatures': 9821, 'throttling': 9942, 'clocks': 1700, 'stability': 9303, 'throttle': 9940, 'centrally': 1493, 'honours': 4627, 'playback': 7101, 'elevation': 3199, 'personalize': 6971, 'handful': 4421, 'principle': 7360, 'retained': 8357, 'digesting': 2779, 'unprincipled': 10437, 'illustration': 4746, 'annum': 439, 'matched': 5869, 'gym': 4396, 'questionnaire': 7621, 'refreshes': 7946, 'wasted': 10772, 'subtotal': 9532, 'loud': 5689, 'nights': 6352, 'orleans': 6642, 'lake': 5390, 'newark': 6332, 'herewith': 4538, 'makers': 5778, 'passenger': 6847, 'unbeatable': 10315, 'invitations': 5203, 'tuesdays': 10237, 'warmest': 10752, 'notable': 6403, 'assesses': 620, 'accessibility': 51, 'gained': 4166, 'integrates': 5076, 'mechanisms': 5919, 'converged': 2172, 'eases': 3122, 'participated': 6825, 'finals': 3850, 'impressed': 4807, 'incubating': 4890, 'retired': 8368, 'composing': 1932, 'unhappy': 10378, 'ironic': 5220, 'negotiated': 6309, 'filing': 3830, 'deputation': 2657, 'pan': 6784, 'enrollment': 3344, 'awry': 791, 'forwarders': 4046, 'helpers': 4522, 'sponsorship': 9269, 'gov': 4291, 'australian': 725, 'shiny': 8900, 'debts': 2486, 'tuition': 10238, 'burglary': 1274, 'quartz': 7611, 'seam': 8720, 'cycled': 2418, 'chile': 1598, 'courier': 2290, 'fiscally': 3887, 'redone': 7899, 'bound': 1133, 'whatnot': 10835, 'assuring': 656, 'adheres': 168, 'exceptional': 3520, 'ticks': 9968, 'sylvan': 9684, 'risen': 8478, 'travels': 10168, 'grated': 4331, 'reenter': 7909, 'secunda': 8750, 'shaping': 8872, 'implicit': 4787, 'budgeted': 1231, 'insistent': 5023, 'switzerland': 9681, 'majority': 5775, 'quest': 7618, 'buildings': 1247, 'conflict': 2011, 'quit': 7636, 'nominal': 6370, 'achieved': 95, 'integer': 5072, 'accomplished': 66, 'symptom': 9690, 'liked': 5565, 'depicted': 2638, 'convertor': 2182, 'recognizes': 7816, 'housekeeping': 4663, 'lynx': 5725, 'summaries': 9573, 'sans': 8617, 'serif': 8824, 'discarded': 2833, 'reimbursing': 8005, 'infidel': 4943, 'tourniquets': 10074, 'indefinitely': 4896, 'widespread': 10866, 'vocal': 10694, 'communicator': 1859, 'occasions': 6493, 'retrospectives': 8385, 'ambiguity': 373, 'piedmont': 7031, 'palace': 6782, 'monument': 6169, 'executable': 3545, 'implements': 4783, 'bills': 996, 'restate': 8313, 'reaps': 7752, 'motivate': 6188, 'organizations': 6622, 'determined': 2715, 'benefitting': 957, 'outs': 6680, 'outlooks': 6676, 'troublesome': 10217, 'disqualified': 2899, 'alans': 296, 'assessor': 624, 'resubmissions': 8337, 'spurious': 9292, 'pluses': 7126, 'pong': 7164, 'etna': 3461, 'pioneer': 7051, 'budge': 1228, 'macintosh': 5734, 'reattached': 7768, 'oscillates': 6649, 'spins': 9248, 'whale': 10831, 'alike': 317, 'molded': 6146, 'relief': 8062, 'crew': 2340, 'learner': 5463, 'effectiveness': 3160, 'multilingual': 6223, 'consultative': 2096, 'measurable': 5910, 'curriculum': 2394, 'leveraging': 5520, 'decades': 2493, 'richardson': 8457, 'acknowledged': 99, 'phys': 7008, 'interrupts': 5152, 'excessive': 3526, 'egress': 3171, 'ingress': 4965, 'reseating': 8251, 'bothered': 1120, 'reactivation': 7723, 'trains': 10113, 'competitor': 1891, 'mf': 5994, 'lifting': 5556, 'healthy': 4501, 'adaptability': 138, 'juniors': 5297, 'achievement': 96, 'hats': 4474, 'nicest': 6347, 'resistance': 8272, 'calm': 1355, 'personalities': 6969, 'mediate': 5920, 'interacted': 5098, 'comfort': 1816, 'flint': 3934, 'helios': 4517, 'variances': 10572, 'deltas': 2602, 'historic': 4587, 'fronts': 4103, 'commentary': 1830, 'destined': 2693, 'mediums': 5926, 'oops': 6557, 'reacted': 7717, 'popped': 7172, 'atrocious': 671, 'equipments': 3400, 'sanitized': 8615, 'topology': 10057, 'falsified': 3729, 'flushed': 3948, 'flushing': 3949, 'flags': 3907, 'sleeping': 9053, 'rearrange': 7754, 'standpoint': 9336, 'buenos': 1234, 'dias': 2750, 'seams': 8722, 'beach': 886, 'inter': 5096, 'caught': 1466, 'retries': 8374, 'examine': 3505, 'homeworker': 4618, 'atlas': 669, 'tardiness': 9759, 'ditto': 2934, 'mouthing': 6205, 'poster': 7213, 'paragraph': 6794, 'chimp': 1600, 'shareable': 8876, 'enhance': 3317, 'intermediary': 5130, 'enhanced': 3318, 'contradicts': 2148, 'collaborates': 1758, 'collectively': 1777, 'ascertain': 597, 'suffer': 9550, 'transceiver': 10118, 'dom': 2971, 'csp': 2365, 'gel': 4201, 'consumers': 2101, 'particulars': 6831, 'translated': 10139, 'ridiculous': 8463, 'occupy': 6497, 'psf': 7538, 'prof': 7420, 'bitten': 1013, 'dank': 2441, 'addressees': 162, 'compressed': 1939, 'decompressed': 2519, 'workable': 10935, 'flew': 3925, 'grate': 4330, 'produced': 7410, 'practically': 7240, 'replaceable': 8165, 'awful': 787, 'orphaned': 6644, 'outer': 6668, 'genuinely': 4225, 'pretending': 7337, 'markup': 5843, 'labor': 5379, 'accelerated': 34, 'mutually': 6242, 'handbook': 4419, 'summarizes': 9576, 'essence': 3435, 'frames': 4064, 'performances': 6930, 'wheel': 10838, 'imam': 4756, 'songs': 9148, 'saturdays': 8629, 'complimentary': 1922, 'exhibition': 3563, 'motorcycle': 6194, 'museum': 6235, 'inaugural': 4837, 'singular': 9014, 'executives': 3551, 'manufactures': 5819, 'retailers': 8354, 'laboratory': 5380, 'traceability': 10083, 'nutrition': 6448, 'exhibitors': 3565, 'exhibit': 3561, 'bent': 958, 'researching': 8249, 'delegates': 2575, 'freely': 4078, 'summits': 9580, 'expo': 3632, 'combating': 1803, 'pathogen': 6873, 'contamination': 2117, 'crisis': 2346, 'allergen': 320, 'hygiene': 4694, 'microbiology': 5999, 'environmental': 3382, 'labelling': 5377, 'shelf': 8892, 'predictive': 7270, 'modelling': 6126, 'protecting': 7506, 'textures': 9873, 'flavours': 3917, 'enormous': 3332, 'shops': 8914, 'defaulting': 2542, 'stater': 9354, 'stayed': 9372, 'spital': 9254, 'mezzanine': 5993, 'translations': 10141, 'prints': 7368, 'promotions': 7469, 'vibrates': 10635, 'volition': 10701, 'consequence': 2053, 'folio': 3966, 'impressively': 4810, 'factor': 3700, 'juries': 5300, 'revisit': 8431, 'midst': 6010, 'replenishing': 8176, 'oslo': 6650, 'midnight': 6009, 'dodo': 2964, 'shifted': 8896, 'mesh': 5971, 'lucre': 5709, 'honor': 4623, 'genera': 4205, 'optimal': 6591, 'leverage': 5518, 'pros': 7499, 'waves': 10785, 'emitting': 3229, 'throughput': 9945, 'susceptibility': 9641, 'technological': 9801, 'consistently': 2071, 'graded': 4302, 'tradeoff': 10096, 'acronyms': 113, 'disagree': 2819, 'unfortunate': 10376, 'bait': 827, 'tis': 10008, 'halted': 4411, 'highlighting': 4566, 'overly': 6709, 'iteration': 5252, 'amends': 381, 'regularity': 7990, 'pairing': 6780, 'mailed': 5758, 'midweek': 6011, 'spotting': 9281, 'effects': 3161, 'fragmentation': 4060, 'mainstream': 5768, 'broadly': 1204, 'discontinuity': 2855, 'warden': 10749, 'teach': 9780, 'forename': 4000, 'sputa': 9293, 'nonstop': 6386, 'hoped': 4635, 'standardize': 9331, 'ansi': 445, 'hectic': 4512, 'installments': 5045, 'overlooking': 6708, 'voucher': 10713, 'limitative': 5575, 'contra': 2136, 'nadir': 6251, 'spiritual': 9252, 'exam': 3503, 'collaborated': 1757, 'redwood': 7908, 'rounding': 8531, 'oversight': 6720, 'begun': 916, 'throw': 9946, 'sib': 8950, 'aborted': 13, 'shock': 8907, 'carbons': 1402, 'opportunistic': 6579, 'edges': 3139, 'alternate': 359, 'mil': 6019, 'shorter': 8923, 'hundred': 4680, 'silence': 8980, 'russian': 8572, 'pseudo': 7537, 'heists': 4515, 'attack': 678, 'protects': 7510, 'resumed': 8347, 'reinvent': 8015, 'guard': 4375, 'followup': 3973, 'bye': 1296, 'wester': 10828, 'broth': 1210, 'deteriorate': 2710, 'federations': 3781, 'farewell': 3743, 'explicit': 3623, 'leftover': 5484, 'allocable': 325, 'bombarding': 1079, 'grips': 4353, 'profiling': 7427, 'intensively': 5091, 'highjacked': 4563, 'deliverable': 2595, 'unmapped': 10418, 'isles': 5231, 'closuring': 1715, 'barometric': 852, 'distributors': 2927, 'invest': 5193, 'faults': 3759, 'observations': 6473, 'bottleneck': 1125, 'tens': 9840, 'liquids': 5588, 'copper': 2218, 'complications': 1921, 'comprise': 1942, 'xxi': 10984, 'ski': 9037, 'hoover': 4633, 'redirecting': 7893, 'graying': 4337, 'cease': 1474, 'kroner': 5369, 'virgin': 10666, 'mangling': 5802, 'obfuscation': 6456, 'rehearsal': 7997, 'fins': 3872, 'garbo': 4182, 'etape': 3454, 'adjunct': 172, 'loch': 5634, 'ness': 6324, 'expediting': 3590, 'appointee': 503, 'columnist': 1800, 'complementary': 1905, 'fingerprinting': 3862, 'poorer': 7170, 'interacting': 5099, 'severely': 8851, 'manifesting': 5805, 'unprofessional': 10440, 'legit': 5494, 'poses': 7195, 'solid': 9126, 'civic': 1640, 'undesirable': 10360, 'ball': 836, 'implying': 4792, 'exceeds': 3512, 'aloud': 346, 'magician': 5750, 'terrace': 9855, 'watching': 10777, 'pones': 7163, 'warsaw': 10765, 'planes': 7083, 'lithuania': 5606, 'deposit': 2648, 'supposedly': 9616, 'cosmetic': 2256, 'primate': 7358, 'aces': 91, 'offset': 6526, 'necessitate': 6292, 'mint': 6050, 'ape': 474, 'surprise': 9632, 'formatter': 4023, 'parcels': 6802, 'spitfire': 9257, 'stationed': 9361, 'consistence': 2068, 'sickness': 8953, 'challenger': 1522, 'omit': 6540, 'polling': 7157, 'dub': 3064, 'clearer': 1684, 'hive': 4594, 'honestly': 4620, 'attract': 704, 'discrimination': 2869, 'pins': 7049, 'enroll': 3341, 'fingerprints': 3863, 'milk': 6025, 'fruits': 4110, 'pretzels': 7339, 'magazines': 5744, 'supplies': 9606, 'sanitary': 8613, 'cups': 2384, 'pepper': 6916, 'pens': 6914, 'lookout': 5666, 'resistant': 8273, 'charms': 1557, 'forge': 4005, 'mirrors': 6060, 'newcomers': 6335, 'angels': 414, 'lobby': 5621, 'jakarta': 5261, 'forgetting': 4007, 'calibrate': 1344, 'grows': 4368, 'hierarchically': 4557, 'foresee': 4001, 'swimming': 9671, 'editors': 3148, 'heading': 4488, 'unify': 10385, 'isms': 5232, 'plugging': 7121, 'inordinate': 4999, 'mistype': 6093, 'casanova': 1434, 'botticelli': 1123, 'gallery': 4172, 'film': 3836, 'pace': 6750, 'ton': 10040, 'teachers': 9782, 'salsa': 8598, 'casino': 1441, 'dancer': 2436, 'expresses': 3646, 'lux': 5721, 'unreadable': 10444, 'ignorance': 4729, 'redeployed': 7889, 'octet': 6505, 'petri': 6985, 'alphabetically': 349, 'extendible': 3656, 'foot': 3979, 'inspirational': 5033, 'walks': 10734, 'stone': 9409, 'dominated': 2975, 'cracks': 2306, 'creditor': 2338, 'prototype': 7513, 'plant': 7090, 'substitute': 9528, 'syntax': 9707, 'draws': 3037, 'inheritance': 4970, 'reattach': 7767, 'deficiency': 2553, 'painful': 6772, 'acceleration': 36, 'navigated': 6278, 'reinstated': 8013, 'observation': 6472, 'cordial': 2224, 'painfully': 6773, 'dram': 3026, 'bones': 1082, 'committing': 1846, 'leaks': 5459, 'inactivate': 4828, 'discontinued': 2854, 'removes': 8115, 'customary': 2403, 'gat': 4184, 'levy': 5522, 'classifier': 1668, 'permits': 6952, 'directories': 2808, 'ratio': 7702, 'exploit': 3625, 'gutted': 4394, 'therein': 9901, 'education': 3152, 'ontario': 6551, 'discourage': 2859, 'publication': 7540, 'inaccuracies': 4826, 'tiers': 9975, 'constituent': 2082, 'pays': 6892, 'reimbursements': 8004, 'lags': 5389, 'prizes': 7380, 'abstract': 25, 'consignment': 2065, 'mitigation': 6103, 'reminding': 8102, 'pulls': 7557, 'merges': 5966, 'complexes': 1915, 'belonged': 940, 'incur': 4892, 'ought': 6655, 'deluxe': 2603, 'woodmen': 10929, 'resumes': 8348, 'wrapped': 10966, 'delimiter': 2592, 'delimiters': 2593, 'graduated': 4309, 'unto': 10474, 'regain': 7961, 'ascertaining': 599, 'seemingly': 8763, 'sheer': 8889, 'reckon': 7806, 'retracing': 8372, 'recovering': 7858, 'identifiable': 4712, 'fate': 3754, 'overhaul': 6694, 'unofficial': 10424, 'chunk': 1616, 'blind': 1035, 'hacker': 4402, 'incompatibility': 4864, 'lowest': 5700, 'inner': 4992, 'propositions': 7495, 'tones': 10044, 'soma': 9135, 'calender': 1341, 'oldest': 6534, 'married': 5845, 'prolongation': 7456, 'grads': 4305, 'dismissed': 2883, 'appendix': 488, 'lengthy': 5501, 'rhino': 8453, 'invariably': 5186, 'urge': 10511, 'guided': 4385, 'nonsense': 6384, 'ignoring': 4733, 'snipping': 9108, 'freshly': 4088, 'closet': 1712, 'malta': 5788, 'disappearing': 2822, 'unbind': 10317, 'rebind': 7770, 'spit': 9253, 'initiation': 4982, 'mastering': 5865, 'cumulated': 2378, 'aspirations': 611, 'veritable': 10616, 'constrains': 2086, 'escalade': 3421, 'africa': 246, 'guessed': 4377, 'colleges': 1782, 'dells': 2601, 'hoe': 4600, 'forsee': 4033, 'extreme': 3680, 'rapidly': 7690, 'tuning': 10244, 'remembers': 8097, 'nasty': 6267, 'hookers': 4630, 'consumable': 2098, 'inters': 5153, 'laserjet': 5409, 'narratives': 6265, 'prepares': 7297, 'transactional': 10115, 'partitioning': 6836, 'revive': 8433, 'intact': 5070, 'bumper': 1263, 'menage': 5947, 'unfilled': 10369, 'assignat': 628, 'dude': 3070, 'pitch': 7058, 'placements': 7073, 'interrogation': 5146, 'scaled': 8648, 'normalized': 6391, 'aggravates': 262, 'orchestration': 6609, 'refuse': 7956, 'precede': 7254, 'constrain': 2084, 'dragged': 3020, 'stairways': 9320, 'drain': 3023, 'zen': 11021, 'skylab': 9045, 'collector': 1778, 'collectors': 1779, 'mama': 5789, 'hops': 4642, 'mechanical': 5917, 'telecommunication': 9805, 'hem': 4528, 'eagle': 3109, 'seller': 8785, 'puzzles': 7591, 'riddles': 8462, 'province': 7527, 'designers': 2681, 'mitigating': 6102, 'taste': 9771, 'administering': 181, 'maternal': 5878, 'reviving': 8434, 'adjusting': 176, 'stills': 9398, 'carrying': 1425, 'rewarding': 8445, 'brightest': 1187, 'deactivation': 2468, 'specter': 9219, 'chord': 1608, 'recharge': 7799, 'fired': 3876, 'abroad': 17, 'infirm': 4945, 'distracting': 2920, 'vatic': 10585, 'oversized': 6721, 'scrap': 8691, 'purge': 7571, 'reappeared': 7750, 'expedition': 3591, 'transporting': 10156, 'phoned': 6998, 'nuisance': 6436, 'utmost': 10544, 'specifying': 9217, 'classes': 1661, 'offending': 6513, 'naturally': 6274, 'contingent': 2126, 'boots': 1105, 'mixes': 6107, 'programmed': 7435, 'probe': 7386, 'aborting': 14, 'increasingly': 4886, 'sketches': 9035, 'subsections': 9519, 'concomitantly': 1976, 'incognito': 4861, 'villa': 10657, 'juts': 5308, 'aud': 711, 'longing': 5660, 'jammed': 5263, 'progresses': 7442, 'manifested': 5804, 'mimicking': 6033, 'unpleasant': 10430, 'frustrations': 4115, 'nub': 6434, 'locker': 5638, 'duplications': 3091, 'relevance': 8054, 'rainy': 7663, 'creatures': 2333, 'drawback': 3031, 'piloted': 7040, 'affirmative': 240, 'emergencies': 3223, 'lev': 5514, 'playground': 7107, 'backlit': 810, 'practitioner': 7244, 'competency': 1887, 'fortune': 4040, 'centralized': 1492, 'smallest': 9082, 'importable': 4794, 'redefine': 7887, 'minima': 6041, 'arm': 569, 'repeats': 8161, 'detects': 2709, 'backdating': 803, 'demanded': 2606, 'visualizations': 10685, 'pinpoint': 7048, 'prayed': 7248, 'inflexible': 4946, 'unworkable': 10483, 'wallpaper': 10738, 'opera': 6564, 'wallpapers': 10739, 'additive': 158, 'screaming': 8695, 'unshielded': 10458, 'projection': 7451, 'spinning': 9247, 'disciple': 2836, 'buddha': 1226, 'threats': 9934, 'reuse': 8395, 'mix': 6104, 'spending': 9236, 'borderline': 1107, 'band': 838, 'coachers': 1730, 'employ': 3238, 'carer': 1413, 'demagnetized': 2604, 'reinvestigate': 8016, 'muscat': 6234, 'conditioning': 1984, 'condensate': 1979, 'questor': 7623, 'mismatch': 6073, 'virtually': 10668, 'homework': 4617, 'undelivered': 10333, 'secluded': 8735, 'colombian': 1787, 'ringing': 8471, 'luxury': 5723, 'lifestyle': 5551, 'supervisory': 9595, 'napkins': 6263, 'vinegar': 10661, 'titled': 10015, 'concluding': 1973, 'phantom': 6989, 'witness': 10912, 'arbitrate': 541, 'clustered': 1726, 'differentiate': 2768, 'flashes': 3913, 'departed': 2626, 'refund': 7951, 'emptied': 3248, 'dials': 2746, 'intelligent': 5084, 'depletion': 2642, 'explore': 3628, 'reposition': 8191, 'blimey': 1034, 'reiterate': 8021, 'swiftly': 9670, 'sniffer': 9104, 'taint': 9731, 'grown': 4367, 'emptying': 3250, 'misses': 6079, 'sift': 8957, 'ripe': 8475, 'finises': 3866, 'registrar': 7981, 'revers': 8409, 'unaware': 10313, 'swear': 9663, 'checklists': 1579, 'interfering': 5126, 'inventoried': 5189, 'manufacture': 5816, 'negotiation': 6311, 'manipulation': 5810, 'reads': 7733, 'paused': 6882, 'satisfy': 8626, 'clipboards': 1697, 'wold': 10919, 'lockable': 5636, 'layered': 5442, 'strongest': 9466, 'drawer': 3032, 'regained': 7962, 'ergonomic': 3409, 'tittles': 10019, 'disassemble': 2829, 'pavlov': 6884, 'irregular': 5222, 'parcel': 6801, 'resubmitted': 8339, 'coster': 2259, 'shiva': 8906, 'diary': 2749, 'asses': 616, 'tightly': 9980, 'opposite': 6583, 'layers': 5443, 'preceded': 7255, 'tanks': 9752, 'peripheral': 6942, 'tidying': 9971, 'resubmission': 8336, 'lira': 5589, 'insists': 5026, 'glossary': 4270, 'externalize': 3669, 'dare': 2443, 'pragmatical': 7245, 'blacklisting': 1020, 'overkill': 6699, 'fees': 3792, 'inquiring': 5006, 'wit': 10900, 'dreams': 3039, 'delaware': 2567, 'technicalities': 9795, 'precautionary': 7252, 'registers': 7980, 'pips': 7057, 'purple': 7574, 'fallow': 3724, 'golfing': 4283, 'solemn': 9122, 'absurd': 26, 'rejecter': 8025, 'mote': 6184, 'nearing': 6286, 'indication': 4911, 'counterparts': 2275, 'conflicts': 2014, 'pound': 7228, 'tear': 9787, 'postscript': 7223, 'bureaucracy': 1272, 'ordeal': 6611, 'reloaded': 8068, 'compressing': 1940, 'eof': 3388, 'reflecting': 7937, 'lacks': 5385, 'unplugged': 10432, 'eros': 3413, 'reseller': 8252, 'increases': 4884, 'merger': 5964, 'displacement': 2889, 'earnable': 3115, 'sponsoring': 9267, 'profitable': 7429, 'elapsed': 3180, 'evaluated': 3465, 'anschluss': 444, 'unintentional': 10389, 'concise': 1969, 'ode': 6511, 'toga': 10024, 'tog': 10023, 'stamp': 9328, 'reacting': 7718, 'dispatching': 2887, 'dockers': 2952, 'instal': 5036, 'miracle': 6057, 'unidirectional': 10382, 'securing': 8754, 'poisoning': 7141, 'death': 2480, 'selectively': 8779, 'distrusts': 2929, 'overflow': 6691, 'overflown': 6693, 'educational': 3153, 'experimenting': 3605, 'fruition': 4109, 'showcased': 8931, 'sizing': 9033, 'unpredicted': 10436, 'fragments': 4062, 'syndicates': 9705, 'plantation': 7091, 'studying': 9485, 'disregarded': 2901, 'cheerful': 1584, 'ruling': 8559, 'chaotic': 1540, 'sea': 8718, 'suit': 9566, 'adapted': 141, 'fridays': 4091, 'debugging': 2489, 'tope': 10054, 'expressway': 3650, 'outdoor': 6667, 'subcategories': 9491, 'implicitly': 4788, 'overlooked': 6707, 'staffs': 9313, 'reproduces': 8206, 'delighting': 2590, 'condenses': 1981, 'supercharge': 9585, 'parkway': 6811, 'richmond': 8458, 'inundated': 5181, 'began': 907, 'wacky': 10723, 'robots': 8497, 'hindered': 4576, 'fills': 3835, 'compose': 1929, 'ironically': 5221, 'dumped': 3079, 'sigh': 8959, 'brazilian': 1160, 'litany': 5602, 'petty': 6987, 'chewed': 1594, 'marginally': 5831, 'hopes': 4638, 'dream': 3038, 'novel': 6428, 'craps': 2311, 'brazil': 1159, 'inexpensive': 4937, 'unclaimed': 10326, 'sequential': 8820, 'summing': 9579, 'formatted': 4022, 'misspell': 6083, 'hater': 4473, 'corning': 2232, 'tub': 10233, 'weekends': 10807, 'inflight': 4947, 'hack': 4400, 'ides': 4721, 'deck': 2507, 'loved': 5693, 'exposes': 3641, 'workers': 10943, 'polymer': 7160, 'snapdragon': 9098, 'surfing': 9623, 'earphones': 3118, 'stereo': 9390, 'consumption': 2104, 'rear': 7753, 'marshmallow': 5848, 'pixels': 7065, 'lens': 5502, 'weighs': 10811, 'grams': 4315, 'accelerometer': 38, 'gyroscope': 4397, 'delhi': 2585, 'arrows': 586, 'andorra': 412, 'witnessed': 10913, 'afterward': 249, 'bags': 826, 'cleanups': 1680, 'lights': 5562, 'wink': 10882, 'impersonate': 4776, 'gut': 4393, 'jaguar': 5260, 'rover': 8544, 'motors': 6195, 'analog': 397, 'russia': 8571, 'unblocking': 10320, 'decimals': 2502, 'simplifying': 8996, 'vesuvius': 10630, 'collapse': 1765, 'alloted': 332, 'aging': 270, 'ageing': 255, 'presences': 7307, 'supervising': 9592, 'retake': 8361, 'prospective': 7502, 'temporal': 9827, 'diligent': 2787, 'lesser': 5505, 'backings': 808, 'guesses': 4378, 'qualification': 7598, 'seniors': 8795, 'prospects': 7503, 'secs': 8744, 'reoccurrence': 8139, 'barley': 851, 'tall': 9745, 'endlessly': 3292, 'resurfaced': 8350, 'glide': 4263, 'stacked': 9308, 'shirts': 8905, 'giveaways': 4250, 'dis': 2813, 'bale': 835, 'terminals': 9846, 'embarrassment': 3217, 'trinities': 10199, 'franc': 4067, 'hurry': 4687, 'orphan': 6643, 'inevitably': 4936, 'borrowing': 1115, 'singleton': 9013, 'fulfillers': 4122, 'adder': 151, 'verbose': 10608, 'scatter': 8661, 'financed': 3851, 'despatched': 2688, 'maggot': 5747, 'parole': 6812, 'flooded': 3938, 'administrations': 187, 'labelled': 5376, 'bergman': 960, 'prefers': 7277, 'combustible': 1811, 'authorities': 734, 'midline': 6008, 'optimum': 6600, 'abnormal': 8, 'happier': 4445, 'colorado': 1790, 'countersignature': 2279, 'subcontract': 9493, 'ignite': 4728, 'demonstrated': 2614, 'dialling': 2743, 'hinges': 4580, 'wobbly': 10916, 'spearing': 9198, 'imaging': 4754, 'welcoming': 10820, 'underpinning': 10344, 'thankful': 9878, 'repassed': 8156, 'proofs': 7481, 'kid': 5338, 'amenities': 382, 'luxembourg': 5722, 'islands': 5230, 'inconsistently': 4872, 'decreases': 2523, 'respondent': 8297, 'snappiness': 9099, 'brave': 1158, 'proprieties': 7497, 'slightest': 9061, 'fixable': 3898, 'nuisances': 6437, 'architectures': 548, 'exchanges': 3528, 'occupier': 6495, 'void': 10699, 'piazza': 7014, 'lighting': 5559, 'touching': 10071, 'mutate': 6238, 'seeded': 8756, 'swarm': 9662, 'gradually': 4307, 'educated': 3151, 'enormously': 3333, 'transmittal': 10147, 'placement': 7072, 'unsettled': 10457, 'loaned': 5617, 'lumina': 5712, 'intentionally': 5095, 'recoverable': 7856, 'paddle': 6763, 'replacements': 8168, 'dodgy': 2963, 'advices': 216, 'comparative': 1870, 'rome': 8516, 'stockholm': 9403, 'taipei': 9732, 'shard': 8874, 'dart': 2447, 'mission': 6081, 'wonders': 10927, 'actuarial': 135, 'torrent': 10061, 'assault': 614, 'acceptation': 43, 'administrating': 185, 'warrants': 10761, 'rollback': 8509, 'recopy': 7845, 'deeply': 2539, 'plural': 7124, 'goldsmith': 4281, 'revisiting': 8432, 'questioned': 7620, 'implicate': 4784, 'panels': 6787, 'resp': 8287, 'mad': 5738, 'retaining': 8359, 'splitter': 9262, 'redistribute': 7896, 'workdays': 10940, 'quarters': 7610, 'mock': 6118, 'integrator': 5080, 'resting': 8320, 'sharable': 8873, 'challenged': 1521, 'evolving': 3498, 'friction': 4089, 'simplified': 8994, 'estates': 3443, 'culture': 2375, 'regenerate': 7970, 'finishing': 3870, 'modest': 6136, 'steady': 9375, 'spartans': 9188, 'migrations': 6018, 'recovers': 7859, 'computations': 1951, 'scalable': 8646, 'enjoys': 3327, 'championships': 1527, 'sums': 9581, 'arrears': 579, 'westminster': 10829, 'spited': 9256, 'mange': 5799, 'lunar': 5714, 'numerate': 6442, 'hedgehog': 4513, 'reporter': 8189, 'bulb': 1250, 'burn': 1276, 'externals': 3672, 'overworking': 6728, 'determinate': 2712, 'eliminated': 3205, 'automatized': 753, 'tomorrows': 10039, 'attests': 699, 'emerging': 3225, 'feeder': 3786, 'superb': 9584, 'yoga': 11005, 'leather': 5469, 'squash': 9297, 'carryover': 1426, 'forfeiture': 4004, 'blinking': 1037, 'restatement': 8315, 'costed': 2258, 'stationery': 9362, 'brigade': 1185, 'overbooked': 6687, 'wasting': 10773, 'triviality': 10207, 'automates': 746, 'formating': 4019, 'activates': 123, 'stall': 9325, 'verbatim': 10606, 'sandpit': 8612, 'reliant': 8060, 'clustering': 1727, 'faithfully': 3715, 'kin': 5345, 'slicker': 9055, 'explored': 3629, 'unplugging': 10433, 'ors': 6645, 'surplus': 9631, 'clamshell': 1649, 'dots': 2987, 'recs': 7870, 'axiom': 795, 'barcelona': 845, 'spain': 9179, 'featured': 3773, 'improvisation': 4820, 'cocktail': 1737, 'complements': 1906, 'collaborating': 1759, 'nagging': 6252, 'oblige': 6468, 'natively': 6272, 'bypasses': 1300, 'urges': 10517, 'avoids': 774, 'umbrellas': 10295, 'jurisdiction': 5301, 'trim': 10197, 'insistently': 5024, 'oblivious': 6470, 'tempering': 9823, 'driving': 3052, 'depleted': 2641, 'restocking': 8322, 'slug': 9079, 'lottery': 5688, 'curses': 2396, 'carded': 1405, 'focussing': 3958, 'detached': 2698, 'mss': 6218, 'reaction': 7719, 'collaborators': 1763, 'pose': 7193, 'talented': 9740, 'balanced': 830, 'competitions': 1889, 'biking': 989, 'nurture': 6446, 'creativity': 2330, 'categorization': 1458, 'barrier': 854, 'automatization': 751, 'importantly': 4797, 'proceeded': 7396, 'latterly': 5426, 'enclosures': 3266, 'culprit': 2372, 'featuring': 3775, 'assessments': 623, 'humans': 4676, 'twenty': 10268, 'empower': 3246, 'marketer': 5836, 'salesperson': 8597, 'scorecard': 8685, 'downloadable': 3002, 'lifelong': 5549, 'attribution': 708, 'sponsorships': 9270, 'considerations': 2061, 'execs': 3544, 'cars': 1427, 'vehicle': 10592, 'fleets': 3924, 'vehicles': 10593, 'squirrel': 9298, 'buggy': 1240, 'randomized': 7680, 'discharge': 2835, 'mummy': 6230, 'lawyer': 5438, 'executions': 3550, 'fragmented': 4061, 'cancelling': 1377, 'audits': 720, 'penes': 6912, 'spike': 9241, 'endive': 3290, 'secrecy': 8740, 'kilobytes': 5344, 'exacta': 3501, 'thee': 9885, 'ownerships': 6742, 'discloses': 2842, 'crude': 2357, 'subcontractor': 9495, 'representation': 8196, 'specially': 9207, 'borders': 1108, 'evenly': 3476, 'surnames': 9629, 'misinterpreted': 6070, 'diffuses': 2775, 'signaler': 8965, 'definitive': 2562, 'lithium': 5605, 'rotating': 8524, 'peak': 6895, 'busted': 1284, 'reiterating': 8022, 'belows': 945, 'revelations': 8407, 'opted': 6587, 'underlined': 10340, 'woks': 10918, 'enhancing': 3322, 'rhythm': 8454, 'initials': 4977, 'thereabouts': 9898, 'reimburse': 8001, 'overwhelming': 6727, 'dianthus': 2747, 'transforming': 10131, 'assignations': 630, 'telephoned': 9808, 'attackers': 681, 'steal': 9376, 'attacker': 680, 'pretend': 7336, 'reconciling': 7832, 'wiring': 10895, 'vt': 10717, 'utilizing': 10543, 'furnished': 4147, 'gears': 4197, 'idem': 4710, 'recursively': 7882, 'insiders': 5019, 'nail': 6253, 'coupled': 2287, 'nearest': 6285, 'bog': 1071, 'wiping': 10890, 'burns': 1279, 'augment': 722, 'adopting': 197, 'augmentation': 723, 'paperwork': 6792, 'signalize': 8967, 'communicates': 1855, 'receptions': 7796, 'aced': 90, 'shortcut': 8919, 'halts': 4412, 'illustrate': 4742, 'bluecoat': 1054, 'inefficiently': 4934, 'surveillance': 9637, 'exhaustion': 3560, 'whish': 10851, 'imagination': 4752, 'bet': 967, 'preserved': 7320, 'convoluted': 2189, 'revalidated': 8399, 'presuming': 7335, 'materialize': 5875, 'leaved': 5471, 'hunch': 4679, 'reassessing': 7761, 'prestigious': 7331, 'sop': 9152, 'zooming': 11035, 'friendship': 4098, 'smoothen': 9091, 'hereto': 4537, 'expediter': 3589, 'theses': 9906, 'blunt': 1057, 'unsuitable': 10467, 'stressful': 9452, 'reps': 8211, 'reclassifying': 7812, 'reclassification': 7808, 'capitalize': 1390, 'intellectual': 5083, 'chairs': 1519, 'unpopulated': 10434, 'owl': 6735, 'boo': 1087, 'boxer': 1139, 'directions': 2803, 'plane': 7080, 'extensively': 3663, 'participates': 6826, 'dust': 3095, 'trash': 10161, 'moms': 6151, 'governed': 4293, 'judgement': 5288, 'teacher': 9781, 'wrapper': 10967, 'lightly': 5560, 'companion': 1868, 'parsing': 6815, 'parsed': 6814, 'incurred': 4893, 'yesterdays': 11001, 'terrible': 9857, 'lie': 5545, 'hay': 4478, 'liaised': 5529, 'tackling': 9719, 'recourse': 7853, 'conformity': 2019, 'tiles': 9983, 'concentrate': 1960, 'cabled': 1308, 'stake': 9322, 'introductory': 5175, 'someplace': 9141, 'discarding': 2834, 'extensible': 3659, 'destinations': 2692, 'limbo': 5571, 'costly': 2261, 'cloverleaf': 1720, 'unarmed': 10306, 'panes': 6788, 'correlate': 2243, 'tweet': 10266, 'techies': 9793, 'beware': 974, 'snippets': 9107, 'bloc': 1039, 'innocent': 4993, 'coped': 2212, 'moral': 6172, 'interpreting': 5144, 'overwriting': 6731, 'overwrites': 6730, 'supplemented': 9599, 'rerun': 8240, 'seeking': 8760, 'unpack': 10426, 'treasure': 10173, 'drains': 3025, 'vigilance': 10655, 'interact': 5097, 'insofar': 5027, 'dictated': 2754, 'reportable': 8187, 'celebrate': 1477, 'performers': 6932, 'deserved': 2674, 'contrary': 2149, 'calculators': 1337, 'changeable': 1533, 'passports': 6855, 'pegasus': 6906, 'tango': 9750, 'fallowed': 3725, 'illustrates': 4744, 'promptitude': 7473, 'stoicism': 9406, 'chancing': 1530, 'improves': 4818, 'excuses': 3542, 'creator': 2331, 'traced': 10084, 'reconciled': 7829, 'treatment': 10178, 'situ': 9024, 'overseas': 6716, 'memo': 5940, 'coopers': 2203, 'apartments': 473, 'credited': 2337, 'supplementation': 9598, 'ripped': 8476, 'connectors': 2041, 'redirection': 7894, 'overruns': 6715, 'collisions': 1785, 'interrupt': 5147, 'pizza': 7066, 'expenditures': 3594, 'trainee': 10108, 'rip': 8474, 'nanoseconds': 6261, 'unloaded': 10413, 'encodings': 3269, 'oriented': 6629, 'polished': 7149, 'recipe': 7803, 'icing': 4701, 'emphasis': 3233, 'replayed': 8173, 'mood': 6170, 'unaccounted': 10300, 'enforces': 3303, 'abbreviations': 3, 'tilt': 9985, 'bath': 878, 'esthetic': 3444, 'encapsulated': 3262, 'yup': 11016, 'sew': 8854, 'modal': 6122, 'asymmetry': 661, 'swamped': 9656, 'lemma': 5498, 'messy': 5978, 'provisions': 7531, 'twill': 10270, 'overlaps': 6702, 'referent': 7920, 'shillings': 8898, 'fist': 3892, 'progressively': 7446, 'perpendicular': 6956, 'misters': 6092, 'supporter': 9609, 'pidgin': 7026, 'compact': 1864, 'telephonic': 9810, 'thoughtfully': 9925, 'albania': 300, 'pint': 7050, 'relaxing': 8046, 'nothings': 6412, 'leakage': 5457, 'leak': 5456, 'scanter': 8657, 'uncharted': 10324, 'roomer': 8519, 'calderon': 1338, 'quests': 7624, 'builded': 1243, 'wandering': 10742, 'gob': 4275, 'advertised': 210, 'overseeing': 6718, 'carps': 1418, 'delicate': 2587, 'safes': 8583, 'inattentive': 4836, 'negligent': 6307, 'afb': 228, 'detach': 2697, 'scratches': 8694, 'assessable': 618, 'misbehaving': 6062, 'yield': 11003, 'funnel': 4144, 'ration': 7703, 'lasses': 5410, 'minuses': 6053, 'inappropriate': 4835, 'elsewhere': 3212, 'unfixed': 10372, 'depicts': 2640, 'quantify': 7604, 'fete': 3805, 'snips': 9109, 'mirrored': 6058, 'injected': 4986, 'elaborate': 3178, 'donations': 2979, 'animated': 421, 'burnt': 1280, 'electronics': 3191, 'smell': 9084, 'inspecting': 5030, 'knocking': 5360, 'melter': 5935, 'decimal': 2501, 'separator': 8815, 'dried': 3041, 'pressers': 7327, 'misread': 6077, 'worlds': 10953, 'undertakings': 10355, 'cashed': 1439, 'researchers': 8247, 'capsicum': 1394, 'couples': 2288, 'dozens': 3013, 'forbidding': 3985, 'intrusive': 5178, 'orwell': 6647, 'basement': 862, 'intake': 5071, 'occupiers': 6496, 'clothing': 1717, 'asbestos': 594, 'planners': 7087, 'abandon': 1, 'demise': 2610, 'spacing': 9178, 'langley': 5397, 'eh': 3173, 'forte': 4034, 'rue': 8554, 'contractually': 2144, 'acknowledgements': 101, 'restrains': 8326, 'acted': 116, 'deactivating': 2467, 'cress': 2339, 'bend': 950, 'lips': 5586, 'depreciate': 2653, 'battle': 883, 'shorten': 8921, 'focussed': 3957, 'milestones': 6024, 'catching': 1455, 'compilation': 1893, 'shoes': 8908, 'interventions': 5161, 'expose': 3639, 'ort': 6646, 'mounts': 6202, 'calenders': 1342, 'collating': 1769, 'viz': 10692, 'erne': 3412, 'atom': 670, 'themes': 9890, 'nota': 6402, 'mesa': 5970, 'gill': 4244, 'transpires': 10152, 'crated': 2317, 'unload': 10412, 'swiped': 9674, 'doest': 2967, 'symmetry': 9688, 'doubles': 2990, 'technique': 9799, 'olla': 6536, 'penal': 6908, 'reconstructed': 7841, 'meaningless': 5905, 'resupply': 8349, 'orion': 6641, 'chasers': 1563, 'iterated': 5251, 'figurate': 3821, 'unbalanced': 10314, 'precision': 7263, 'transmitting': 10149, 'paint': 6776, 'wiggling': 10872, 'accumulator': 84, 'hampering': 4415, 'conditional': 1983, 'enforced': 3301, 'numeric': 6443, 'removable': 8109, 'reversible': 8413, 'patron': 6878, 'kindle': 5349, 'wrongfully': 10977, 'harsh': 4461, 'enlighten': 3329, 'depart': 2625, 'sailing': 8586, 'tactician': 9722, 'rockets': 8503, 'attested': 698, 'takeover': 9736, 'reconstructing': 7842, 'reconstruction': 7843, 'thumbnail': 9952, 'employs': 3245, 'riverbank': 8486, 'swan': 9657, 'redeem': 7886, 'instruments': 5064, 'laws': 5437, 'backward': 818, 'clouding': 1718, 'toners': 10043, 'resoled': 8276, 'trackers': 10090, 'evaluates': 3466, 'madrid': 5743, 'johannesburg': 5274, 'builders': 1245, 'newcastle': 6333, 'rout': 8533, 'misalignment': 6061, 'dx': 3101, 'ho': 4595, 'ergs': 3410, 'italic': 5244, 'hardy': 4455, 'honesty': 4621, 'routinely': 8540, 'sped': 9222, 'mismatching': 6075, 'enrolling': 3343, 'packed': 6758, 'fragile': 4058, 'plants': 7092, 'cumbersome': 2377, 'gram': 4313, 'lopping': 5677, 'endless': 3291, 'reformat': 7940, 'cancellations': 1375, 'titan': 10011, 'giveaway': 4249, 'omitting': 6542, 'admitted': 193, 'discounted': 2857, 'interconnecting': 5113, 'bard': 846, 'texts': 9872, 'alleviate': 321, 'centimeter': 1488, 'fakes': 3718, 'compiles': 1896, 'representations': 8197, 'luminosity': 5713, 'beat': 891, 'expended': 3592, 'disappointing': 2826, 'pivot': 7063, 'volt': 10703, 'blower': 1052, 'duster': 3096, 'ret': 8352, 'bidirectional': 983, 'parenthesis': 6807, 'tradition': 10098, 'ahoy': 282, 'invalidated': 5184, 'booby': 1088, 'hanks': 4440, 'unity': 10395, 'emitted': 3228, 'diversity': 2940, 'preparers': 7296, 'substation': 9527, 'subcontracted': 9494, 'entrapment': 3372, 'movies': 6212, 'voting': 10712, 'gadgets': 4164, 'falconer': 3719, 'optima': 6590, 'retardant': 8362, 'fen': 3798, 'revolve': 8441, 'tweaks': 10265, 'dine': 2791, 'senor': 8796, 'canadians': 1368, 'computation': 1950, 'realistically': 7739, 'col': 1753, 'latches': 5416, 'firmly': 3883, 'ambient': 371, 'obstructions': 6483, 'airflow': 291, 'lit': 5601, 'slogan': 9068, 'droops': 3055, 'smoother': 9092, 'bulky': 1255, 'clumsy': 1724, 'evil': 3493, 'scribbles': 8703, 'conundrum': 2165, 'slavery': 9051, 'citizenship': 1639, 'trafficking': 10101, 'chains': 1516, 'turnover': 10255, 'introduces': 5172, 'practicable': 7238, 'stressed': 9451, 'prescribed': 7304, 'theoretically': 9894, 'injunction': 4990, 'proceedings': 7398, 'geiger': 4200, 'weaknesses': 10793, 'strengths': 9449, 'granularity': 4321, 'departing': 2627, 'handsets': 4432, 'toilet': 10028, 'blacklists': 1021, 'mall': 5787, 'portugal': 7192, 'predictions': 7269, 'exhibitions': 3564, 'audible': 712, 'reparation': 8154, 'paragraphs': 6795, 'coupon': 2289, 'deriving': 2662, 'replenished': 8175, 'showmanship': 8934, 'suspending': 9648, 'contributory': 2159, 'aligning': 314, 'pointers': 7136, 'locating': 5630, 'consecutively': 2050, 'pardon': 6803, 'rebill': 7769, 'distinction': 2914, 'browsed': 1215, 'pleases': 7115, 'splash': 9259, 'cup': 2381, 'distorted': 2918, 'workloads': 10946, 'knowhow': 5362, 'sized': 9031, 'perceptions': 6924, 'incorporating': 4879, 'internships': 5141, 'bow': 1137, 'subs': 9512, 'partake': 6817, 'paged': 6767, 'downgrades': 2999, 'impatient': 4768, 'ascertained': 598, 'aided': 284, 'kindness': 5351, 'trusts': 10226, 'lam': 5391, 'smiling': 9087, 'hanged': 4436, 'madame': 5740, 'restructures': 8334, 'scottish': 8689, 'suspicion': 9650, 'doctors': 2956, 'tit': 10010, 'stems': 9384, 'saxons': 8640, 'demigods': 2609, 'titans': 10013, 'dollars': 2970, 'clover': 1719, 'coo': 2190, 'dieses': 2762, 'simplest': 8992, 'pharmaceutical': 6990, 'japan': 5265, 'economically': 3134, 'patients': 6877, 'tamper': 9747, 'medicinal': 5923, 'counterfeit': 2273, 'drug': 3061, 'bubbling': 1220, 'certes': 1504, 'franks': 4071, 'materially': 5876, 'consecutive': 2049, 'finger': 3860, 'wrongful': 10976, 'justifications': 5305, 'quires': 7635, 'claimant': 1644, 'conversions': 2177, 'accrue': 80, 'momentum': 6150, 'unformatted': 10375, 'spire': 9249, 'repartition': 8155, 'lord': 5678, 'deserve': 2673, 'abused': 29, 'emotions': 3231, 'advocate': 226, 'feels': 3791, 'exposition': 3643, 'hugs': 4674, 'brevity': 1173, 'blackout': 1022, 'appropriated': 520, 'statistical': 9365, 'rectangular': 7871, 'wordplay': 10932, 'diploma': 2796, 'finances': 3852, 'phenomenal': 6993, 'tremendous': 10180, 'exercises': 3557, 'fewer': 3807, 'quo': 7642, 'nee': 6296, 'beeping': 901, 'indicator': 4914, 'installers': 5042, 'scrolled': 8711, 'intercontinental': 5114, 'incase': 4841, 'aquarium': 538, 'heavier': 4508, 'neighbors': 6318, 'groceries': 4355, 'barbican': 844, 'apartment': 472, 'avion': 769, 'positioned': 7197, 'interconnect': 5111, 'niggles': 6349, 'tighten': 9979, 'documenting': 2961, 'clusters': 1728, 'plumbing': 7123, 'fathers': 3756, 'caterers': 1463, 'fortunate': 4038, 'drinks': 3046, 'appetizers': 489, 'dance': 2435, 'dress': 3040, 'casual': 1446, 'terraces': 9856, 'informal': 4954, 'indemnities': 4898, 'memorable': 5941, 'backwards': 819, 'interactively': 5103, 'clarifies': 1653, 'interchangeably': 5108, 'supervised': 9591, 'longish': 5661, 'sayst': 8644, 'associating': 645, 'signer': 8974, 'shred': 8937, 'awhile': 789, 'genetics': 4216, 'farther': 3745, 'boxing': 1141, 'samba': 8602, 'airfare': 290, 'burning': 1277, 'caching': 1315, 'resellers': 8253, 'adoption': 198, 'agnostic': 271, 'debut': 2490, 'chandlers': 1531, 'froze': 4106, 'hourglass': 4660, 'cure': 2386, 'pointless': 7138, 'fixe': 3899, 'nth': 6433, 'insane': 5008, 'horror': 4648, 'hoc': 4597, 'refinements': 7933, 'smoke': 9089, 'friendlier': 4095, 'delicious': 2588, 'sharper': 8883, 'intercom': 5109, 'diffusion': 2776, 'tease': 9790, 'horribly': 4647, 'accessability': 48, 'hunted': 4684, 'clues': 1723, 'emulator': 3254, 'thin': 9910, 'searchable': 8725, 'chunks': 1617, 'bombard': 1077, 'solemnly': 9123, 'exchanging': 3529, 'indoor': 4923, 'rooftop': 8517, 'rental': 8133, 'compositions': 1935, 'imposed': 4803, 'reconciliations': 7831, 'concepts': 1964, 'barrow': 856, 'sweep': 9665, 'leaking': 5458, 'crafted': 2307, 'frees': 4079, 'span': 9180, 'painting': 6777, 'legacies': 5486, 'reunites': 8393, 'scrambled': 8690, 'curve': 2399, 'arrivals': 581, 'hongkong': 4622, 'slipped': 9065, 'formality': 4015, 'effectuate': 3162, 'proposing': 7493, 'discontinue': 2853, 'spoofing': 9271, 'defences': 2548, 'excess': 3525, 'macros': 5736, 'adverts': 214, 'newspapers': 6342, 'television': 9813, 'manipulated': 5809, 'trailer': 10104, 'california': 1348, 'mildly': 6020, 'loaner': 5618, 'dele': 2572, 'reestablished': 7913, 'circular': 1628, 'diagramming': 2736, 'sake': 8590, 'striving': 9463, 'truthful': 10229, 'philippine': 6995, 'mystically': 6249, 'verbiage': 10607, 'buried': 1275, 'disappoint': 2824, 'stalling': 9326, 'promotes': 7465, 'heck': 4511, 'lear': 5460, 'bourns': 1136, 'reworking': 8449, 'onetime': 6548, 'retesting': 8365, 'enlisted': 3331, 'possesses': 7203, 'honored': 4624, 'reloads': 8070, 'encompass': 3270, 'resilience': 8271, 'instantaneously': 5050, 'cooks': 2194, 'certifying': 1511, 'originate': 6635, 'honoured': 4626, 'fabulous': 3687, 'funky': 4143, 'struck': 9468, 'optimistic': 6595, 'shah': 8863, 'biased': 976, 'observers': 6476, 'mentors': 5953, 'payee': 6887, 'payer': 6888, 'adaptation': 140, 'subtotals': 9533, 'meridian': 5968, 'tremendously': 10181, 'rewire': 8447, 'unscreened': 10456, 'bib': 978, 'emulators': 3255, 'codlings': 1744, 'inefficient': 4933, 'inclination': 4851, 'mysteriously': 6247, 'frowned': 4105, 'settle': 8842, 'drill': 3043, 'distinguished': 2917, 'cogent': 1748, 'convergence': 2173, 'transiting': 10134, 'hotline': 4657, 'bullets': 1260, 'massaging': 5859, 'lasted': 5412, 'artifice': 591, 'intersect': 5154, 'pings': 7046, 'annoy': 433, 'sparing': 9185, 'bothersome': 1122, 'defended': 2549, 'slab': 9046, 'tract': 10093, 'reclassifications': 7809, 'cartoon': 1431, 'takeing': 9734, 'refinance': 7929, 'obstructing': 6482, 'cognizant': 1750, 'intuit': 5179, 'unparalleled': 10428, 'enriching': 3340, 'agendas': 258, 'commonplace': 1849, 'projectors': 7453, 'orig': 6630, 'symbols': 9686, 'accountancy': 72, 'generics': 4215, 'rounds': 8532, 'cog': 1747, 'manor': 5814, 'portfolios': 7188, 'ambition': 375, 'nationally': 6269, 'estonia': 3451, 'cantina': 1383, 'maiming': 5762, 'pkg': 7067, 'swivel': 9682, 'cosec': 2255, 'throat': 9939, 'confuses': 2022, 'cranky': 2309, 'hybrids': 4693, 'sliced': 9054, 'unrecoverable': 10447, 'lockup': 5642, 'discretion': 2868, 'rectification': 7872, 'opposition': 6584, 'haste': 4470, 'misinformation': 6068, 'preset': 7322, 'disregarding': 2902, 'bronze': 1209, 'compression': 1941, 'retailer': 8353, 'isolation': 5235, 'centralization': 1490, 'diver': 2938, 'mat': 5867, 'inventor': 5188, 'axe': 793, 'impersonation': 4778, 'barriers': 855, 'chew': 1593, 'gum': 4392, 'bragging': 1148, 'rara': 7691, 'weakness': 10792, 'blues': 1056, 'dragging': 3021, 'centred': 1495, 'apropos': 534, 'squared': 9296, 'bulleting': 1258, 'synchronizes': 9700, 'graphically': 4325, 'conformation': 2018, 'cardholder': 1406, 'withing': 10910, 'remover': 8114, 'terminology': 9853, 'grouping': 4362, 'conduce': 1986, 'plasma': 7093, 'clot': 1716, 'polite': 7150, 'reliability': 8056, 'ermine': 3411, 'acronym': 112, 'losses': 5684, 'titling': 10017, 'realistic': 7738, 'painless': 6774, 'pricy': 7353, 'aspirator': 612, 'memorized': 5944, 'beet': 903, 'disclosures': 2845, 'conus': 2166, 'jungle': 5296, 'entitle': 3366, 'modes': 6135, 'ensured': 3349, 'revoking': 8437, 'curie': 2387, 'evert': 3484, 'spirea': 9250, 'awarded': 780, 'zipping': 11030, 'verity': 10618, 'counterpart': 2274, 'betting': 971, 'reignite': 7999, 'bored': 1109, 'visibly': 10676, 'inaccessibility': 4824, 'allot': 331, 'poi': 7132, 'bene': 952, 'sentences': 8806, 'increment': 4888, 'headroom': 4497, 'redeploy': 7888, 'fads': 3705, 'temples': 9826, 'whereabouts': 10842, 'perk': 6945, 'regulate': 7992, 'highness': 4569, 'muted': 6240, 'sexy': 8855, 'gosh': 4288, 'confess': 1994, 'proudly': 7516, 'equipping': 3402, 'attacked': 679, 'naked': 6255, 'batter': 880, 'forbids': 3986, 'ticketed': 9964, 'inductions': 4926, 'relaying': 8048, 'fragment': 4059, 'federating': 3779, 'reverts': 8418, 'fellas': 3794, 'bundled': 1267, 'negotiator': 6313, 'scoping': 8683, 'poodle': 7165, 'logjam': 5654, 'superseded': 9589, 'directive': 2804, 'impedes': 4771, 'dousing': 2995, 'realization': 7741, 'wear': 10794, 'glasses': 4261, 'prescriptions': 7305, 'diopter': 2794, 'astigmatism': 658, 'rage': 7658, 'struggled': 9475, 'elevating': 3198, 'exuberant': 3682, 'signalized': 8968, 'subliminal': 9503, 'inception': 4843, 'nod': 6363, 'notation': 6404, 'equals': 3395, 'unknowns': 10400, 'divide': 2944, 'renting': 8135, 'schultz': 8677, 'prepayment': 7299, 'irritating': 5228, 'reclassified': 7810, 'machined': 5731, 'firebase': 3875, 'rural': 8568, 'nitro': 6358, 'elevators': 3201, 'summed': 9578, 'flooding': 3939, 'sixth': 9029, 'prohibit': 7447, 'eagerness': 3108, 'elk': 3209, 'festivities': 3801, 'happiness': 4448, 'bestowed': 966, 'surpass': 9630, 'blessed': 1032, 'acquisitions': 109, 'append': 486, 'interpreted': 5143, 'aspiration': 610, 'votes': 10711, 'spanning': 9181, 'hiking': 4571, 'photography': 7003, 'cycling': 2420, 'trilogy': 10196, 'tiring': 10007, 'loudly': 5690, 'misinforming': 6069, 'fasten': 3748, 'dumbs': 3076, 'guidebook': 4384, 'defected': 2545, 'destruction': 2696, 'meltdown': 5934, 'exploits': 3627, 'frost': 4104, 'rales': 7673, 'rails': 7660, 'blink': 1036, 'synchronizer': 9699, 'nervous': 6323, 'basics': 867, 'indexed': 4904, 'escort': 3430, 'fobs': 3954, 'lucent': 5705, 'distant': 2912, 'comprehended': 1936, 'minus': 6052, 'refunds': 7952, 'euphemistically': 3462, 'alleviating': 323, 'mcdonald': 5898, 'decisional': 2505, 'insuring': 5069, 'sequel': 8818, 'bombarded': 1078, 'unleashing': 10403, 'brainstorming': 1150, 'concentrated': 1961, 'reinvigorate': 8017, 'pioneers': 7052, 'ventures': 10600, 'innovations': 4996, 'venturing': 10601, 'hague': 4405, 'chairing': 1518, 'gardening': 4183, 'grapple': 4328, 'tagging': 9725, 'spilling': 9244, 'reimported': 8006, 'tends': 9838, 'diag': 2727, 'sanitization': 8614, 'gait': 4169, 'eyestrain': 3685, 'monitory': 6162, 'tiger': 9977, 'struts': 9477, 'dibble': 2751, 'hart': 4462, 'entangled': 3354, 'wires': 10894, 'unestablished': 10363, 'massages': 5858, 'insisted': 5022, 'guilty': 4390, 'unconfirmed': 10330, 'broadband': 1198, 'weld': 10821, 'hogs': 4602, 'sails': 8587, 'chestier': 1592, 'spooler': 9272, 'drift': 3042, 'intimidating': 5165, 'cordially': 2225, 'dives': 2943, 'mains': 5767, 'glued': 4271, 'duct': 3069, 'revolution': 8438, 'disentangle': 2876, 'unforgiving': 10374, 'withdrawing': 10906, 'establishes': 3441, 'razes': 7707, 'disconnections': 2851, 'reoccurs': 8141, 'amu': 396, 'cigar': 1620, 'kennedy': 5317, 'rival': 8484, 'kiosk': 5354, 'demonstration': 2616, 'logically': 5651, 'unfamiliar': 10368, 'clips': 1698, 'doze': 3011, 'chem': 1588, 'elegant': 3193, 'neap': 6283, 'bate': 876, 'keystone': 5329, 'bra': 1145, 'escalates': 3424, 'postage': 7210, 'taxable': 9775, 'machinery': 5732, 'purifiers': 7573, 'biases': 977, 'judging': 5289, 'chats': 1568, 'rightful': 8466, 'tolls': 10034, 'piecing': 7030, 'fuzz': 4159, 'buttress': 1289, 'sharpness': 8884, 'sharp': 8882, 'pollinate': 7156, 'brake': 1151, 'realizing': 7744, 'modeling': 6125, 'provokes': 7532, 'screwing': 8701, 'concatenate': 1959, 'catalogs': 1449, 'begged': 909, 'resealed': 8246, 'switcher': 9678, 'backdated': 802, 'connecter': 2036, 'scratched': 8693, 'presentable': 7309, 'reformulate': 7941, 'referees': 7916, 'receptacles': 7794, 'housings': 4664, 'clamping': 1648, 'transient': 10132, 'fixtures': 3903, 'sensing': 8800, 'semiconductor': 8788, 'versatile': 10622, 'cypress': 2422, 'leverages': 5519, 'constrained': 2085, 'compensated': 1880, 'thief': 9908, 'river': 8485, 'unobtainable': 10422, 'internality': 5135, 'outlay': 6671, 'stacks': 9310, 'riot': 8473, 'flux': 3950, 'reflux': 7939, 'redux': 7907, 'thrift': 9937, 'johannes': 5273, 'hooks': 4632, 'automatize': 752, 'simulators': 9001, 'inhabitant': 4967, 'capitol': 1392, 'syllabus': 9683, 'contemplated': 2118, 'synergies': 9706, 'sporting': 9276, 'subtask': 9530, 'steam': 9377, 'competition': 1888, 'electron': 3189, 'photon': 7004, 'intersection': 5155, 'apprised': 514, 'scientific': 8679, 'endeavors': 3286, 'gravitational': 4335, 'advancements': 202, 'commercially': 1834, 'advancement': 201, 'solar': 9118, 'automobiles': 754, 'decade': 2492, 'reconsider': 7840, 'cultivating': 2373, 'gibraltar': 4238, 'keypad': 5326, 'serous': 8827, 'concentrator': 1962, 'byte': 1301, 'pres': 7303, 'hared': 4456, 'teardown': 9788, 'inset': 5016, 'padlocks': 6765, 'rocket': 8502, 'familiarize': 3733, 'trained': 10107, 'diurnal': 2935, 'unlink': 10409, 'requisitioned': 8234, 'actualize': 133, 'fob': 3953, 'localized': 5625, 'traces': 10085, 'frau': 4072, 'frankfurter': 4069, 'seine': 8772, 'antwerp': 459, 'thereto': 9903, 'externalization': 3668, 'integral': 5073, 'conventional': 2170, 'flowers': 3943, 'retrieves': 8378, 'animations': 423, 'accelerates': 35, 'excerpts': 3524, 'lunched': 5716, 'cupboards': 2383, 'deprecated': 2652, 'caption': 1395, 'entires': 3363, 'uncertain': 10321, 'interpret': 5142, 'bookstore': 1098, 'spinner': 9246, 'humor': 4678, 'optimism': 6594, 'uninterested': 10390, 'vast': 10583, 'admire': 190, 'congratulate': 2028, 'cares': 1414, 'angry': 417, 'letterhead': 5511, 'silicone': 8983, 'tapestry': 9756, 'needlepoint': 6301, 'handmade': 4428, 'troika': 10208, 'horses': 4651, 'gallop': 4173, 'swans': 9658, 'lodge': 5644, 'fibber': 3808, 'dormant': 2985, 'tomb': 10035, 'recessed': 7798, 'dune': 3081, 'zion': 11026, 'attributions': 709, 'envelopes': 3380, 'merchandise': 5956, 'localization': 5624, 'sublime': 9502, 'ache': 92, 'unfair': 10367, 'champs': 1528, 'circa': 1623, 'inventions': 5187, 'memoranda': 5942, 'threatened': 9933, 'stoppage': 9412, 'bargaining': 849, 'severance': 8849, 'annuity': 437, 'disability': 2814, 'insured': 5067, 'funded': 4141, 'retiree': 8369, 'indemnification': 4897, 'extenders': 3655, 'brow': 1213, 'sharif': 8880, 'earphone': 3117, 'hallway': 4409, 'shady': 8861, 'brining': 1193, 'coordinators': 2209, 'trapping': 10160, 'deflate': 2563, 'backspace': 815, 'speedup': 9228, 'crawled': 2319, 'publicity': 7542, 'retirements': 8371, 'rundown': 8562, 'bassi': 871, 'collects': 1780, 'analytically': 404, 'promising': 7462, 'volunteering': 10708, 'degradation': 2564, 'proves': 7520, 'restrictive': 8332, 'viewpoint': 10653, 'autonomy': 755, 'guiding': 4389, 'prefixes': 7279, 'spectrum': 9221, 'inquires': 5004, 'neutral': 6329, 'hampers': 4416, 'envisage': 3384, 'backfill': 805, 'vicinity': 10637, 'byes': 1297, 'logistically': 5652, 'dubbed': 3065, 'dip': 2795, 'denomination': 2622, 'metered': 5982, 'burglars': 1273, 'fuses': 4152, 'egret': 3172, 'scotch': 8687, 'yoke': 11006, 'wha': 10830, 'rally': 7674, 'immensely': 4761, 'leases': 5467, 'neatly': 6288, 'obtains': 6488, 'flaky': 3908, 'pasts': 6863, 'hush': 4691, 'legislative': 5493, 'bolts': 1076, 'kicked': 5334, 'disconnection': 2850, 'hors': 4649, 'mater': 5873, 'stipulated': 9400, 'tailoring': 9730, 'appreciating': 511, 'correctness': 2242, 'born': 1111, 'correspondingly': 2249, 'speech': 9223, 'financing': 3853, 'differentiated': 2769, 'grabbed': 4297, 'unhelpful': 10379, 'refining': 7934, 'trustworthy': 10227, 'superlatives': 9587, 'calif': 1347, 'spearheads': 9197, 'spearheading': 9196, 'conglomerate': 2027, 'believing': 935, 'vacated': 10549, 'setback': 8838, 'selections': 8778, 'closeout': 1708, 'indulgent': 4927, 'inspiration': 5032, 'thy': 9958, 'publicizing': 7543, 'strained': 9428, 'transcribe': 10119, 'bop': 1106, 'tying': 10276, 'loggings': 5648, 'jumped': 5294, 'medic': 5922, 'phrases': 7007, 'illustrated': 4743, 'ratification': 7700, 'presumed': 7334, 'unrecorded': 10446, 'resigns': 8270, 'gays': 4194, 'unsatisfactory': 10454, 'breakup': 1171, 'playbooks': 7103, 'puppet': 7566, 'recipes': 7804, 'octopus': 6507, 'thumbnails': 9953, 'filenames': 3828, 'emphasize': 3234, 'varieties': 10577, 'storying': 9424, 'bello': 936, 'buddies': 1227, 'publications': 7541, 'appending': 487, 'divided': 2945, 'shrinking': 8942, 'bum': 1261, 'aptitude': 536, 'windscreen': 10879, 'feasibility': 3770, 'invested': 5194, 'spacer': 9176, 'cheetah': 1586, 'booklet': 1093, 'booklets': 1094, 'graphical': 4324, 'conscious': 2047, 'cadence': 1319, 'gaols': 4178, 'restating': 8316, 'rework': 8448, 'pith': 7060, 'embarking': 3215, 'unifying': 10386, 'pithy': 7061, 'conveys': 2185, 'elms': 3211, 'readjustment': 7732, 'ibis': 4697, 'grading': 4304, 'rolls': 8513, 'spiders': 9240, 'teasing': 9791, 'horizontally': 4645, 'stabilizing': 9305, 'optimized': 6598, 'warmly': 10753, 'felts': 3796, 'circumstance': 1633, 'badged': 822, 'infernal': 4941, 'ark': 568, 'eateries': 3129, 'epiphany': 3392, 'maundy': 5888, 'ascension': 596, 'corpus': 2234, 'sacred': 8575, 'saint': 8588, 'declaration': 2508, 'independence': 4900, 'race': 7651, 'saints': 8589, 'immaculate': 4758, 'flawed': 3919, 'mistaking': 6090, 'shepherd': 8893, 'flavour': 3916, 'unwell': 10482, 'reconnected': 7837, 'whistling': 10852, 'footsteps': 3982, 'toilets': 10029, 'pooling': 7167, 'piled': 7035, 'commuter': 1862, 'injector': 4988, 'senses': 8798, 'raking': 7672, 'armour': 571, 'tart': 9767, 'structuring': 9473, 'murex': 6232, 'oracles': 6606, 'verifications': 10612, 'decently': 2498, 'pertains': 6980, 'handwrite': 4433, 'handwritten': 4434, 'idiot': 4722, 'portion': 7189, 'urging': 10518, 'flawless': 3920, 'modulus': 6145, 'exponent': 3633, 'sapphire': 8619, 'cumulus': 2380, 'sanction': 8609, 'thankfully': 9879, 'blacked': 1017, 'fbi': 3768, 'criminal': 2343, 'remit': 8103, 'arguably': 559, 'compress': 1938, 'boa': 1062, 'clearance': 1682, 'broach': 1196, 'overpass': 6711, 'reorganizing': 8147, 'veer': 10590, 'persona': 6966, 'marital': 5833, 'facilitates': 3693, 'morn': 6177, 'decathlon': 2495, 'encompasses': 3271, 'lateral': 5421, 'frontal': 4101, 'unsophisticated': 10461, 'aesthetic': 227, 'cater': 1462, 'norms': 6393, 'kinder': 5347, 'smiles': 9086, 'innovating': 4995, 'perceived': 6919, 'anniversaries': 425, 'loyal': 5701, 'hardworking': 4454, 'caring': 1415, 'critically': 2350, 'wellness': 10824, 'accidental': 58, 'lifestyles': 5552, 'burnout': 1278, 'reentry': 7911, 'spas': 9189, 'differential': 2767, 'relax': 8044, 'mornings': 6179, 'fuel': 4116, 'motivates': 6189, 'practicing': 7243, 'illustrations': 4747, 'duffy': 3072, 'externalized': 3670, 'goofed': 4287, 'dismantling': 2881, 'depicting': 2639, 'cooperate': 2201, 'overheating': 6697, 'orchestrator': 6610, 'vanishing': 10568, 'demons': 2612, 'notifier': 6420, 'winery': 10880, 'presenters': 7314, 'braking': 1152, 'breath': 1172, 'adapting': 144, 'relentlessly': 8053, 'openness': 6562, 'patent': 6869, 'truncated': 10221, 'aluminum': 366, 'posters': 7214, 'thumb': 9951, 'perception': 6923, 'triage': 10184, 'begum': 915, 'victory': 10641, 'biggies': 988, 'affords': 242, 'freeing': 4077, 'ens': 3347, 'ding': 2792, 'acceptances': 42, 'mercurial': 5959, 'aligns': 316, 'anomaly': 441, 'moths': 6186, 'classical': 1663, 'embed': 3218, 'oval': 6684, 'shaped': 8871, 'refilled': 7928, 'curtain': 2398, 'morales': 6174, 'replacer': 8169, 'poke': 7142, 'politicos': 7153, 'shortening': 8922, 'reintroduce': 8014, 'anticipated': 456, 'quire': 7634, 'sampling': 8606, 'intensely': 5089, 'subversion': 9536, 'refrain': 7942, 'skew': 9036, 'distinctions': 2915, 'imagining': 4755, 'noting': 6423, 'mighty': 6013, 'infested': 4942, 'streamlining': 9443, 'cardboard': 1404, 'abo': 10, 'yields': 11004, 'instr': 5055, 'backlist': 809, 'pregnancy': 7281, 'entrepreneurship': 3374, 'supervise': 9590, 'contestants': 2123, 'decapsulate': 2494, 'regrading': 7985, 'distressing': 2921, 'britain': 1195, 'lanyards': 5400, 'relied': 8061, 'tidied': 9969, 'lifted': 5555, 'holes': 4608, 'hazard': 4480, 'intruder': 5176, 'unoccupied': 10423, 'mislaid': 6071, 'shafts': 8862, 'cabinets': 1306, 'observing': 6477, 'tailgating': 9728, 'wearing': 10795, 'surfers': 9622, 'kitchens': 5356, 'shredding': 8940, 'shredder': 8939, 'lying': 5724, 'drawers': 3033, 'ample': 393, 'disseminate': 2908, 'analyzes': 408, 'rubbish': 8551, 'arf': 558, 'prudent': 7536, 'specialize': 9204, 'guarantees': 4373, 'specialty': 9208, 'packaged': 6755, 'accompanied': 63, 'attaches': 675, 'trims': 10198, 'seeding': 8757, 'keystrokes': 5330, 'vivid': 10691, 'numerical': 6444, 'chemicals': 1589, 'prediction': 7268, 'maximizing': 5892, 'inefficiencies': 4932, 'optimizing': 6599, 'centered': 1486, 'coping': 2217, 'bloody': 1049, 'ethical': 3457, 'political': 7152, 'tensions': 9842, 'considers': 2064, 'negotiations': 6312, 'discusses': 2872, 'economic': 3133, 'oversees': 6719, 'sri': 9300, 'moans': 6112, 'superior': 9586, 'surger': 9625, 'storms': 9422, 'earthquakes': 3120, 'resemble': 8254, 'nix': 6359, 'emulation': 3253, 'minimizing': 6045, 'methodologies': 5985, 'ware': 10750, 'expedited': 3588, 'emu': 3252, 'apt': 535, 'partied': 6832, 'tilted': 9986, 'produces': 7412, 'stiffness': 9396, 'unnoticeable': 10421, 'enrich': 3339, 'discoverable': 2862, 'catches': 1454, 'lima': 5570, 'quito': 7638, 'hyphen': 4696, 'irreversible': 5226, 'licensee': 5540, 'contrasting': 2151, 'defines': 2556, 'preparatory': 7292, 'orderly': 6615, 'enrols': 3346, 'counselling': 2268, 'appraisal': 508, 'earn': 3114, 'simulated': 8998, 'bilingual': 991, 'proofing': 7480, 'thigh': 9909, 'sanity': 8616, 'reapply': 7751, 'extends': 3658, 'understands': 10350, 'perseverance': 6958, 'tact': 9720, 'waterfall': 10779, 'blown': 1053, 'futuristic': 4157, 'eliminating': 3206, 'streamlined': 9442, 'stockroom': 9404, 'mktg': 6109, 'formalizing': 4016, 'mayo': 5895, 'toggle': 10026, 'vats': 10586, 'boarded': 1064, 'fractured': 4057, 'steed': 9378, 'scotia': 8688, 'berlin': 961, 'surmised': 9627, 'donated': 2977, 'briefed': 1182, 'recreation': 7864, 'resultant': 8342, 'holland': 4611, 'diagnosed': 2729, 'rested': 8318, 'enumerate': 3377, 'emit': 3227, 'familia': 3731, 'sophisticated': 9153, 'bel': 926, 'bach': 799, 'angled': 415, 'insure': 5066, 'enrolment': 3345, 'planer': 7082, 'curved': 2400, 'discrete': 2867, 'diva': 2936, 'taupe': 9773, 'beige': 924, 'biddy': 982, 'cognac': 1749, 'indigo': 4917, 'illegible': 4739, 'bucks': 1224, 'satisfying': 8627, 'maintainability': 5770, 'talks': 9744, 'testimonial': 9866, 'progressions': 7445, 'relocations': 8075, 'restful': 8319, 'groovy': 4357, 'transitory': 10137, 'rejects': 8029, 'bricked': 1176, 'imaginable': 4751, 'gesture': 4233, 'requesters': 8221, 'ambiguities': 372, 'escorted': 3431, 'innovator': 4998, 'specializing': 9206, 'calibration': 1346, 'calibrating': 1345, 'cheapest': 1572, 'stairs': 9319, 'ancient': 410, 'dug': 3073, 'fascias': 3746, 'evolutions': 3495, 'impress': 4806, 'agriculture': 278, 'retailing': 8355, 'exhibiting': 3562, 'confluent': 2016, 'permutation': 6955, 'bonos': 1084, 'launches': 5433, 'complying': 1925, 'barker': 850, 'absurdly': 27, 'looms': 5669, 'recuperation': 7875, 'jams': 5264, 'unzip': 10484, 'rough': 8528, 'decipher': 2503, 'untouched': 10475, 'stir': 9401, 'parti': 6819, 'wang': 10743, 'ally': 341, 'helpfully': 4524, 'embraced': 3221, 'emphasizes': 3235, 'forming': 4028, 'saluted': 8600, 'sociable': 9112, 'fondly': 3975, 'emerged': 3222, 'decoded': 2514, 'halt': 4410, 'conquering': 2044, 'irrigation': 5227, 'sidetracked': 8956, 'conquer': 2043, 'rudimentary': 8553, 'contradicting': 2145, 'pate': 6868, 'twofold': 10274, 'hardening': 4450, 'interlocutor': 5129, 'bypassed': 1299, 'disturbs': 2933, 'suppler': 9601, 'yeas': 10996, 'flier': 3931, 'reactive': 7724, 'groundless': 4360, 'trawling': 10169, 'unexplained': 10366, 'proforma': 7431, 'suffices': 9556, 'titanium': 10012, 'untidy': 10471, 'rucksack': 8552, 'inactivating': 4830, 'arias': 563, 'seasoned': 8729, 'solidify': 9127, 'generations': 4212, 'astonishing': 659, 'portland': 7190, 'pushy': 7585, 'allotted': 334, 'scrip': 8705, 'machete': 5729, 'recreating': 7863}\n"
          ]
        }
      ]
    },
    {
      "cell_type": "code",
      "source": [
        "# Encode the Document\n",
        "# transform training data into a 'document-term matrix'\n",
        "X_train_cv = count_vectorizer.transform(X_train)\n",
        "# Summarizing the Encoded Texts\n",
        "print(\"Encoded Document is:\")\n",
        "print(X_train_cv.toarray())"
      ],
      "metadata": {
        "colab": {
          "base_uri": "https://localhost:8080/"
        },
        "id": "QONyh_9-6LIo",
        "outputId": "b1441585-52a2-4d5e-ad19-da2809ec6edd"
      },
      "execution_count": 12,
      "outputs": [
        {
          "output_type": "stream",
          "name": "stdout",
          "text": [
            "Encoded Document is:\n",
            "[[0 0 0 ... 0 0 0]\n",
            " [0 0 0 ... 0 0 0]\n",
            " [0 0 0 ... 0 0 0]\n",
            " ...\n",
            " [0 0 0 ... 0 0 0]\n",
            " [0 0 0 ... 0 0 0]\n",
            " [0 0 0 ... 0 0 0]]\n"
          ]
        }
      ]
    },
    {
      "cell_type": "code",
      "source": [
        "# fit_transform together\n",
        "X_train_cv = count_vectorizer.fit_transform(X_train)\n",
        "print(\"n_samples: %d, n_features: %d\" % X_train_cv.shape)"
      ],
      "metadata": {
        "colab": {
          "base_uri": "https://localhost:8080/"
        },
        "id": "-ngoZouk6E0C",
        "outputId": "2865668d-3a98-40f3-f096-13bf0509bea7"
      },
      "execution_count": 13,
      "outputs": [
        {
          "output_type": "stream",
          "name": "stdout",
          "text": [
            "n_samples: 33984, n_features: 11036\n"
          ]
        }
      ]
    },
    {
      "cell_type": "code",
      "source": [
        "X_train_cv = np.array(X_train_cv.todense())\n",
        "X_train_cv"
      ],
      "metadata": {
        "colab": {
          "base_uri": "https://localhost:8080/"
        },
        "id": "UwVCtcWqDROr",
        "outputId": "d319f490-272b-4042-e9f2-e16c49859856"
      },
      "execution_count": 14,
      "outputs": [
        {
          "output_type": "execute_result",
          "data": {
            "text/plain": [
              "array([[0, 0, 0, ..., 0, 0, 0],\n",
              "       [0, 0, 0, ..., 0, 0, 0],\n",
              "       [0, 0, 0, ..., 0, 0, 0],\n",
              "       ...,\n",
              "       [0, 0, 0, ..., 0, 0, 0],\n",
              "       [0, 0, 0, ..., 0, 0, 0],\n",
              "       [0, 0, 0, ..., 0, 0, 0]])"
            ]
          },
          "metadata": {},
          "execution_count": 14
        }
      ]
    },
    {
      "cell_type": "code",
      "source": [
        "# examine the vocabulary and document-term matrix together\n",
        "# pd.DataFrame(matrix, columns=columns)\n",
        "pd.DataFrame(X_train_cv, columns=count_vectorizer.get_feature_names())"
      ],
      "metadata": {
        "colab": {
          "base_uri": "https://localhost:8080/",
          "height": 524
        },
        "id": "63r70-ze_ju_",
        "outputId": "064573b6-b4ec-4719-e37e-43a8add54ed4"
      },
      "execution_count": 15,
      "outputs": [
        {
          "output_type": "stream",
          "name": "stderr",
          "text": [
            "/usr/local/lib/python3.8/dist-packages/sklearn/utils/deprecation.py:87: FutureWarning: Function get_feature_names is deprecated; get_feature_names is deprecated in 1.0 and will be removed in 1.2. Please use get_feature_names_out instead.\n",
            "  warnings.warn(msg, category=FutureWarning)\n"
          ]
        },
        {
          "output_type": "execute_result",
          "data": {
            "text/plain": [
              "       ab  abandon  abandoned  abbreviations  abc  abilities  ability  able  \\\n",
              "0       0        0          0              0    0          0        0     0   \n",
              "1       0        0          0              0    0          0        0     0   \n",
              "2       0        0          0              0    0          0        0     0   \n",
              "3       0        0          0              0    0          0        0     0   \n",
              "4       0        0          0              0    0          0        0     0   \n",
              "...    ..      ...        ...            ...  ...        ...      ...   ...   \n",
              "33979   0        0          0              0    0          0        0     0   \n",
              "33980   0        0          0              0    0          0        0     0   \n",
              "33981   0        0          0              0    0          0        0     0   \n",
              "33982   0        0          0              0    0          0        0     0   \n",
              "33983   0        0          0              0    0          0        0     0   \n",
              "\n",
              "       abnormal  abnormally  ...  zion  zip  zipped  zipper  zipping  zn  \\\n",
              "0             0           0  ...     0    0       0       0        0   0   \n",
              "1             0           0  ...     0    0       0       0        0   0   \n",
              "2             0           0  ...     0    0       0       0        0   0   \n",
              "3             0           0  ...     0    0       0       0        0   0   \n",
              "4             0           0  ...     0    0       0       0        0   0   \n",
              "...         ...         ...  ...   ...  ...     ...     ...      ...  ..   \n",
              "33979         0           0  ...     0    0       0       0        0   0   \n",
              "33980         0           0  ...     0    0       0       0        0   0   \n",
              "33981         0           0  ...     0    0       0       0        0   0   \n",
              "33982         0           0  ...     0    0       0       0        0   0   \n",
              "33983         0           0  ...     0    0       0       0        0   0   \n",
              "\n",
              "       zone  zones  zoom  zooming  \n",
              "0         0      0     0        0  \n",
              "1         0      0     0        0  \n",
              "2         0      0     0        0  \n",
              "3         0      0     0        0  \n",
              "4         0      0     0        0  \n",
              "...     ...    ...   ...      ...  \n",
              "33979     0      0     0        0  \n",
              "33980     0      0     0        0  \n",
              "33981     0      0     0        0  \n",
              "33982     0      0     0        0  \n",
              "33983     0      0     0        0  \n",
              "\n",
              "[33984 rows x 11036 columns]"
            ],
            "text/html": [
              "\n",
              "  <div id=\"df-a0daf4e5-0f13-408c-89d6-36d233150317\">\n",
              "    <div class=\"colab-df-container\">\n",
              "      <div>\n",
              "<style scoped>\n",
              "    .dataframe tbody tr th:only-of-type {\n",
              "        vertical-align: middle;\n",
              "    }\n",
              "\n",
              "    .dataframe tbody tr th {\n",
              "        vertical-align: top;\n",
              "    }\n",
              "\n",
              "    .dataframe thead th {\n",
              "        text-align: right;\n",
              "    }\n",
              "</style>\n",
              "<table border=\"1\" class=\"dataframe\">\n",
              "  <thead>\n",
              "    <tr style=\"text-align: right;\">\n",
              "      <th></th>\n",
              "      <th>ab</th>\n",
              "      <th>abandon</th>\n",
              "      <th>abandoned</th>\n",
              "      <th>abbreviations</th>\n",
              "      <th>abc</th>\n",
              "      <th>abilities</th>\n",
              "      <th>ability</th>\n",
              "      <th>able</th>\n",
              "      <th>abnormal</th>\n",
              "      <th>abnormally</th>\n",
              "      <th>...</th>\n",
              "      <th>zion</th>\n",
              "      <th>zip</th>\n",
              "      <th>zipped</th>\n",
              "      <th>zipper</th>\n",
              "      <th>zipping</th>\n",
              "      <th>zn</th>\n",
              "      <th>zone</th>\n",
              "      <th>zones</th>\n",
              "      <th>zoom</th>\n",
              "      <th>zooming</th>\n",
              "    </tr>\n",
              "  </thead>\n",
              "  <tbody>\n",
              "    <tr>\n",
              "      <th>0</th>\n",
              "      <td>0</td>\n",
              "      <td>0</td>\n",
              "      <td>0</td>\n",
              "      <td>0</td>\n",
              "      <td>0</td>\n",
              "      <td>0</td>\n",
              "      <td>0</td>\n",
              "      <td>0</td>\n",
              "      <td>0</td>\n",
              "      <td>0</td>\n",
              "      <td>...</td>\n",
              "      <td>0</td>\n",
              "      <td>0</td>\n",
              "      <td>0</td>\n",
              "      <td>0</td>\n",
              "      <td>0</td>\n",
              "      <td>0</td>\n",
              "      <td>0</td>\n",
              "      <td>0</td>\n",
              "      <td>0</td>\n",
              "      <td>0</td>\n",
              "    </tr>\n",
              "    <tr>\n",
              "      <th>1</th>\n",
              "      <td>0</td>\n",
              "      <td>0</td>\n",
              "      <td>0</td>\n",
              "      <td>0</td>\n",
              "      <td>0</td>\n",
              "      <td>0</td>\n",
              "      <td>0</td>\n",
              "      <td>0</td>\n",
              "      <td>0</td>\n",
              "      <td>0</td>\n",
              "      <td>...</td>\n",
              "      <td>0</td>\n",
              "      <td>0</td>\n",
              "      <td>0</td>\n",
              "      <td>0</td>\n",
              "      <td>0</td>\n",
              "      <td>0</td>\n",
              "      <td>0</td>\n",
              "      <td>0</td>\n",
              "      <td>0</td>\n",
              "      <td>0</td>\n",
              "    </tr>\n",
              "    <tr>\n",
              "      <th>2</th>\n",
              "      <td>0</td>\n",
              "      <td>0</td>\n",
              "      <td>0</td>\n",
              "      <td>0</td>\n",
              "      <td>0</td>\n",
              "      <td>0</td>\n",
              "      <td>0</td>\n",
              "      <td>0</td>\n",
              "      <td>0</td>\n",
              "      <td>0</td>\n",
              "      <td>...</td>\n",
              "      <td>0</td>\n",
              "      <td>0</td>\n",
              "      <td>0</td>\n",
              "      <td>0</td>\n",
              "      <td>0</td>\n",
              "      <td>0</td>\n",
              "      <td>0</td>\n",
              "      <td>0</td>\n",
              "      <td>0</td>\n",
              "      <td>0</td>\n",
              "    </tr>\n",
              "    <tr>\n",
              "      <th>3</th>\n",
              "      <td>0</td>\n",
              "      <td>0</td>\n",
              "      <td>0</td>\n",
              "      <td>0</td>\n",
              "      <td>0</td>\n",
              "      <td>0</td>\n",
              "      <td>0</td>\n",
              "      <td>0</td>\n",
              "      <td>0</td>\n",
              "      <td>0</td>\n",
              "      <td>...</td>\n",
              "      <td>0</td>\n",
              "      <td>0</td>\n",
              "      <td>0</td>\n",
              "      <td>0</td>\n",
              "      <td>0</td>\n",
              "      <td>0</td>\n",
              "      <td>0</td>\n",
              "      <td>0</td>\n",
              "      <td>0</td>\n",
              "      <td>0</td>\n",
              "    </tr>\n",
              "    <tr>\n",
              "      <th>4</th>\n",
              "      <td>0</td>\n",
              "      <td>0</td>\n",
              "      <td>0</td>\n",
              "      <td>0</td>\n",
              "      <td>0</td>\n",
              "      <td>0</td>\n",
              "      <td>0</td>\n",
              "      <td>0</td>\n",
              "      <td>0</td>\n",
              "      <td>0</td>\n",
              "      <td>...</td>\n",
              "      <td>0</td>\n",
              "      <td>0</td>\n",
              "      <td>0</td>\n",
              "      <td>0</td>\n",
              "      <td>0</td>\n",
              "      <td>0</td>\n",
              "      <td>0</td>\n",
              "      <td>0</td>\n",
              "      <td>0</td>\n",
              "      <td>0</td>\n",
              "    </tr>\n",
              "    <tr>\n",
              "      <th>...</th>\n",
              "      <td>...</td>\n",
              "      <td>...</td>\n",
              "      <td>...</td>\n",
              "      <td>...</td>\n",
              "      <td>...</td>\n",
              "      <td>...</td>\n",
              "      <td>...</td>\n",
              "      <td>...</td>\n",
              "      <td>...</td>\n",
              "      <td>...</td>\n",
              "      <td>...</td>\n",
              "      <td>...</td>\n",
              "      <td>...</td>\n",
              "      <td>...</td>\n",
              "      <td>...</td>\n",
              "      <td>...</td>\n",
              "      <td>...</td>\n",
              "      <td>...</td>\n",
              "      <td>...</td>\n",
              "      <td>...</td>\n",
              "      <td>...</td>\n",
              "    </tr>\n",
              "    <tr>\n",
              "      <th>33979</th>\n",
              "      <td>0</td>\n",
              "      <td>0</td>\n",
              "      <td>0</td>\n",
              "      <td>0</td>\n",
              "      <td>0</td>\n",
              "      <td>0</td>\n",
              "      <td>0</td>\n",
              "      <td>0</td>\n",
              "      <td>0</td>\n",
              "      <td>0</td>\n",
              "      <td>...</td>\n",
              "      <td>0</td>\n",
              "      <td>0</td>\n",
              "      <td>0</td>\n",
              "      <td>0</td>\n",
              "      <td>0</td>\n",
              "      <td>0</td>\n",
              "      <td>0</td>\n",
              "      <td>0</td>\n",
              "      <td>0</td>\n",
              "      <td>0</td>\n",
              "    </tr>\n",
              "    <tr>\n",
              "      <th>33980</th>\n",
              "      <td>0</td>\n",
              "      <td>0</td>\n",
              "      <td>0</td>\n",
              "      <td>0</td>\n",
              "      <td>0</td>\n",
              "      <td>0</td>\n",
              "      <td>0</td>\n",
              "      <td>0</td>\n",
              "      <td>0</td>\n",
              "      <td>0</td>\n",
              "      <td>...</td>\n",
              "      <td>0</td>\n",
              "      <td>0</td>\n",
              "      <td>0</td>\n",
              "      <td>0</td>\n",
              "      <td>0</td>\n",
              "      <td>0</td>\n",
              "      <td>0</td>\n",
              "      <td>0</td>\n",
              "      <td>0</td>\n",
              "      <td>0</td>\n",
              "    </tr>\n",
              "    <tr>\n",
              "      <th>33981</th>\n",
              "      <td>0</td>\n",
              "      <td>0</td>\n",
              "      <td>0</td>\n",
              "      <td>0</td>\n",
              "      <td>0</td>\n",
              "      <td>0</td>\n",
              "      <td>0</td>\n",
              "      <td>0</td>\n",
              "      <td>0</td>\n",
              "      <td>0</td>\n",
              "      <td>...</td>\n",
              "      <td>0</td>\n",
              "      <td>0</td>\n",
              "      <td>0</td>\n",
              "      <td>0</td>\n",
              "      <td>0</td>\n",
              "      <td>0</td>\n",
              "      <td>0</td>\n",
              "      <td>0</td>\n",
              "      <td>0</td>\n",
              "      <td>0</td>\n",
              "    </tr>\n",
              "    <tr>\n",
              "      <th>33982</th>\n",
              "      <td>0</td>\n",
              "      <td>0</td>\n",
              "      <td>0</td>\n",
              "      <td>0</td>\n",
              "      <td>0</td>\n",
              "      <td>0</td>\n",
              "      <td>0</td>\n",
              "      <td>0</td>\n",
              "      <td>0</td>\n",
              "      <td>0</td>\n",
              "      <td>...</td>\n",
              "      <td>0</td>\n",
              "      <td>0</td>\n",
              "      <td>0</td>\n",
              "      <td>0</td>\n",
              "      <td>0</td>\n",
              "      <td>0</td>\n",
              "      <td>0</td>\n",
              "      <td>0</td>\n",
              "      <td>0</td>\n",
              "      <td>0</td>\n",
              "    </tr>\n",
              "    <tr>\n",
              "      <th>33983</th>\n",
              "      <td>0</td>\n",
              "      <td>0</td>\n",
              "      <td>0</td>\n",
              "      <td>0</td>\n",
              "      <td>0</td>\n",
              "      <td>0</td>\n",
              "      <td>0</td>\n",
              "      <td>0</td>\n",
              "      <td>0</td>\n",
              "      <td>0</td>\n",
              "      <td>...</td>\n",
              "      <td>0</td>\n",
              "      <td>0</td>\n",
              "      <td>0</td>\n",
              "      <td>0</td>\n",
              "      <td>0</td>\n",
              "      <td>0</td>\n",
              "      <td>0</td>\n",
              "      <td>0</td>\n",
              "      <td>0</td>\n",
              "      <td>0</td>\n",
              "    </tr>\n",
              "  </tbody>\n",
              "</table>\n",
              "<p>33984 rows × 11036 columns</p>\n",
              "</div>\n",
              "      <button class=\"colab-df-convert\" onclick=\"convertToInteractive('df-a0daf4e5-0f13-408c-89d6-36d233150317')\"\n",
              "              title=\"Convert this dataframe to an interactive table.\"\n",
              "              style=\"display:none;\">\n",
              "        \n",
              "  <svg xmlns=\"http://www.w3.org/2000/svg\" height=\"24px\"viewBox=\"0 0 24 24\"\n",
              "       width=\"24px\">\n",
              "    <path d=\"M0 0h24v24H0V0z\" fill=\"none\"/>\n",
              "    <path d=\"M18.56 5.44l.94 2.06.94-2.06 2.06-.94-2.06-.94-.94-2.06-.94 2.06-2.06.94zm-11 1L8.5 8.5l.94-2.06 2.06-.94-2.06-.94L8.5 2.5l-.94 2.06-2.06.94zm10 10l.94 2.06.94-2.06 2.06-.94-2.06-.94-.94-2.06-.94 2.06-2.06.94z\"/><path d=\"M17.41 7.96l-1.37-1.37c-.4-.4-.92-.59-1.43-.59-.52 0-1.04.2-1.43.59L10.3 9.45l-7.72 7.72c-.78.78-.78 2.05 0 2.83L4 21.41c.39.39.9.59 1.41.59.51 0 1.02-.2 1.41-.59l7.78-7.78 2.81-2.81c.8-.78.8-2.07 0-2.86zM5.41 20L4 18.59l7.72-7.72 1.47 1.35L5.41 20z\"/>\n",
              "  </svg>\n",
              "      </button>\n",
              "      \n",
              "  <style>\n",
              "    .colab-df-container {\n",
              "      display:flex;\n",
              "      flex-wrap:wrap;\n",
              "      gap: 12px;\n",
              "    }\n",
              "\n",
              "    .colab-df-convert {\n",
              "      background-color: #E8F0FE;\n",
              "      border: none;\n",
              "      border-radius: 50%;\n",
              "      cursor: pointer;\n",
              "      display: none;\n",
              "      fill: #1967D2;\n",
              "      height: 32px;\n",
              "      padding: 0 0 0 0;\n",
              "      width: 32px;\n",
              "    }\n",
              "\n",
              "    .colab-df-convert:hover {\n",
              "      background-color: #E2EBFA;\n",
              "      box-shadow: 0px 1px 2px rgba(60, 64, 67, 0.3), 0px 1px 3px 1px rgba(60, 64, 67, 0.15);\n",
              "      fill: #174EA6;\n",
              "    }\n",
              "\n",
              "    [theme=dark] .colab-df-convert {\n",
              "      background-color: #3B4455;\n",
              "      fill: #D2E3FC;\n",
              "    }\n",
              "\n",
              "    [theme=dark] .colab-df-convert:hover {\n",
              "      background-color: #434B5C;\n",
              "      box-shadow: 0px 1px 3px 1px rgba(0, 0, 0, 0.15);\n",
              "      filter: drop-shadow(0px 1px 2px rgba(0, 0, 0, 0.3));\n",
              "      fill: #FFFFFF;\n",
              "    }\n",
              "  </style>\n",
              "\n",
              "      <script>\n",
              "        const buttonEl =\n",
              "          document.querySelector('#df-a0daf4e5-0f13-408c-89d6-36d233150317 button.colab-df-convert');\n",
              "        buttonEl.style.display =\n",
              "          google.colab.kernel.accessAllowed ? 'block' : 'none';\n",
              "\n",
              "        async function convertToInteractive(key) {\n",
              "          const element = document.querySelector('#df-a0daf4e5-0f13-408c-89d6-36d233150317');\n",
              "          const dataTable =\n",
              "            await google.colab.kernel.invokeFunction('convertToInteractive',\n",
              "                                                     [key], {});\n",
              "          if (!dataTable) return;\n",
              "\n",
              "          const docLinkHtml = 'Like what you see? Visit the ' +\n",
              "            '<a target=\"_blank\" href=https://colab.research.google.com/notebooks/data_table.ipynb>data table notebook</a>'\n",
              "            + ' to learn more about interactive tables.';\n",
              "          element.innerHTML = '';\n",
              "          dataTable['output_type'] = 'display_data';\n",
              "          await google.colab.output.renderOutput(dataTable, element);\n",
              "          const docLink = document.createElement('div');\n",
              "          docLink.innerHTML = docLinkHtml;\n",
              "          element.appendChild(docLink);\n",
              "        }\n",
              "      </script>\n",
              "    </div>\n",
              "  </div>\n",
              "  "
            ]
          },
          "metadata": {},
          "execution_count": 15
        }
      ]
    },
    {
      "cell_type": "markdown",
      "source": [
        "###  Transform : Test data"
      ],
      "metadata": {
        "id": "3Ek0ayyEbAJf"
      }
    },
    {
      "cell_type": "code",
      "source": [
        "X_test_cv = count_vectorizer.transform(X_test)"
      ],
      "metadata": {
        "id": "kusEYpRQbFJ_"
      },
      "execution_count": 16,
      "outputs": []
    },
    {
      "cell_type": "markdown",
      "source": [
        "# Building and Evaluating the model\n"
      ],
      "metadata": {
        "id": "-nB8mIPcDl9U"
      }
    },
    {
      "cell_type": "markdown",
      "source": [
        "In order to make a prediction, the new observation must have the same features as the training observations, both in number and meaning."
      ],
      "metadata": {
        "id": "Sxgfr7aU_trU"
      }
    },
    {
      "cell_type": "code",
      "source": [
        "# 1.instantiate a Multinomial Naive Bayes model\n",
        "model = MultinomialNB()\n",
        "# 2.train the model \n",
        "# using X_train_cv(timing it)\n",
        "%time model.fit(X_train_cv, y_train)"
      ],
      "metadata": {
        "id": "MmFf7nLrD8fD",
        "colab": {
          "base_uri": "https://localhost:8080/"
        },
        "outputId": "f63cabbb-5788-4ed2-aa96-7a9c60ceffcb"
      },
      "execution_count": 17,
      "outputs": [
        {
          "output_type": "stream",
          "name": "stdout",
          "text": [
            "CPU times: user 4.73 s, sys: 0 ns, total: 4.73 s\n",
            "Wall time: 4.75 s\n"
          ]
        },
        {
          "output_type": "execute_result",
          "data": {
            "text/plain": [
              "MultinomialNB()"
            ]
          },
          "metadata": {},
          "execution_count": 17
        }
      ]
    },
    {
      "cell_type": "code",
      "source": [
        "# 3. make class predictions for X_test\n",
        "# transform x_test and use it to predict Y\n",
        "y_pred = model.predict(X_test_cv)"
      ],
      "metadata": {
        "id": "0zOBviOOEj4r"
      },
      "execution_count": 18,
      "outputs": []
    },
    {
      "cell_type": "code",
      "source": [
        "y_train= np.array(y_train)"
      ],
      "metadata": {
        "id": "F_m04DdfW2Qf"
      },
      "execution_count": 19,
      "outputs": []
    },
    {
      "cell_type": "markdown",
      "source": [
        "### Test and Tarin Score"
      ],
      "metadata": {
        "id": "mAZnsYGyTLRX"
      }
    },
    {
      "cell_type": "code",
      "source": [
        "print('Train Score:', model.score(X_train_cv, y_train))"
      ],
      "metadata": {
        "colab": {
          "base_uri": "https://localhost:8080/"
        },
        "id": "yoRZUk_wXYGm",
        "outputId": "7b2d5119-7f93-48fa-aa75-c7aaefc9e98a"
      },
      "execution_count": 20,
      "outputs": [
        {
          "output_type": "stream",
          "name": "stdout",
          "text": [
            "Train Score: 0.9937029190207156\n"
          ]
        }
      ]
    },
    {
      "cell_type": "code",
      "source": [
        "print('Test Score:', model.score(X_test_cv, y_test))"
      ],
      "metadata": {
        "colab": {
          "base_uri": "https://localhost:8080/"
        },
        "id": "aqCY5gnuXbPy",
        "outputId": "f6b6ce02-ef8e-4b09-92c2-c14b012002ce"
      },
      "execution_count": 21,
      "outputs": [
        {
          "output_type": "stream",
          "name": "stdout",
          "text": [
            "Test Score: 0.993271541366289\n"
          ]
        }
      ]
    },
    {
      "cell_type": "markdown",
      "source": [
        "### Performance Measures:"
      ],
      "metadata": {
        "id": "1yX4zMqDTRIE"
      }
    },
    {
      "cell_type": "code",
      "source": [
        "print('Test Accuracy:', metrics.accuracy_score(y_test, y_pred))\n",
        "print('F1 score:', metrics.f1_score(y_test, y_pred, average=\"macro\"))\n",
        "print('Confusion Matrix :', metrics.confusion_matrix(y_test, y_pred))"
      ],
      "metadata": {
        "colab": {
          "base_uri": "https://localhost:8080/"
        },
        "id": "Oc1eAQi2Emi9",
        "outputId": "d48a737f-42cd-43e4-b2ab-f812a7a90f76"
      },
      "execution_count": 22,
      "outputs": [
        {
          "output_type": "stream",
          "name": "stdout",
          "text": [
            "Test Accuracy: 0.993271541366289\n",
            "F1 score: 0.9917994568982254\n",
            "Confusion Matrix : [[ 4148    30]\n",
            " [   68 10319]]\n"
          ]
        }
      ]
    },
    {
      "cell_type": "code",
      "source": [
        "cm = metrics.confusion_matrix(y_test, y_pred)\n",
        "group_names = ['True Neg','False Pos','False Neg','True Pos']\n",
        "group_counts = [\"{0:0.0f}\".format(value) for value in\n",
        "                cm.flatten()]\n",
        "group_percentages = [\"{0:.2%}\".format(value) for value in\n",
        "                     cm.flatten()/np.sum(cm)]\n",
        "labels = [f\"{v1}\\n{v2}\\n{v3}\" for v1, v2, v3 in zip(group_names,group_counts,group_percentages)]\n",
        "labels = np.asarray(labels).reshape(2,2)\n",
        "sns.heatmap(cm,annot=labels, fmt='', cmap='Blues')"
      ],
      "metadata": {
        "colab": {
          "base_uri": "https://localhost:8080/",
          "height": 283
        },
        "id": "YTEm0k4srnr8",
        "outputId": "67ad48f1-4af9-4574-86ad-f47c9b90cd36"
      },
      "execution_count": 23,
      "outputs": [
        {
          "output_type": "execute_result",
          "data": {
            "text/plain": [
              "<matplotlib.axes._subplots.AxesSubplot at 0x7fae2eca8280>"
            ]
          },
          "metadata": {},
          "execution_count": 23
        },
        {
          "output_type": "display_data",
          "data": {
            "text/plain": [
              "<Figure size 432x288 with 2 Axes>"
            ],
            "image/png": "[encoded data removed]"
          },
          "metadata": {
            "needs_background": "light"
          }
        }
      ]
    },
    {
      "cell_type": "code",
      "source": [
        "print(metrics.classification_report(y_test, y_pred, target_names=[\"Calss 0\", \"Class 1\"]))"
      ],
      "metadata": {
        "colab": {
          "base_uri": "https://localhost:8080/"
        },
        "id": "MISmc_nCsTct",
        "outputId": "8eac0a1f-60a3-482f-b7e5-48bd4a5ef85f"
      },
      "execution_count": 24,
      "outputs": [
        {
          "output_type": "stream",
          "name": "stdout",
          "text": [
            "              precision    recall  f1-score   support\n",
            "\n",
            "     Calss 0       0.98      0.99      0.99      4178\n",
            "     Class 1       1.00      0.99      1.00     10387\n",
            "\n",
            "    accuracy                           0.99     14565\n",
            "   macro avg       0.99      0.99      0.99     14565\n",
            "weighted avg       0.99      0.99      0.99     14565\n",
            "\n"
          ]
        }
      ]
    }
  ]
}